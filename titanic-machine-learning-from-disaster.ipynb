{
 "cells": [
  {
   "cell_type": "code",
   "execution_count": 1,
   "id": "f453ece6",
   "metadata": {
    "_cell_guid": "b1076dfc-b9ad-4769-8c92-a6c4dae69d19",
    "_uuid": "8f2839f25d086af736a60e9eeb907d3b93b6e0e5",
    "execution": {
     "iopub.execute_input": "2024-10-17T22:23:31.497532Z",
     "iopub.status.busy": "2024-10-17T22:23:31.496642Z",
     "iopub.status.idle": "2024-10-17T22:23:32.865581Z",
     "shell.execute_reply": "2024-10-17T22:23:32.864606Z"
    },
    "papermill": {
     "duration": 1.388547,
     "end_time": "2024-10-17T22:23:32.868074",
     "exception": false,
     "start_time": "2024-10-17T22:23:31.479527",
     "status": "completed"
    },
    "tags": []
   },
   "outputs": [
    {
     "name": "stdout",
     "output_type": "stream",
     "text": [
      "/kaggle/input/titanic/train.csv\n",
      "/kaggle/input/titanic/test.csv\n",
      "/kaggle/input/titanic/gender_submission.csv\n"
     ]
    }
   ],
   "source": [
    "# This Python 3 environment comes with many helpful analytics libraries installed\n",
    "# It is defined by the kaggle/python Docker image: https://github.com/kaggle/docker-python\n",
    "# For example, here's several helpful packages to load\n",
    "\n",
    "import numpy as np # linear algebra\n",
    "import pandas as pd # data processing, CSV file I/O (e.g. pd.read_csv)\n",
    "\n",
    "# Input data files are available in the read-only \"../input/\" directory\n",
    "# For example, running this (by clicking run or pressing Shift+Enter) will list all files under the input directory\n",
    "\n",
    "import os\n",
    "for dirname, _, filenames in os.walk('/kaggle/input'):\n",
    "    for filename in filenames:\n",
    "        print(os.path.join(dirname, filename))\n",
    "\n",
    "# You can write up to 20GB to the current directory (/kaggle/working/) that gets preserved as output when you create a version using \"Save & Run All\" \n",
    "# You can also write temporary files to /kaggle/temp/, but they won't be saved outside of the current session"
   ]
  },
  {
   "cell_type": "markdown",
   "id": "c99cdaba",
   "metadata": {
    "papermill": {
     "duration": 0.015066,
     "end_time": "2024-10-17T22:23:32.899177",
     "exception": false,
     "start_time": "2024-10-17T22:23:32.884111",
     "status": "completed"
    },
    "tags": []
   },
   "source": [
    "# Table of Contest\n",
    "\n",
    "0. Collect & Clean Data\n",
    "1. Initial Modeling & Predictions"
   ]
  },
  {
   "cell_type": "markdown",
   "id": "caa65990",
   "metadata": {
    "papermill": {
     "duration": 0.014789,
     "end_time": "2024-10-17T22:23:32.929153",
     "exception": false,
     "start_time": "2024-10-17T22:23:32.914364",
     "status": "completed"
    },
    "tags": []
   },
   "source": [
    "## 0. Collect & Clean Data\n",
    "\n",
    "Based on preliminary analysis it appears that the submission would include predictions equated to the `test.csv` data, and a model should be built on the `train.csv` data. Based on description from competition, the `gender_submission.csv` describes how the submission csv should look."
   ]
  },
  {
   "cell_type": "code",
   "execution_count": 2,
   "id": "d1d9a8d3",
   "metadata": {
    "execution": {
     "iopub.execute_input": "2024-10-17T22:23:32.960522Z",
     "iopub.status.busy": "2024-10-17T22:23:32.959592Z",
     "iopub.status.idle": "2024-10-17T22:23:32.990917Z",
     "shell.execute_reply": "2024-10-17T22:23:32.990052Z"
    },
    "papermill": {
     "duration": 0.049043,
     "end_time": "2024-10-17T22:23:32.992818",
     "exception": false,
     "start_time": "2024-10-17T22:23:32.943775",
     "status": "completed"
    },
    "tags": []
   },
   "outputs": [
    {
     "data": {
      "text/plain": [
       "891"
      ]
     },
     "execution_count": 2,
     "metadata": {},
     "output_type": "execute_result"
    }
   ],
   "source": [
    "# Collecting the data\n",
    "titanic_train = pd.read_csv('/kaggle/input/titanic/train.csv')\n",
    "len(titanic_train)"
   ]
  },
  {
   "cell_type": "code",
   "execution_count": 3,
   "id": "96d518ec",
   "metadata": {
    "execution": {
     "iopub.execute_input": "2024-10-17T22:23:33.023936Z",
     "iopub.status.busy": "2024-10-17T22:23:33.023601Z",
     "iopub.status.idle": "2024-10-17T22:23:33.037637Z",
     "shell.execute_reply": "2024-10-17T22:23:33.036659Z"
    },
    "papermill": {
     "duration": 0.032146,
     "end_time": "2024-10-17T22:23:33.039856",
     "exception": false,
     "start_time": "2024-10-17T22:23:33.007710",
     "status": "completed"
    },
    "tags": []
   },
   "outputs": [
    {
     "data": {
      "text/plain": [
       "PassengerId      int64\n",
       "Survived         int64\n",
       "Pclass           int64\n",
       "Name            object\n",
       "Sex             object\n",
       "Age            float64\n",
       "SibSp            int64\n",
       "Parch            int64\n",
       "Ticket          object\n",
       "Fare           float64\n",
       "Cabin           object\n",
       "Embarked        object\n",
       "dtype: object"
      ]
     },
     "execution_count": 3,
     "metadata": {},
     "output_type": "execute_result"
    }
   ],
   "source": [
    "# Check the btype of the columns\n",
    "titanic_train.dtypes"
   ]
  },
  {
   "cell_type": "markdown",
   "id": "b85d51e8",
   "metadata": {
    "papermill": {
     "duration": 0.014025,
     "end_time": "2024-10-17T22:23:33.068903",
     "exception": false,
     "start_time": "2024-10-17T22:23:33.054878",
     "status": "completed"
    },
    "tags": []
   },
   "source": [
    "Based on the dtypes of the training data we should be able to make some quick decisions about how to handle the data.\n",
    "\n",
    "1. Name can be removed (we do not need to train any model on the name of the passenger)\n",
    "2. PassengerId should also be removed as they are unique and not indicative of a pattern\n",
    "3. Columns that are of dtype int64 or float64 should be fine to analyze\n",
    "4. We could use `OneHotEncoder` and `ColumnTransformer` to convert the object values into numbers"
   ]
  },
  {
   "cell_type": "markdown",
   "id": "8d5712fc",
   "metadata": {
    "papermill": {
     "duration": 0.014002,
     "end_time": "2024-10-17T22:23:33.096791",
     "exception": false,
     "start_time": "2024-10-17T22:23:33.082789",
     "status": "completed"
    },
    "tags": []
   },
   "source": [
    "We can find a proper model to use using the [sklearn machine learning map](https://scikit-learn.org/1.5/machine_learning_map.html). Since we have training data that contains 891 rows, we're looking to make a classification, and have labeled data our first model we use should be `Linear SVC`. Since the map recommends `LinearSVC`, we know that the model doesn't work with `NaN` values, so we need to check to see if null values exist in this data set."
   ]
  },
  {
   "cell_type": "code",
   "execution_count": 4,
   "id": "96a3a039",
   "metadata": {
    "execution": {
     "iopub.execute_input": "2024-10-17T22:23:33.126984Z",
     "iopub.status.busy": "2024-10-17T22:23:33.126396Z",
     "iopub.status.idle": "2024-10-17T22:23:33.139338Z",
     "shell.execute_reply": "2024-10-17T22:23:33.138383Z"
    },
    "papermill": {
     "duration": 0.030418,
     "end_time": "2024-10-17T22:23:33.141378",
     "exception": false,
     "start_time": "2024-10-17T22:23:33.110960",
     "status": "completed"
    },
    "tags": []
   },
   "outputs": [
    {
     "data": {
      "text/plain": [
       "PassengerId      0\n",
       "Survived         0\n",
       "Pclass           0\n",
       "Name             0\n",
       "Sex              0\n",
       "Age            177\n",
       "SibSp            0\n",
       "Parch            0\n",
       "Ticket           0\n",
       "Fare             0\n",
       "Cabin          687\n",
       "Embarked         2\n",
       "dtype: int64"
      ]
     },
     "execution_count": 4,
     "metadata": {},
     "output_type": "execute_result"
    }
   ],
   "source": [
    "titanic_train.isna().sum()"
   ]
  },
  {
   "cell_type": "markdown",
   "id": "3f571cb2",
   "metadata": {
    "papermill": {
     "duration": 0.014295,
     "end_time": "2024-10-17T22:23:33.170295",
     "exception": false,
     "start_time": "2024-10-17T22:23:33.156000",
     "status": "completed"
    },
    "tags": []
   },
   "source": [
    "Because there are so many null values in very specific columns, (one column is an object while the other is numeric) it might be better to go with a different estimator at first. I've ran some code ahead of this and was provided a warning that `LinearSVC` doesn't accept `NaN` values. This should be dealt with in the pipeline using an `imputer` function.\n",
    "\n",
    "Next item, there were unknown columns found during fitting, and so I would like to look into some of the columns to see if I can identify where these are coming from."
   ]
  },
  {
   "cell_type": "code",
   "execution_count": 5,
   "id": "67761bac",
   "metadata": {
    "execution": {
     "iopub.execute_input": "2024-10-17T22:23:33.200211Z",
     "iopub.status.busy": "2024-10-17T22:23:33.199938Z",
     "iopub.status.idle": "2024-10-17T22:23:33.213123Z",
     "shell.execute_reply": "2024-10-17T22:23:33.212211Z"
    },
    "papermill": {
     "duration": 0.030254,
     "end_time": "2024-10-17T22:23:33.215100",
     "exception": false,
     "start_time": "2024-10-17T22:23:33.184846",
     "status": "completed"
    },
    "tags": []
   },
   "outputs": [
    {
     "data": {
      "text/plain": [
       "array(['A/5 21171', 'PC 17599', 'STON/O2. 3101282', '113803', '373450',\n",
       "       '330877', '17463', '349909', '347742', '237736', 'PP 9549',\n",
       "       '113783', 'A/5. 2151', '347082', '350406', '248706', '382652',\n",
       "       '244373', '345763', '2649', '239865', '248698', '330923', '113788',\n",
       "       '347077', '2631', '19950', '330959', '349216', 'PC 17601',\n",
       "       'PC 17569', '335677', 'C.A. 24579', 'PC 17604', '113789', '2677',\n",
       "       'A./5. 2152', '345764', '2651', '7546', '11668', '349253',\n",
       "       'SC/Paris 2123', '330958', 'S.C./A.4. 23567', '370371', '14311',\n",
       "       '2662', '349237'], dtype=object)"
      ]
     },
     "execution_count": 5,
     "metadata": {},
     "output_type": "execute_result"
    }
   ],
   "source": [
    "titanic_train['Ticket'].head(n=50).unique()"
   ]
  },
  {
   "cell_type": "code",
   "execution_count": 6,
   "id": "0ae3c0cb",
   "metadata": {
    "execution": {
     "iopub.execute_input": "2024-10-17T22:23:33.245015Z",
     "iopub.status.busy": "2024-10-17T22:23:33.244223Z",
     "iopub.status.idle": "2024-10-17T22:23:33.251239Z",
     "shell.execute_reply": "2024-10-17T22:23:33.250401Z"
    },
    "papermill": {
     "duration": 0.024175,
     "end_time": "2024-10-17T22:23:33.253198",
     "exception": false,
     "start_time": "2024-10-17T22:23:33.229023",
     "status": "completed"
    },
    "tags": []
   },
   "outputs": [
    {
     "data": {
      "text/plain": [
       "(891, 681)"
      ]
     },
     "execution_count": 6,
     "metadata": {},
     "output_type": "execute_result"
    }
   ],
   "source": [
    "len(titanic_train['Ticket']), len(titanic_train['Ticket'].unique())"
   ]
  },
  {
   "cell_type": "markdown",
   "id": "273e4480",
   "metadata": {
    "papermill": {
     "duration": 0.014415,
     "end_time": "2024-10-17T22:23:33.282505",
     "exception": false,
     "start_time": "2024-10-17T22:23:33.268090",
     "status": "completed"
    },
    "tags": []
   },
   "source": [
    "The `Ticket` values appear to be very inconsistent and might make our models chock without adding any additional value. There might be some inherent information that is beneficial to determining whether a person died or not, if so it might have something to do with the duplicate values, but as of our initial validation and modeling we should probably ignore them. The same could be said for unique "
   ]
  },
  {
   "cell_type": "code",
   "execution_count": 7,
   "id": "18804168",
   "metadata": {
    "execution": {
     "iopub.execute_input": "2024-10-17T22:23:33.313872Z",
     "iopub.status.busy": "2024-10-17T22:23:33.313581Z",
     "iopub.status.idle": "2024-10-17T22:23:33.320694Z",
     "shell.execute_reply": "2024-10-17T22:23:33.319794Z"
    },
    "papermill": {
     "duration": 0.025129,
     "end_time": "2024-10-17T22:23:33.322698",
     "exception": false,
     "start_time": "2024-10-17T22:23:33.297569",
     "status": "completed"
    },
    "tags": []
   },
   "outputs": [
    {
     "data": {
      "text/plain": [
       "array([nan, 'C85', 'C123', 'E46', 'G6', 'C103', 'D56', 'A6',\n",
       "       'C23 C25 C27', 'B78', 'D33', 'B30', 'C52', 'B28', 'C83', 'F33',\n",
       "       'F G73', 'E31', 'A5', 'D10 D12', 'D26', 'C110', 'B58 B60', 'E101',\n",
       "       'F E69', 'D47', 'B86', 'F2', 'C2', 'E33', 'B19', 'A7', 'C49', 'F4',\n",
       "       'A32', 'B4', 'B80', 'A31', 'D36', 'D15', 'C93', 'C78', 'D35',\n",
       "       'C87', 'B77', 'E67', 'B94', 'C125', 'C99', 'C118', 'D7', 'A19',\n",
       "       'B49', 'D', 'C22 C26', 'C106', 'C65', 'E36', 'C54',\n",
       "       'B57 B59 B63 B66', 'C7', 'E34', 'C32', 'B18', 'C124', 'C91', 'E40',\n",
       "       'T', 'C128', 'D37', 'B35', 'E50', 'C82', 'B96 B98', 'E10', 'E44',\n",
       "       'A34', 'C104', 'C111', 'C92', 'E38', 'D21', 'E12', 'E63', 'A14',\n",
       "       'B37', 'C30', 'D20', 'B79', 'E25', 'D46', 'B73', 'C95', 'B38',\n",
       "       'B39', 'B22', 'C86', 'C70', 'A16', 'C101', 'C68', 'A10', 'E68',\n",
       "       'B41', 'A20', 'D19', 'D50', 'D9', 'A23', 'B50', 'A26', 'D48',\n",
       "       'E58', 'C126', 'B71', 'B51 B53 B55', 'D49', 'B5', 'B20', 'F G63',\n",
       "       'C62 C64', 'E24', 'C90', 'C45', 'E8', 'B101', 'D45', 'C46', 'D30',\n",
       "       'E121', 'D11', 'E77', 'F38', 'B3', 'D6', 'B82 B84', 'D17', 'A36',\n",
       "       'B102', 'B69', 'E49', 'C47', 'D28', 'E17', 'A24', 'C50', 'B42',\n",
       "       'C148'], dtype=object)"
      ]
     },
     "execution_count": 7,
     "metadata": {},
     "output_type": "execute_result"
    }
   ],
   "source": [
    "titanic_train['Cabin'].unique()"
   ]
  },
  {
   "cell_type": "code",
   "execution_count": 8,
   "id": "3caef6e8",
   "metadata": {
    "execution": {
     "iopub.execute_input": "2024-10-17T22:23:33.355013Z",
     "iopub.status.busy": "2024-10-17T22:23:33.354706Z",
     "iopub.status.idle": "2024-10-17T22:23:33.361012Z",
     "shell.execute_reply": "2024-10-17T22:23:33.360120Z"
    },
    "papermill": {
     "duration": 0.024976,
     "end_time": "2024-10-17T22:23:33.363015",
     "exception": false,
     "start_time": "2024-10-17T22:23:33.338039",
     "status": "completed"
    },
    "tags": []
   },
   "outputs": [
    {
     "data": {
      "text/plain": [
       "(891, 148)"
      ]
     },
     "execution_count": 8,
     "metadata": {},
     "output_type": "execute_result"
    }
   ],
   "source": [
    "len(titanic_train['Cabin']),len(titanic_train['Cabin'].unique())"
   ]
  },
  {
   "cell_type": "markdown",
   "id": "69b23b98",
   "metadata": {
    "papermill": {
     "duration": 0.014775,
     "end_time": "2024-10-17T22:23:33.393297",
     "exception": false,
     "start_time": "2024-10-17T22:23:33.378522",
     "status": "completed"
    },
    "tags": []
   },
   "source": [
    "the `Cabin` column has values that are highly unique like the `Ticket` values, but are much more consistent and may actually have some barring on whether someone survives or not (certain cabins may have a higher liklihood or death based on how the titanic sunk as an example). This can be done by separating the cabin values into their categorical alphabetic value and their numeric number value. This should be done using a function so that it can be done easily to the test data once training is complete"
   ]
  },
  {
   "cell_type": "code",
   "execution_count": 9,
   "id": "6fd76a28",
   "metadata": {
    "execution": {
     "iopub.execute_input": "2024-10-17T22:23:33.426434Z",
     "iopub.status.busy": "2024-10-17T22:23:33.426087Z",
     "iopub.status.idle": "2024-10-17T22:23:33.431340Z",
     "shell.execute_reply": "2024-10-17T22:23:33.430524Z"
    },
    "papermill": {
     "duration": 0.024217,
     "end_time": "2024-10-17T22:23:33.433358",
     "exception": false,
     "start_time": "2024-10-17T22:23:33.409141",
     "status": "completed"
    },
    "tags": []
   },
   "outputs": [],
   "source": [
    "# function to clean the dataset. Will be expanded on as more cleaning is needed\n",
    "def clean_df(df):\n",
    "    \n",
    "    # Split the Cabin values into a A-Z and 0-9 columns\n",
    "    df['Cabin_ABC'] = df['Cabin'].str.extract(r'([A-Za-z]+)',expand=False)\n",
    "    df['Cabin_Num'] = df['Cabin'].str.extract(r'(\\d+)',expand=False).astype('Float64')\n",
    "    \n",
    "    return df"
   ]
  },
  {
   "cell_type": "code",
   "execution_count": 10,
   "id": "6841581e",
   "metadata": {
    "execution": {
     "iopub.execute_input": "2024-10-17T22:23:33.463635Z",
     "iopub.status.busy": "2024-10-17T22:23:33.463356Z",
     "iopub.status.idle": "2024-10-17T22:23:33.470736Z",
     "shell.execute_reply": "2024-10-17T22:23:33.469832Z"
    },
    "papermill": {
     "duration": 0.024949,
     "end_time": "2024-10-17T22:23:33.472978",
     "exception": false,
     "start_time": "2024-10-17T22:23:33.448029",
     "status": "completed"
    },
    "tags": []
   },
   "outputs": [],
   "source": [
    "# Clean the dataframe before going onto the next step\n",
    "titanic_clean = clean_df(titanic_train)"
   ]
  },
  {
   "cell_type": "markdown",
   "id": "7360f9c9",
   "metadata": {
    "papermill": {
     "duration": 0.014863,
     "end_time": "2024-10-17T22:23:33.503477",
     "exception": false,
     "start_time": "2024-10-17T22:23:33.488614",
     "status": "completed"
    },
    "tags": []
   },
   "source": [
    "## 1. Initial Modeling & Hyperparameters"
   ]
  },
  {
   "cell_type": "markdown",
   "id": "dcf18b1a",
   "metadata": {
    "papermill": {
     "duration": 0.014856,
     "end_time": "2024-10-17T22:23:33.534037",
     "exception": false,
     "start_time": "2024-10-17T22:23:33.519181",
     "status": "completed"
    },
    "tags": []
   },
   "source": [
    "### 1.1 Creating a data pipeline & making initial validations\n",
    "\n",
    "A good way to tackle this would be to make a pipeline that we can use whenever we want to fig data. If we determine we need to use a different model we can adjust it later."
   ]
  },
  {
   "cell_type": "code",
   "execution_count": 11,
   "id": "b596a438",
   "metadata": {
    "execution": {
     "iopub.execute_input": "2024-10-17T22:23:33.566840Z",
     "iopub.status.busy": "2024-10-17T22:23:33.566490Z",
     "iopub.status.idle": "2024-10-17T22:23:35.967688Z",
     "shell.execute_reply": "2024-10-17T22:23:35.966794Z"
    },
    "papermill": {
     "duration": 2.42036,
     "end_time": "2024-10-17T22:23:35.969970",
     "exception": false,
     "start_time": "2024-10-17T22:23:33.549610",
     "status": "completed"
    },
    "tags": []
   },
   "outputs": [],
   "source": [
    "# import the modules that we will be using for the next couple of stages\n",
    "from sklearn.preprocessing import OneHotEncoder\n",
    "from sklearn.compose import ColumnTransformer\n",
    "from sklearn.impute import SimpleImputer\n",
    "from sklearn.pipeline import Pipeline\n",
    "from sklearn import svm"
   ]
  },
  {
   "cell_type": "code",
   "execution_count": 12,
   "id": "6663390d",
   "metadata": {
    "execution": {
     "iopub.execute_input": "2024-10-17T22:23:36.002114Z",
     "iopub.status.busy": "2024-10-17T22:23:36.001657Z",
     "iopub.status.idle": "2024-10-17T22:23:36.007852Z",
     "shell.execute_reply": "2024-10-17T22:23:36.006970Z"
    },
    "papermill": {
     "duration": 0.023908,
     "end_time": "2024-10-17T22:23:36.009828",
     "exception": false,
     "start_time": "2024-10-17T22:23:35.985920",
     "status": "completed"
    },
    "tags": []
   },
   "outputs": [],
   "source": [
    "# Organize the categorial and numerical columns\n",
    "categorical_features = ['Sex','Embarked']\n",
    "numerical_features = ['Cabin_Num','Pclass','Age','SibSp','Parch','Fare']\n",
    "\n",
    "# Create the preprocessor using OneHotEncoder and ColumnTransformer\n",
    "preprocessor = ColumnTransformer(\n",
    "    transformers=[\n",
    "        ('cat',OneHotEncoder(),categorical_features),\n",
    "        ('num',SimpleImputer(strategy='mean'),numerical_features)\n",
    "    ])\n",
    "\n",
    "# Add the LinearSVC model to the model pipeline\n",
    "model_pipeline = Pipeline(steps=[\n",
    "    ('preprocessor',preprocessor),\n",
    "    ('classifier',svm.SVC())\n",
    "])"
   ]
  },
  {
   "cell_type": "markdown",
   "id": "833379b4",
   "metadata": {
    "papermill": {
     "duration": 0.014588,
     "end_time": "2024-10-17T22:23:36.038852",
     "exception": false,
     "start_time": "2024-10-17T22:23:36.024264",
     "status": "completed"
    },
    "tags": []
   },
   "source": [
    "Next we could make a function to evaluate the predictions that are generated in the initial validation period before the training is to occur. As a note, we are going to split the training material into three parts (training,validation, and testing). This will breakdown into 70:15:15 ratios. The goal is to use the 15% validation set to help determine how best to tweak the hyperparameters, then using the test set on the training set once fitting has occurred. We will do this by making a function to spit out the metric scores of the initial validation, but if more improvements need to be made we should have room for that. I'm going to be doing this by taking all metrics of a specific validated model (a metric dictionary) and adding it to a larger universal dictionary for plotting comparisons later."
   ]
  },
  {
   "cell_type": "code",
   "execution_count": 13,
   "id": "e582a190",
   "metadata": {
    "execution": {
     "iopub.execute_input": "2024-10-17T22:23:36.070053Z",
     "iopub.status.busy": "2024-10-17T22:23:36.069740Z",
     "iopub.status.idle": "2024-10-17T22:23:36.074108Z",
     "shell.execute_reply": "2024-10-17T22:23:36.073252Z"
    },
    "papermill": {
     "duration": 0.022189,
     "end_time": "2024-10-17T22:23:36.076018",
     "exception": false,
     "start_time": "2024-10-17T22:23:36.053829",
     "status": "completed"
    },
    "tags": []
   },
   "outputs": [],
   "source": [
    "# import additional modules\n",
    "from sklearn.metrics import accuracy_score,precision_score,recall_score,f1_score\n",
    "\n",
    "# initialize the validation dictionary\n",
    "metric_valid_dict = {}"
   ]
  },
  {
   "cell_type": "code",
   "execution_count": 14,
   "id": "08b024a6",
   "metadata": {
    "execution": {
     "iopub.execute_input": "2024-10-17T22:23:36.106691Z",
     "iopub.status.busy": "2024-10-17T22:23:36.106387Z",
     "iopub.status.idle": "2024-10-17T22:23:36.112848Z",
     "shell.execute_reply": "2024-10-17T22:23:36.112052Z"
    },
    "papermill": {
     "duration": 0.024018,
     "end_time": "2024-10-17T22:23:36.114686",
     "exception": false,
     "start_time": "2024-10-17T22:23:36.090668",
     "status": "completed"
    },
    "tags": []
   },
   "outputs": [],
   "source": [
    "# Function to take the true and predicted values and provide scoring\n",
    "def evaluate_preds(true,preds):\n",
    "    \"\"\"\n",
    "    Performs evalution comparisons on y_true values vs. y_pred values on a classification.\n",
    "    \"\"\"\n",
    "    \n",
    "    # create a dictionary of scoring values\n",
    "    metric_dict = {\n",
    "        'accuracy':round(accuracy_score(true,preds),2),\n",
    "        'precision':round(precision_score(true,preds),2),\n",
    "        'recall':round(recall_score(true,preds),2),\n",
    "        'f1':round(f1_score(true,preds),2)\n",
    "    }\n",
    "    \n",
    "    # print the calculated metrics\n",
    "    for item in metric_dict:\n",
    "        if item == 'accuracy':\n",
    "            print(f'{item}: {metric_dict[item]*100:.2f}%')\n",
    "        else:\n",
    "            print(f'{item}: {metric_dict[item]:.2f}')\n",
    "    \n",
    "    return metric_dict"
   ]
  },
  {
   "cell_type": "code",
   "execution_count": 15,
   "id": "2d3bfc01",
   "metadata": {
    "execution": {
     "iopub.execute_input": "2024-10-17T22:23:36.145275Z",
     "iopub.status.busy": "2024-10-17T22:23:36.144190Z",
     "iopub.status.idle": "2024-10-17T22:23:36.163078Z",
     "shell.execute_reply": "2024-10-17T22:23:36.162119Z"
    },
    "papermill": {
     "duration": 0.036403,
     "end_time": "2024-10-17T22:23:36.165424",
     "exception": false,
     "start_time": "2024-10-17T22:23:36.129021",
     "status": "completed"
    },
    "tags": []
   },
   "outputs": [],
   "source": [
    "# Split the data into train,validation,test sets at a rate of (70:15:15)\n",
    "titanic_shuffled = titanic_train.sample(frac=1)\n",
    "X = titanic_shuffled.drop('Survived',axis=1)\n",
    "y = titanic_shuffled['Survived']\n",
    "train_split = round(0.7 * len(titanic_shuffled))\n",
    "valid_split = round(train_split + 0.15 * len(titanic_shuffled))\n",
    "X_train,y_train = X[:train_split],y[:train_split]\n",
    "X_valid,y_valid = X[train_split:valid_split],y[train_split:valid_split]\n",
    "X_test,y_test = X[valid_split:],y[valid_split:]"
   ]
  },
  {
   "cell_type": "code",
   "execution_count": 16,
   "id": "308edc2d",
   "metadata": {
    "execution": {
     "iopub.execute_input": "2024-10-17T22:23:36.198028Z",
     "iopub.status.busy": "2024-10-17T22:23:36.197131Z",
     "iopub.status.idle": "2024-10-17T22:23:36.249170Z",
     "shell.execute_reply": "2024-10-17T22:23:36.247942Z"
    },
    "papermill": {
     "duration": 0.069904,
     "end_time": "2024-10-17T22:23:36.251254",
     "exception": false,
     "start_time": "2024-10-17T22:23:36.181350",
     "status": "completed"
    },
    "tags": []
   },
   "outputs": [
    {
     "name": "stdout",
     "output_type": "stream",
     "text": [
      "accuracy: 72.00%\n",
      "precision: 0.56\n",
      "recall: 0.46\n",
      "f1: 0.51\n"
     ]
    }
   ],
   "source": [
    "# Instantiate the chosen model for later analysis\n",
    "model_pipeline.fit(X_train,y_train)\n",
    "\n",
    "# Make baseline predictions\n",
    "y_preds = model_pipeline.predict(X_valid)\n",
    "\n",
    "# Evaluate the classifier on validation set\n",
    "metric_valid_dict.update({'baseline':evaluate_preds(y_valid,y_preds)})"
   ]
  },
  {
   "cell_type": "markdown",
   "id": "b1435ef8",
   "metadata": {
    "papermill": {
     "duration": 0.014448,
     "end_time": "2024-10-17T22:23:36.281259",
     "exception": false,
     "start_time": "2024-10-17T22:23:36.266811",
     "status": "completed"
    },
    "tags": []
   },
   "source": [
    "Despite this being a success, it is also a really low score which shows how necessary it is now to start Validating and hypertuning"
   ]
  },
  {
   "cell_type": "markdown",
   "id": "6dbb0820",
   "metadata": {
    "papermill": {
     "duration": 0.014506,
     "end_time": "2024-10-17T22:23:36.310575",
     "exception": false,
     "start_time": "2024-10-17T22:23:36.296069",
     "status": "completed"
    },
    "tags": []
   },
   "source": [
    "## 2. Hypertuning & Metric Scoring"
   ]
  },
  {
   "cell_type": "markdown",
   "id": "8775a4e2",
   "metadata": {
    "papermill": {
     "duration": 0.014397,
     "end_time": "2024-10-17T22:23:36.339569",
     "exception": false,
     "start_time": "2024-10-17T22:23:36.325172",
     "status": "completed"
    },
    "tags": []
   },
   "source": [
    "Because of the complications that have arisen due to additional resources needed, I will try shifting from a sci-kit learn framework to a tensorflow framework."
   ]
  },
  {
   "cell_type": "code",
   "execution_count": 17,
   "id": "e6552c3c",
   "metadata": {
    "execution": {
     "iopub.execute_input": "2024-10-17T22:23:36.371785Z",
     "iopub.status.busy": "2024-10-17T22:23:36.370995Z",
     "iopub.status.idle": "2024-10-17T22:23:36.375244Z",
     "shell.execute_reply": "2024-10-17T22:23:36.374407Z"
    },
    "papermill": {
     "duration": 0.022309,
     "end_time": "2024-10-17T22:23:36.377207",
     "exception": false,
     "start_time": "2024-10-17T22:23:36.354898",
     "status": "completed"
    },
    "tags": []
   },
   "outputs": [],
   "source": [
    "from sklearn.preprocessing import StandardScaler"
   ]
  },
  {
   "cell_type": "code",
   "execution_count": 18,
   "id": "60dcbb11",
   "metadata": {
    "execution": {
     "iopub.execute_input": "2024-10-17T22:23:36.407971Z",
     "iopub.status.busy": "2024-10-17T22:23:36.407657Z",
     "iopub.status.idle": "2024-10-17T22:23:36.413462Z",
     "shell.execute_reply": "2024-10-17T22:23:36.412529Z"
    },
    "papermill": {
     "duration": 0.023507,
     "end_time": "2024-10-17T22:23:36.415365",
     "exception": false,
     "start_time": "2024-10-17T22:23:36.391858",
     "status": "completed"
    },
    "tags": []
   },
   "outputs": [],
   "source": [
    "def preprocess_data(data,categorical_features=['Sex','Embarked'],numerical_features=['Cabin_Num','Pclass','Age','SibSp','Parch','Fare']):\n",
    "\n",
    "    # Create the preprocessor using OneHotEncoder and ColumnTransformer\n",
    "    preprocessor = ColumnTransformer(\n",
    "        transformers=[\n",
    "            ('cat',OneHotEncoder(),categorical_features),\n",
    "            ('num',Pipeline(steps=[\n",
    "                ('imputer',SimpleImputer(strategy='mean')),\n",
    "                ('scaler',StandardScaler())\n",
    "            ]),numerical_features)\n",
    "        ])\n",
    "\n",
    "    # transform the X_train into a csr matrix to pass into a new tensorflow workflow\n",
    "    return preprocessor"
   ]
  },
  {
   "cell_type": "code",
   "execution_count": 19,
   "id": "db31825b",
   "metadata": {
    "execution": {
     "iopub.execute_input": "2024-10-17T22:23:36.445991Z",
     "iopub.status.busy": "2024-10-17T22:23:36.445692Z",
     "iopub.status.idle": "2024-10-17T22:23:36.480635Z",
     "shell.execute_reply": "2024-10-17T22:23:36.479722Z"
    },
    "papermill": {
     "duration": 0.052787,
     "end_time": "2024-10-17T22:23:36.482795",
     "exception": false,
     "start_time": "2024-10-17T22:23:36.430008",
     "status": "completed"
    },
    "tags": []
   },
   "outputs": [
    {
     "data": {
      "text/plain": [
       "((624, 12), (133, 12), (134, 12))"
      ]
     },
     "execution_count": 19,
     "metadata": {},
     "output_type": "execute_result"
    }
   ],
   "source": [
    "# Define columns to keep in the preprocessor\n",
    "categorical_features=['Sex','Embarked']\n",
    "numerical_features=['Cabin_Num','Pclass','Age','SibSp','Parch','Fare']\n",
    "\n",
    "# Create the preprocessor using OneHotEncoder and ColumnTransformer\n",
    "preprocessor = ColumnTransformer(\n",
    "    transformers=[\n",
    "        ('cat',OneHotEncoder(),categorical_features),\n",
    "        ('num',Pipeline(steps=[\n",
    "            ('imputer',SimpleImputer(strategy='mean')),\n",
    "            ('scaler',StandardScaler())\n",
    "        ]),numerical_features)\n",
    "    ])\n",
    "\n",
    "# Fit the preprocessor to all the cleaned data\n",
    "preprocessor.fit_transform(titanic_clean)\n",
    "\n",
    "# Transform X_train and X_test on the fit transformation\n",
    "X_train_preprocessed = preprocessor.transform(X_train)\n",
    "X_test_preprocessed = preprocessor.transform(X_test)\n",
    "X_valid_preprocessed = preprocessor.transform(X_valid)\n",
    "\n",
    "# Check the chapes\n",
    "X_train_preprocessed.shape,X_test_preprocessed.shape,X_valid_preprocessed.shape"
   ]
  },
  {
   "cell_type": "markdown",
   "id": "3654d321",
   "metadata": {
    "papermill": {
     "duration": 0.015587,
     "end_time": "2024-10-17T22:23:36.513788",
     "exception": false,
     "start_time": "2024-10-17T22:23:36.498201",
     "status": "completed"
    },
    "tags": []
   },
   "source": [
    "Next we need to import the tensorflow libraries and begin building the new framework"
   ]
  },
  {
   "cell_type": "code",
   "execution_count": 20,
   "id": "9f4fe9c5",
   "metadata": {
    "execution": {
     "iopub.execute_input": "2024-10-17T22:23:36.545202Z",
     "iopub.status.busy": "2024-10-17T22:23:36.544862Z",
     "iopub.status.idle": "2024-10-17T22:23:55.997572Z",
     "shell.execute_reply": "2024-10-17T22:23:55.996686Z"
    },
    "papermill": {
     "duration": 19.47138,
     "end_time": "2024-10-17T22:23:55.999960",
     "exception": false,
     "start_time": "2024-10-17T22:23:36.528580",
     "status": "completed"
    },
    "tags": []
   },
   "outputs": [],
   "source": [
    "import tensorflow as tf\n",
    "from tensorflow.keras import layers,models,regularizers"
   ]
  },
  {
   "cell_type": "markdown",
   "id": "5303d72c",
   "metadata": {
    "papermill": {
     "duration": 0.014205,
     "end_time": "2024-10-17T22:23:56.029439",
     "exception": false,
     "start_time": "2024-10-17T22:23:56.015234",
     "status": "completed"
    },
    "tags": []
   },
   "source": [
    "Next we should build a function to help build a model using tensorflow so we can make the building model process more customizable as we progress"
   ]
  },
  {
   "cell_type": "code",
   "execution_count": 21,
   "id": "b069d366",
   "metadata": {
    "execution": {
     "iopub.execute_input": "2024-10-17T22:23:56.062586Z",
     "iopub.status.busy": "2024-10-17T22:23:56.061898Z",
     "iopub.status.idle": "2024-10-17T22:23:56.072017Z",
     "shell.execute_reply": "2024-10-17T22:23:56.071195Z"
    },
    "papermill": {
     "duration": 0.029301,
     "end_time": "2024-10-17T22:23:56.073969",
     "exception": false,
     "start_time": "2024-10-17T22:23:56.044668",
     "status": "completed"
    },
    "tags": []
   },
   "outputs": [],
   "source": [
    "# Function with fiddly knobs that can be used to generate a tensorflow model and make improvements overtime\n",
    "def build_model(\n",
    "    input_shape,num_layers=2,units_per_layer=[128,64],\n",
    "    activation='relu',dropout_rate=0.5,\n",
    "    regularization=None,learning_rate=0.001):\n",
    "    \n",
    "    # Initialize the model\n",
    "    model = models.Sequential()\n",
    "    \n",
    "    # Generate the input layer\n",
    "    model.add(layers.Dense(units_per_layer[0],activation=activation,\n",
    "                           input_shape=(input_shape,),\n",
    "                           kernel_regularizer=regularizers.l2(regularization) if regularization else None))\n",
    "    \n",
    "    # Optional dropout after the first layer\n",
    "    if dropout_rate:\n",
    "        model.add(layers.Dropout(dropout_rate))\n",
    "    \n",
    "    # Add hidden layers dynamically based on the num_layers and units_per_layer\n",
    "    for i in range(1,num_layers):\n",
    "        model.add(layers.Dense(units_per_layer[i],activation=activation,\n",
    "                               kernel_regularizer=regularizers.l2(regularization) if regularization else None))\n",
    "        if dropout_rate:\n",
    "            model.add(layers.Dropout(dropout_rate))\n",
    "    \n",
    "    # Output Layer (binary classification with sigmoid)\n",
    "    model.add(layers.Dense(1,activation='sigmoid'))\n",
    "    \n",
    "    # Compile the model with the provided learning rate\n",
    "    model.compile(optimizer=tf.keras.optimizers.Adam(learning_rate=learning_rate),\n",
    "                 loss='binary_crossentropy',metrics=['accuracy','Precision','Recall'])\n",
    "    \n",
    "    return model"
   ]
  },
  {
   "cell_type": "code",
   "execution_count": 22,
   "id": "bbd57781",
   "metadata": {
    "execution": {
     "iopub.execute_input": "2024-10-17T22:23:56.104982Z",
     "iopub.status.busy": "2024-10-17T22:23:56.104672Z",
     "iopub.status.idle": "2024-10-17T22:24:06.745904Z",
     "shell.execute_reply": "2024-10-17T22:24:06.744839Z"
    },
    "papermill": {
     "duration": 10.659368,
     "end_time": "2024-10-17T22:24:06.748106",
     "exception": false,
     "start_time": "2024-10-17T22:23:56.088738",
     "status": "completed"
    },
    "tags": []
   },
   "outputs": [
    {
     "name": "stderr",
     "output_type": "stream",
     "text": [
      "/opt/conda/lib/python3.10/site-packages/keras/src/layers/core/dense.py:87: UserWarning: Do not pass an `input_shape`/`input_dim` argument to a layer. When using Sequential models, prefer using an `Input(shape)` object as the first layer in the model instead.\n",
      "  super().__init__(activity_regularizer=activity_regularizer, **kwargs)\n"
     ]
    },
    {
     "name": "stdout",
     "output_type": "stream",
     "text": [
      "Epoch 1/10\n"
     ]
    },
    {
     "name": "stderr",
     "output_type": "stream",
     "text": [
      "WARNING: All log messages before absl::InitializeLog() is called are written to STDERR\n",
      "I0000 00:00:1729203838.935217      69 service.cc:145] XLA service 0x7bf6bc003b70 initialized for platform CUDA (this does not guarantee that XLA will be used). Devices:\n",
      "I0000 00:00:1729203838.935282      69 service.cc:153]   StreamExecutor device (0): Tesla T4, Compute Capability 7.5\n",
      "I0000 00:00:1729203838.935286      69 service.cc:153]   StreamExecutor device (1): Tesla T4, Compute Capability 7.5\n"
     ]
    },
    {
     "name": "stdout",
     "output_type": "stream",
     "text": [
      "\u001b[1m 1/20\u001b[0m \u001b[32m━\u001b[0m\u001b[37m━━━━━━━━━━━━━━━━━━━\u001b[0m \u001b[1m1:49\u001b[0m 6s/step - Precision: 0.2778 - Recall: 0.5556 - accuracy: 0.4688 - loss: 0.8061"
     ]
    },
    {
     "name": "stderr",
     "output_type": "stream",
     "text": [
      "I0000 00:00:1729203843.085941      69 device_compiler.h:188] Compiled cluster using XLA!  This line is logged at most once for the lifetime of the process.\n"
     ]
    },
    {
     "name": "stdout",
     "output_type": "stream",
     "text": [
      "\u001b[1m20/20\u001b[0m \u001b[32m━━━━━━━━━━━━━━━━━━━━\u001b[0m\u001b[37m\u001b[0m \u001b[1m9s\u001b[0m 161ms/step - Precision: 0.3998 - Recall: 0.3815 - accuracy: 0.5427 - loss: 0.7132\n",
      "Epoch 2/10\n",
      "\u001b[1m20/20\u001b[0m \u001b[32m━━━━━━━━━━━━━━━━━━━━\u001b[0m\u001b[37m\u001b[0m \u001b[1m0s\u001b[0m 2ms/step - Precision: 0.6084 - Recall: 0.3821 - accuracy: 0.6583 - loss: 0.6181 \n",
      "Epoch 3/10\n",
      "\u001b[1m20/20\u001b[0m \u001b[32m━━━━━━━━━━━━━━━━━━━━\u001b[0m\u001b[37m\u001b[0m \u001b[1m0s\u001b[0m 2ms/step - Precision: 0.7758 - Recall: 0.4591 - accuracy: 0.7208 - loss: 0.5727 \n",
      "Epoch 4/10\n",
      "\u001b[1m20/20\u001b[0m \u001b[32m━━━━━━━━━━━━━━━━━━━━\u001b[0m\u001b[37m\u001b[0m \u001b[1m0s\u001b[0m 2ms/step - Precision: 0.7732 - Recall: 0.5303 - accuracy: 0.7499 - loss: 0.5163 \n",
      "Epoch 5/10\n",
      "\u001b[1m20/20\u001b[0m \u001b[32m━━━━━━━━━━━━━━━━━━━━\u001b[0m\u001b[37m\u001b[0m \u001b[1m0s\u001b[0m 2ms/step - Precision: 0.7576 - Recall: 0.6154 - accuracy: 0.7791 - loss: 0.4738 \n",
      "Epoch 6/10\n",
      "\u001b[1m20/20\u001b[0m \u001b[32m━━━━━━━━━━━━━━━━━━━━\u001b[0m\u001b[37m\u001b[0m \u001b[1m0s\u001b[0m 2ms/step - Precision: 0.7587 - Recall: 0.6640 - accuracy: 0.7736 - loss: 0.4988 \n",
      "Epoch 7/10\n",
      "\u001b[1m20/20\u001b[0m \u001b[32m━━━━━━━━━━━━━━━━━━━━\u001b[0m\u001b[37m\u001b[0m \u001b[1m0s\u001b[0m 2ms/step - Precision: 0.8388 - Recall: 0.7689 - accuracy: 0.8454 - loss: 0.4352 \n",
      "Epoch 8/10\n",
      "\u001b[1m20/20\u001b[0m \u001b[32m━━━━━━━━━━━━━━━━━━━━\u001b[0m\u001b[37m\u001b[0m \u001b[1m0s\u001b[0m 2ms/step - Precision: 0.8011 - Recall: 0.7696 - accuracy: 0.8285 - loss: 0.4422 \n",
      "Epoch 9/10\n",
      "\u001b[1m20/20\u001b[0m \u001b[32m━━━━━━━━━━━━━━━━━━━━\u001b[0m\u001b[37m\u001b[0m \u001b[1m0s\u001b[0m 2ms/step - Precision: 0.7558 - Recall: 0.7123 - accuracy: 0.8005 - loss: 0.4692 \n",
      "Epoch 10/10\n",
      "\u001b[1m20/20\u001b[0m \u001b[32m━━━━━━━━━━━━━━━━━━━━\u001b[0m\u001b[37m\u001b[0m \u001b[1m0s\u001b[0m 2ms/step - Precision: 0.8015 - Recall: 0.7385 - accuracy: 0.8192 - loss: 0.4355 \n"
     ]
    },
    {
     "data": {
      "text/plain": [
       "<keras.src.callbacks.history.History at 0x7bf74eef4eb0>"
      ]
     },
     "execution_count": 22,
     "metadata": {},
     "output_type": "execute_result"
    }
   ],
   "source": [
    "# Generate the model\n",
    "model = build_model(\n",
    "    input_shape=X_train_preprocessed.shape[1],\n",
    "    learning_rate=0.001\n",
    ")\n",
    "\n",
    "# Fit the model\n",
    "model.fit(X_train_preprocessed,y_train,epochs=10,batch_size=32)"
   ]
  },
  {
   "cell_type": "code",
   "execution_count": 23,
   "id": "e75df06f",
   "metadata": {
    "execution": {
     "iopub.execute_input": "2024-10-17T22:24:06.788068Z",
     "iopub.status.busy": "2024-10-17T22:24:06.787734Z",
     "iopub.status.idle": "2024-10-17T22:24:07.679813Z",
     "shell.execute_reply": "2024-10-17T22:24:07.678631Z"
    },
    "papermill": {
     "duration": 0.914343,
     "end_time": "2024-10-17T22:24:07.682068",
     "exception": false,
     "start_time": "2024-10-17T22:24:06.767725",
     "status": "completed"
    },
    "tags": []
   },
   "outputs": [
    {
     "name": "stdout",
     "output_type": "stream",
     "text": [
      "\u001b[1m5/5\u001b[0m \u001b[32m━━━━━━━━━━━━━━━━━━━━\u001b[0m\u001b[37m\u001b[0m \u001b[1m1s\u001b[0m 77ms/step - Precision: 0.8074 - Recall: 0.6600 - accuracy: 0.8509 - loss: 0.3905\n",
      "Test Accuracy: 85.07%\n"
     ]
    }
   ],
   "source": [
    "# Evaluate the model\n",
    "_,test_acc,_,_ = model.evaluate(X_valid_preprocessed,y_valid)\n",
    "\n",
    "# Spit out the results\n",
    "print(f'Test Accuracy: {test_acc * 100:.2f}%')"
   ]
  },
  {
   "cell_type": "code",
   "execution_count": 24,
   "id": "d868fb56",
   "metadata": {
    "execution": {
     "iopub.execute_input": "2024-10-17T22:24:07.722226Z",
     "iopub.status.busy": "2024-10-17T22:24:07.721866Z",
     "iopub.status.idle": "2024-10-17T22:24:08.074234Z",
     "shell.execute_reply": "2024-10-17T22:24:08.073313Z"
    },
    "papermill": {
     "duration": 0.375179,
     "end_time": "2024-10-17T22:24:08.076700",
     "exception": false,
     "start_time": "2024-10-17T22:24:07.701521",
     "status": "completed"
    },
    "tags": []
   },
   "outputs": [
    {
     "name": "stdout",
     "output_type": "stream",
     "text": [
      "\u001b[1m5/5\u001b[0m \u001b[32m━━━━━━━━━━━━━━━━━━━━\u001b[0m\u001b[37m\u001b[0m \u001b[1m0s\u001b[0m 32ms/step\n"
     ]
    }
   ],
   "source": [
    "# Create a prediction and convert it into values similar to SciKit-Learn\n",
    "y_preds = model.predict(X_valid_preprocessed)\n",
    "y_preds = (y_preds > 0.5).astype(\"int32\")"
   ]
  },
  {
   "cell_type": "code",
   "execution_count": 25,
   "id": "37bbf79a",
   "metadata": {
    "execution": {
     "iopub.execute_input": "2024-10-17T22:24:08.118938Z",
     "iopub.status.busy": "2024-10-17T22:24:08.118581Z",
     "iopub.status.idle": "2024-10-17T22:24:08.125139Z",
     "shell.execute_reply": "2024-10-17T22:24:08.124195Z"
    },
    "papermill": {
     "duration": 0.030035,
     "end_time": "2024-10-17T22:24:08.127236",
     "exception": false,
     "start_time": "2024-10-17T22:24:08.097201",
     "status": "completed"
    },
    "tags": []
   },
   "outputs": [
    {
     "data": {
      "text/plain": [
       "((134, 1), (134,))"
      ]
     },
     "execution_count": 25,
     "metadata": {},
     "output_type": "execute_result"
    }
   ],
   "source": [
    "y_preds.shape,y_valid.shape"
   ]
  },
  {
   "cell_type": "code",
   "execution_count": 26,
   "id": "67e3fc69",
   "metadata": {
    "execution": {
     "iopub.execute_input": "2024-10-17T22:24:08.169792Z",
     "iopub.status.busy": "2024-10-17T22:24:08.169471Z",
     "iopub.status.idle": "2024-10-17T22:24:08.184328Z",
     "shell.execute_reply": "2024-10-17T22:24:08.183222Z"
    },
    "papermill": {
     "duration": 0.038526,
     "end_time": "2024-10-17T22:24:08.186294",
     "exception": false,
     "start_time": "2024-10-17T22:24:08.147768",
     "status": "completed"
    },
    "tags": []
   },
   "outputs": [
    {
     "name": "stdout",
     "output_type": "stream",
     "text": [
      "accuracy: 85.00%\n",
      "precision: 0.80\n",
      "recall: 0.68\n",
      "f1: 0.74\n"
     ]
    }
   ],
   "source": [
    "# Evaluate and score the model\n",
    "metric_valid_dict.update({'tensorflow baseline':evaluate_preds(y_valid,y_preds)})"
   ]
  },
  {
   "cell_type": "markdown",
   "id": "888bcee7",
   "metadata": {
    "papermill": {
     "duration": 0.01925,
     "end_time": "2024-10-17T22:24:08.224807",
     "exception": false,
     "start_time": "2024-10-17T22:24:08.205557",
     "status": "completed"
    },
    "tags": []
   },
   "source": [
    "The above scoring shows that there was an improvement in metrics transitioning from the `LinearSVC` model from the scikit-learn libraries to a framework focusing on `TensorFlow`. The next step would be to improve the model. The goal is to get above 80%, but also get as asymptotically close to 100% as possible."
   ]
  },
  {
   "cell_type": "markdown",
   "id": "b4ff426f",
   "metadata": {
    "papermill": {
     "duration": 0.021017,
     "end_time": "2024-10-17T22:24:08.265907",
     "exception": false,
     "start_time": "2024-10-17T22:24:08.244890",
     "status": "completed"
    },
    "tags": []
   },
   "source": [
    "Next, I would like to see if I can make a block of code that tests a number of settings to fiddle with to come with the best metrics. This block of code will be adjusted over time, and my hope (if needed) is that this block of code turns into a function that can have it's own fiddley knobs to come to a better fit model."
   ]
  },
  {
   "cell_type": "code",
   "execution_count": 27,
   "id": "44d62b9f",
   "metadata": {
    "execution": {
     "iopub.execute_input": "2024-10-17T22:24:08.305941Z",
     "iopub.status.busy": "2024-10-17T22:24:08.304853Z",
     "iopub.status.idle": "2024-10-17T22:24:08.310413Z",
     "shell.execute_reply": "2024-10-17T22:24:08.309378Z"
    },
    "papermill": {
     "duration": 0.027349,
     "end_time": "2024-10-17T22:24:08.312353",
     "exception": false,
     "start_time": "2024-10-17T22:24:08.285004",
     "status": "completed"
    },
    "tags": []
   },
   "outputs": [
    {
     "name": "stdout",
     "output_type": "stream",
     "text": [
      "Num GPUs Available: 2\n"
     ]
    }
   ],
   "source": [
    "print(f\"Num GPUs Available: {len(tf.config.list_physical_devices('GPU'))}\")"
   ]
  },
  {
   "cell_type": "code",
   "execution_count": 28,
   "id": "f524de02",
   "metadata": {
    "execution": {
     "iopub.execute_input": "2024-10-17T22:24:08.353264Z",
     "iopub.status.busy": "2024-10-17T22:24:08.352939Z",
     "iopub.status.idle": "2024-10-17T22:24:08.357291Z",
     "shell.execute_reply": "2024-10-17T22:24:08.356366Z"
    },
    "papermill": {
     "duration": 0.026838,
     "end_time": "2024-10-17T22:24:08.359392",
     "exception": false,
     "start_time": "2024-10-17T22:24:08.332554",
     "status": "completed"
    },
    "tags": []
   },
   "outputs": [],
   "source": [
    "from sklearn.model_selection import KFold"
   ]
  },
  {
   "cell_type": "code",
   "execution_count": 29,
   "id": "5bd36df1",
   "metadata": {
    "execution": {
     "iopub.execute_input": "2024-10-17T22:24:08.399632Z",
     "iopub.status.busy": "2024-10-17T22:24:08.399289Z",
     "iopub.status.idle": "2024-10-17T22:28:32.809256Z",
     "shell.execute_reply": "2024-10-17T22:28:32.808384Z"
    },
    "papermill": {
     "duration": 264.433372,
     "end_time": "2024-10-17T22:28:32.811928",
     "exception": false,
     "start_time": "2024-10-17T22:24:08.378556",
     "status": "completed"
    },
    "tags": []
   },
   "outputs": [
    {
     "name": "stderr",
     "output_type": "stream",
     "text": [
      "/opt/conda/lib/python3.10/site-packages/keras/src/layers/core/dense.py:87: UserWarning: Do not pass an `input_shape`/`input_dim` argument to a layer. When using Sequential models, prefer using an `Input(shape)` object as the first layer in the model instead.\n",
      "  super().__init__(activity_regularizer=activity_regularizer, **kwargs)\n"
     ]
    }
   ],
   "source": [
    "# Initialize values\n",
    "best_model = None\n",
    "best_accuracy = 0\n",
    "kfold = KFold(n_splits=5,shuffle=True)\n",
    "input_shape = X_train_preprocessed.shape[1]\n",
    "\n",
    "# Create embedded for loops with the metrics to fiddle with\n",
    "for units in [[128,64],[256,128,64],[512,256,128]]:\n",
    "    for dropout in [0.3, 0.5]:\n",
    "        for lr in [0.001,0.0005]:\n",
    "            for batch_size in [32,64]:\n",
    "                model = build_model(input_shape=input_shape,\n",
    "                                   num_layers=len(units),\n",
    "                                             units_per_layer=units,\n",
    "                                             dropout_rate=dropout,\n",
    "                                             learning_rate=lr)\n",
    "                \n",
    "                # Train the model with the current hyperparameters\n",
    "                history = model.fit(X_train_preprocessed,y_train,epochs=10,batch_size=batch_size,\n",
    "                                   validation_data=(X_valid_preprocessed,y_valid),verbose=0)\n",
    "                \n",
    "                # Evaluate validation accuracy\n",
    "                val_acc = history.history['val_accuracy'][-1]\n",
    "                \n",
    "                # Keep track of the best model\n",
    "                if val_acc > best_accuracy:\n",
    "                    best_accuracy = val_acc\n",
    "                    best_model = model"
   ]
  },
  {
   "cell_type": "code",
   "execution_count": 30,
   "id": "64824ed3",
   "metadata": {
    "execution": {
     "iopub.execute_input": "2024-10-17T22:28:32.853404Z",
     "iopub.status.busy": "2024-10-17T22:28:32.853023Z",
     "iopub.status.idle": "2024-10-17T22:28:32.858274Z",
     "shell.execute_reply": "2024-10-17T22:28:32.857288Z"
    },
    "papermill": {
     "duration": 0.027295,
     "end_time": "2024-10-17T22:28:32.860258",
     "exception": false,
     "start_time": "2024-10-17T22:28:32.832963",
     "status": "completed"
    },
    "tags": []
   },
   "outputs": [
    {
     "name": "stdout",
     "output_type": "stream",
     "text": [
      "85.82%\n"
     ]
    }
   ],
   "source": [
    "print(f'{best_accuracy*100:.2f}%')"
   ]
  },
  {
   "cell_type": "markdown",
   "id": "f9ccb231",
   "metadata": {
    "papermill": {
     "duration": 0.018191,
     "end_time": "2024-10-17T22:28:32.896982",
     "exception": false,
     "start_time": "2024-10-17T22:28:32.878791",
     "status": "completed"
    },
    "tags": []
   },
   "source": [
    "### 2.1 Final Predictions"
   ]
  },
  {
   "cell_type": "code",
   "execution_count": 31,
   "id": "76e02c8d",
   "metadata": {
    "execution": {
     "iopub.execute_input": "2024-10-17T22:28:32.936034Z",
     "iopub.status.busy": "2024-10-17T22:28:32.935734Z",
     "iopub.status.idle": "2024-10-17T22:28:32.942111Z",
     "shell.execute_reply": "2024-10-17T22:28:32.941136Z"
    },
    "papermill": {
     "duration": 0.028595,
     "end_time": "2024-10-17T22:28:32.944350",
     "exception": false,
     "start_time": "2024-10-17T22:28:32.915755",
     "status": "completed"
    },
    "tags": []
   },
   "outputs": [
    {
     "data": {
      "text/plain": [
       "((624, 12), (134, 12), (624,), (134,))"
      ]
     },
     "execution_count": 31,
     "metadata": {},
     "output_type": "execute_result"
    }
   ],
   "source": [
    "X_train_preprocessed.shape,X_valid_preprocessed.shape,y_train.shape,y_valid.shape"
   ]
  },
  {
   "cell_type": "code",
   "execution_count": 32,
   "id": "af63203e",
   "metadata": {
    "execution": {
     "iopub.execute_input": "2024-10-17T22:28:32.984726Z",
     "iopub.status.busy": "2024-10-17T22:28:32.984429Z",
     "iopub.status.idle": "2024-10-17T22:28:32.989248Z",
     "shell.execute_reply": "2024-10-17T22:28:32.988393Z"
    },
    "papermill": {
     "duration": 0.027382,
     "end_time": "2024-10-17T22:28:32.991256",
     "exception": false,
     "start_time": "2024-10-17T22:28:32.963874",
     "status": "completed"
    },
    "tags": []
   },
   "outputs": [],
   "source": [
    "# Combine both the training and the validation sets\n",
    "X_train_final = np.concatenate((X_train_preprocessed,X_valid_preprocessed),axis=0)\n",
    "y_train_final = np.concatenate((y_train,y_valid),axis=0)"
   ]
  },
  {
   "cell_type": "code",
   "execution_count": 33,
   "id": "624a2cd3",
   "metadata": {
    "execution": {
     "iopub.execute_input": "2024-10-17T22:28:33.031768Z",
     "iopub.status.busy": "2024-10-17T22:28:33.031450Z",
     "iopub.status.idle": "2024-10-17T22:28:33.037387Z",
     "shell.execute_reply": "2024-10-17T22:28:33.036468Z"
    },
    "papermill": {
     "duration": 0.028252,
     "end_time": "2024-10-17T22:28:33.039384",
     "exception": false,
     "start_time": "2024-10-17T22:28:33.011132",
     "status": "completed"
    },
    "tags": []
   },
   "outputs": [
    {
     "data": {
      "text/plain": [
       "((758, 12), (758,))"
      ]
     },
     "execution_count": 33,
     "metadata": {},
     "output_type": "execute_result"
    }
   ],
   "source": [
    "X_train_final.shape,y_train_final.shape"
   ]
  },
  {
   "cell_type": "code",
   "execution_count": 34,
   "id": "3780c8d6",
   "metadata": {
    "execution": {
     "iopub.execute_input": "2024-10-17T22:28:33.079015Z",
     "iopub.status.busy": "2024-10-17T22:28:33.078713Z",
     "iopub.status.idle": "2024-10-17T22:28:42.339258Z",
     "shell.execute_reply": "2024-10-17T22:28:42.338369Z"
    },
    "papermill": {
     "duration": 9.282366,
     "end_time": "2024-10-17T22:28:42.341220",
     "exception": false,
     "start_time": "2024-10-17T22:28:33.058854",
     "status": "completed"
    },
    "tags": []
   },
   "outputs": [
    {
     "name": "stdout",
     "output_type": "stream",
     "text": [
      "Epoch 1/10\n",
      "\u001b[1m12/12\u001b[0m \u001b[32m━━━━━━━━━━━━━━━━━━━━\u001b[0m\u001b[37m\u001b[0m \u001b[1m9s\u001b[0m 428ms/step - Precision: 0.8407 - Recall: 0.7552 - accuracy: 0.8561 - loss: 0.3662\n",
      "Epoch 2/10\n",
      "\u001b[1m12/12\u001b[0m \u001b[32m━━━━━━━━━━━━━━━━━━━━\u001b[0m\u001b[37m\u001b[0m \u001b[1m0s\u001b[0m 2ms/step - Precision: 0.8579 - Recall: 0.7278 - accuracy: 0.8466 - loss: 0.3646 \n",
      "Epoch 3/10\n",
      "\u001b[1m12/12\u001b[0m \u001b[32m━━━━━━━━━━━━━━━━━━━━\u001b[0m\u001b[37m\u001b[0m \u001b[1m0s\u001b[0m 2ms/step - Precision: 0.9014 - Recall: 0.7084 - accuracy: 0.8568 - loss: 0.3582 \n",
      "Epoch 4/10\n",
      "\u001b[1m12/12\u001b[0m \u001b[32m━━━━━━━━━━━━━━━━━━━━\u001b[0m\u001b[37m\u001b[0m \u001b[1m0s\u001b[0m 2ms/step - Precision: 0.8729 - Recall: 0.7352 - accuracy: 0.8596 - loss: 0.3489 \n",
      "Epoch 5/10\n",
      "\u001b[1m12/12\u001b[0m \u001b[32m━━━━━━━━━━━━━━━━━━━━\u001b[0m\u001b[37m\u001b[0m \u001b[1m0s\u001b[0m 2ms/step - Precision: 0.8368 - Recall: 0.7171 - accuracy: 0.8520 - loss: 0.3457 \n",
      "Epoch 6/10\n",
      "\u001b[1m12/12\u001b[0m \u001b[32m━━━━━━━━━━━━━━━━━━━━\u001b[0m\u001b[37m\u001b[0m \u001b[1m0s\u001b[0m 2ms/step - Precision: 0.8555 - Recall: 0.7755 - accuracy: 0.8622 - loss: 0.3445 \n",
      "Epoch 7/10\n",
      "\u001b[1m12/12\u001b[0m \u001b[32m━━━━━━━━━━━━━━━━━━━━\u001b[0m\u001b[37m\u001b[0m \u001b[1m0s\u001b[0m 2ms/step - Precision: 0.8934 - Recall: 0.7270 - accuracy: 0.8647 - loss: 0.3394 \n",
      "Epoch 8/10\n",
      "\u001b[1m12/12\u001b[0m \u001b[32m━━━━━━━━━━━━━━━━━━━━\u001b[0m\u001b[37m\u001b[0m \u001b[1m0s\u001b[0m 2ms/step - Precision: 0.8703 - Recall: 0.7349 - accuracy: 0.8559 - loss: 0.3724 \n",
      "Epoch 9/10\n",
      "\u001b[1m12/12\u001b[0m \u001b[32m━━━━━━━━━━━━━━━━━━━━\u001b[0m\u001b[37m\u001b[0m \u001b[1m0s\u001b[0m 2ms/step - Precision: 0.8747 - Recall: 0.6915 - accuracy: 0.8500 - loss: 0.3666 \n",
      "Epoch 10/10\n",
      "\u001b[1m12/12\u001b[0m \u001b[32m━━━━━━━━━━━━━━━━━━━━\u001b[0m\u001b[37m\u001b[0m \u001b[1m0s\u001b[0m 2ms/step - Precision: 0.8331 - Recall: 0.7913 - accuracy: 0.8595 - loss: 0.3374 \n"
     ]
    },
    {
     "data": {
      "text/plain": [
       "<keras.src.callbacks.history.History at 0x7bf3061b8a00>"
      ]
     },
     "execution_count": 34,
     "metadata": {},
     "output_type": "execute_result"
    }
   ],
   "source": [
    "# Train a model use the fully trained data\n",
    "best_model.fit(X_train_final,y_train_final.reshape(-1,1),epochs=10,batch_size=64,verbose=1)"
   ]
  },
  {
   "cell_type": "code",
   "execution_count": 35,
   "id": "3c942f41",
   "metadata": {
    "execution": {
     "iopub.execute_input": "2024-10-17T22:28:42.386308Z",
     "iopub.status.busy": "2024-10-17T22:28:42.385987Z",
     "iopub.status.idle": "2024-10-17T22:28:42.880468Z",
     "shell.execute_reply": "2024-10-17T22:28:42.879373Z"
    },
    "papermill": {
     "duration": 0.518927,
     "end_time": "2024-10-17T22:28:42.882619",
     "exception": false,
     "start_time": "2024-10-17T22:28:42.363692",
     "status": "completed"
    },
    "tags": []
   },
   "outputs": [
    {
     "name": "stdout",
     "output_type": "stream",
     "text": [
      "\u001b[1m5/5\u001b[0m \u001b[32m━━━━━━━━━━━━━━━━━━━━\u001b[0m\u001b[37m\u001b[0m \u001b[1m0s\u001b[0m 71ms/step\n",
      "accuracy: 75.00%\n",
      "precision: 0.76\n",
      "recall: 0.55\n",
      "f1: 0.64\n"
     ]
    }
   ],
   "source": [
    "predictions_test = best_model.predict(X_test_preprocessed)\n",
    "predictions_to_binary = (predictions_test > 0.5).astype('int32')\n",
    "metric_valid_dict.update({'final':evaluate_preds(y_test,predictions_to_binary)})"
   ]
  },
  {
   "cell_type": "code",
   "execution_count": 36,
   "id": "2d381d93",
   "metadata": {
    "execution": {
     "iopub.execute_input": "2024-10-17T22:28:42.930314Z",
     "iopub.status.busy": "2024-10-17T22:28:42.929998Z",
     "iopub.status.idle": "2024-10-17T22:28:43.321025Z",
     "shell.execute_reply": "2024-10-17T22:28:43.320033Z"
    },
    "papermill": {
     "duration": 0.417158,
     "end_time": "2024-10-17T22:28:43.323071",
     "exception": false,
     "start_time": "2024-10-17T22:28:42.905913",
     "status": "completed"
    },
    "tags": []
   },
   "outputs": [
    {
     "data": {
      "text/plain": [
       "<Axes: >"
      ]
     },
     "execution_count": 36,
     "metadata": {},
     "output_type": "execute_result"
    },
    {
     "data": {
      "image/png": "[encoded data removed]",
      "text/plain": [
       "<Figure size 640x480 with 1 Axes>"
      ]
     },
     "metadata": {},
     "output_type": "display_data"
    }
   ],
   "source": [
    "pd.DataFrame(metric_valid_dict).plot.bar()"
   ]
  },
  {
   "cell_type": "markdown",
   "id": "15fa1b27",
   "metadata": {
    "papermill": {
     "duration": 0.022622,
     "end_time": "2024-10-17T22:28:43.369495",
     "exception": false,
     "start_time": "2024-10-17T22:28:43.346873",
     "status": "completed"
    },
    "tags": []
   },
   "source": [
    "## X. Predict Survivors & Make Submission"
   ]
  },
  {
   "cell_type": "code",
   "execution_count": 37,
   "id": "bdf1bf18",
   "metadata": {
    "execution": {
     "iopub.execute_input": "2024-10-17T22:28:43.415139Z",
     "iopub.status.busy": "2024-10-17T22:28:43.414773Z",
     "iopub.status.idle": "2024-10-17T22:28:43.759660Z",
     "shell.execute_reply": "2024-10-17T22:28:43.758590Z"
    },
    "papermill": {
     "duration": 0.370825,
     "end_time": "2024-10-17T22:28:43.762138",
     "exception": false,
     "start_time": "2024-10-17T22:28:43.391313",
     "status": "completed"
    },
    "tags": []
   },
   "outputs": [
    {
     "name": "stdout",
     "output_type": "stream",
     "text": [
      "\u001b[1m14/14\u001b[0m \u001b[32m━━━━━━━━━━━━━━━━━━━━\u001b[0m\u001b[37m\u001b[0m \u001b[1m0s\u001b[0m 19ms/step\n"
     ]
    }
   ],
   "source": [
    "# Read the test data\n",
    "test_data = pd.read_csv('/kaggle/input/titanic/test.csv')\n",
    "\n",
    "# Clean, Process, and Make predicitions using generated model\n",
    "Predictions = best_model.predict(preprocessor.transform(clean_df(test_data)))\n",
    "Predictions_binary = (Predictions > 0.5).astype('int32')"
   ]
  },
  {
   "cell_type": "code",
   "execution_count": 38,
   "id": "549aaa74",
   "metadata": {
    "execution": {
     "iopub.execute_input": "2024-10-17T22:28:43.812694Z",
     "iopub.status.busy": "2024-10-17T22:28:43.812307Z",
     "iopub.status.idle": "2024-10-17T22:28:43.817593Z",
     "shell.execute_reply": "2024-10-17T22:28:43.816648Z"
    },
    "papermill": {
     "duration": 0.031362,
     "end_time": "2024-10-17T22:28:43.819573",
     "exception": false,
     "start_time": "2024-10-17T22:28:43.788211",
     "status": "completed"
    },
    "tags": []
   },
   "outputs": [],
   "source": [
    "# Build the submission dataframe\n",
    "submission = pd.DataFrame({\n",
    "    'PassengerId':test_data['PassengerId'],\n",
    "    'Survived':Predictions_binary.flatten()\n",
    "})"
   ]
  },
  {
   "cell_type": "code",
   "execution_count": 39,
   "id": "8d59e75c",
   "metadata": {
    "execution": {
     "iopub.execute_input": "2024-10-17T22:28:43.869052Z",
     "iopub.status.busy": "2024-10-17T22:28:43.868239Z",
     "iopub.status.idle": "2024-10-17T22:28:43.876774Z",
     "shell.execute_reply": "2024-10-17T22:28:43.875847Z"
    },
    "papermill": {
     "duration": 0.034991,
     "end_time": "2024-10-17T22:28:43.878788",
     "exception": false,
     "start_time": "2024-10-17T22:28:43.843797",
     "status": "completed"
    },
    "tags": []
   },
   "outputs": [],
   "source": [
    "submission.to_csv('titanic_submission.csv',index=False)"
   ]
  },
  {
   "cell_type": "code",
   "execution_count": null,
   "id": "e9bd3ba4",
   "metadata": {
    "papermill": {
     "duration": 0.023141,
     "end_time": "2024-10-17T22:28:43.924149",
     "exception": false,
     "start_time": "2024-10-17T22:28:43.901008",
     "status": "completed"
    },
    "tags": []
   },
   "outputs": [],
   "source": []
  }
 ],
 "metadata": {
  "kaggle": {
   "accelerator": "nvidiaTeslaT4",
   "dataSources": [
    {
     "databundleVersionId": 26502,
     "sourceId": 3136,
     "sourceType": "competition"
    }
   ],
   "dockerImageVersionId": 30787,
   "isGpuEnabled": true,
   "isInternetEnabled": true,
   "language": "python",
   "sourceType": "notebook"
  },
  "kernelspec": {
   "display_name": "Python 3",
   "language": "python",
   "name": "python3"
  },
  "language_info": {
   "codemirror_mode": {
    "name": "ipython",
    "version": 3
   },
   "file_extension": ".py",
   "mimetype": "text/x-python",
   "name": "python",
   "nbconvert_exporter": "python",
   "pygments_lexer": "ipython3",
   "version": "3.10.14"
  },
  "papermill": {
   "default_parameters": {},
   "duration": 319.41496,
   "end_time": "2024-10-17T22:28:46.846215",
   "environment_variables": {},
   "exception": null,
   "input_path": "__notebook__.ipynb",
   "output_path": "__notebook__.ipynb",
   "parameters": {},
   "start_time": "2024-10-17T22:23:27.431255",
   "version": "2.6.0"
  }
 },
 "nbformat": 4,
 "nbformat_minor": 5
}
