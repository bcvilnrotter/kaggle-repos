{
 "cells": [
  {
   "cell_type": "code",
   "execution_count": 1,
   "id": "13b321eb",
   "metadata": {
    "_cell_guid": "b1076dfc-b9ad-4769-8c92-a6c4dae69d19",
    "_uuid": "8f2839f25d086af736a60e9eeb907d3b93b6e0e5",
    "execution": {
     "iopub.execute_input": "2024-10-07T04:48:27.472395Z",
     "iopub.status.busy": "2024-10-07T04:48:27.471411Z",
     "iopub.status.idle": "2024-10-07T04:48:28.484762Z",
     "shell.execute_reply": "2024-10-07T04:48:28.483552Z"
    },
    "papermill": {
     "duration": 1.02556,
     "end_time": "2024-10-07T04:48:28.487188",
     "exception": false,
     "start_time": "2024-10-07T04:48:27.461628",
     "status": "completed"
    },
    "tags": []
   },
   "outputs": [
    {
     "name": "stdout",
     "output_type": "stream",
     "text": [
      "/kaggle/input/mars-rover-environmental-monitoring-station/REMS_Mars_Dataset.csv\n"
     ]
    }
   ],
   "source": [
    "# This Python 3 environment comes with many helpful analytics libraries installed\n",
    "# It is defined by the kaggle/python Docker image: https://github.com/kaggle/docker-python\n",
    "# For example, here's several helpful packages to load\n",
    "\n",
    "import numpy as np # linear algebra\n",
    "import pandas as pd # data processing, CSV file I/O (e.g. pd.read_csv)\n",
    "\n",
    "# Input data files are available in the read-only \"../input/\" directory\n",
    "# For example, running this (by clicking run or pressing Shift+Enter) will list all files under the input directory\n",
    "\n",
    "import os\n",
    "for dirname, _, filenames in os.walk('/kaggle/input'):\n",
    "    for filename in filenames:\n",
    "        print(os.path.join(dirname, filename))\n",
    "\n",
    "# You can write up to 20GB to the current directory (/kaggle/working/) that gets preserved as output when you create a version using \"Save & Run All\" \n",
    "# You can also write temporary files to /kaggle/temp/, but they won't be saved outside of the current session"
   ]
  },
  {
   "cell_type": "code",
   "execution_count": 2,
   "id": "70e1f51a",
   "metadata": {
    "execution": {
     "iopub.execute_input": "2024-10-07T04:48:28.501880Z",
     "iopub.status.busy": "2024-10-07T04:48:28.501323Z",
     "iopub.status.idle": "2024-10-07T04:48:30.330152Z",
     "shell.execute_reply": "2024-10-07T04:48:30.328793Z"
    },
    "papermill": {
     "duration": 1.838732,
     "end_time": "2024-10-07T04:48:30.333012",
     "exception": false,
     "start_time": "2024-10-07T04:48:28.494280",
     "status": "completed"
    },
    "tags": []
   },
   "outputs": [],
   "source": [
    "# Import the scikit-learn modules\n",
    "from sklearn.model_selection import train_test_split\n",
    "from sklearn import linear_model"
   ]
  },
  {
   "cell_type": "markdown",
   "id": "29c57132",
   "metadata": {
    "papermill": {
     "duration": 0.004436,
     "end_time": "2024-10-07T04:48:30.342408",
     "exception": false,
     "start_time": "2024-10-07T04:48:30.337972",
     "status": "completed"
    },
    "tags": []
   },
   "source": [
    "### 1. Cleaning the data"
   ]
  },
  {
   "cell_type": "code",
   "execution_count": 3,
   "id": "ffcb26d8",
   "metadata": {
    "execution": {
     "iopub.execute_input": "2024-10-07T04:48:30.354073Z",
     "iopub.status.busy": "2024-10-07T04:48:30.353503Z",
     "iopub.status.idle": "2024-10-07T04:48:30.389290Z",
     "shell.execute_reply": "2024-10-07T04:48:30.387894Z"
    },
    "papermill": {
     "duration": 0.044966,
     "end_time": "2024-10-07T04:48:30.392058",
     "exception": false,
     "start_time": "2024-10-07T04:48:30.347092",
     "status": "completed"
    },
    "tags": []
   },
   "outputs": [],
   "source": [
    "# Add data to dataframe\n",
    "df = pd.read_csv(\"/kaggle/input/mars-rover-environmental-monitoring-station/REMS_Mars_Dataset.csv\")"
   ]
  },
  {
   "cell_type": "code",
   "execution_count": 4,
   "id": "aec2a55c",
   "metadata": {
    "execution": {
     "iopub.execute_input": "2024-10-07T04:48:30.403776Z",
     "iopub.status.busy": "2024-10-07T04:48:30.403283Z",
     "iopub.status.idle": "2024-10-07T04:48:30.434917Z",
     "shell.execute_reply": "2024-10-07T04:48:30.433730Z"
    },
    "papermill": {
     "duration": 0.040764,
     "end_time": "2024-10-07T04:48:30.437847",
     "exception": false,
     "start_time": "2024-10-07T04:48:30.397083",
     "status": "completed"
    },
    "tags": []
   },
   "outputs": [],
   "source": [
    "# Convert the Earth date time values to year,month,day columns\n",
    "df[\"shaved_earth_date_time\"] = pd.to_datetime(df[\"earth_date_time\"].str.replace('Earth, ','').str.replace(' UTC',''),format='%Y-%m-%d')\n",
    "df[\"earth_year\"] = df[\"shaved_earth_date_time\"].dt.year\n",
    "df[\"earth_month\"] = df[\"shaved_earth_date_time\"].dt.month\n",
    "df[\"earth_day\"] = df[\"shaved_earth_date_time\"].dt.day\n",
    "\n",
    "# Drop the shaved_earth_date_time column\n",
    "df=df.drop(\"shaved_earth_date_time\",axis=1)"
   ]
  },
  {
   "cell_type": "code",
   "execution_count": 5,
   "id": "8d90332b",
   "metadata": {
    "execution": {
     "iopub.execute_input": "2024-10-07T04:48:30.450080Z",
     "iopub.status.busy": "2024-10-07T04:48:30.449629Z",
     "iopub.status.idle": "2024-10-07T04:48:30.459125Z",
     "shell.execute_reply": "2024-10-07T04:48:30.457870Z"
    },
    "papermill": {
     "duration": 0.018672,
     "end_time": "2024-10-07T04:48:30.461819",
     "exception": false,
     "start_time": "2024-10-07T04:48:30.443147",
     "status": "completed"
    },
    "tags": []
   },
   "outputs": [],
   "source": [
    "# There are two columns, wind speed and humidity, that have no clolumns of value and should be dropped\n",
    "df=df.drop(\"wind_speed(m/h)\",axis=1)\n",
    "df=df.drop(\"humidity(%)\",axis=1)"
   ]
  },
  {
   "cell_type": "code",
   "execution_count": 6,
   "id": "7f1882de",
   "metadata": {
    "execution": {
     "iopub.execute_input": "2024-10-07T04:48:30.474471Z",
     "iopub.status.busy": "2024-10-07T04:48:30.472947Z",
     "iopub.status.idle": "2024-10-07T04:48:30.496046Z",
     "shell.execute_reply": "2024-10-07T04:48:30.494676Z"
    },
    "papermill": {
     "duration": 0.032095,
     "end_time": "2024-10-07T04:48:30.498848",
     "exception": false,
     "start_time": "2024-10-07T04:48:30.466753",
     "status": "completed"
    },
    "tags": []
   },
   "outputs": [],
   "source": [
    "# Convert all empty values to pd.NaN values for later filtering\n",
    "df = df.replace('Value not available',pd.NA)\n",
    "\n",
    "# Then, drop all NaN values\n",
    "df = df.dropna()"
   ]
  },
  {
   "cell_type": "code",
   "execution_count": 7,
   "id": "3b9eb14e",
   "metadata": {
    "execution": {
     "iopub.execute_input": "2024-10-07T04:48:30.511180Z",
     "iopub.status.busy": "2024-10-07T04:48:30.510765Z",
     "iopub.status.idle": "2024-10-07T04:48:30.529477Z",
     "shell.execute_reply": "2024-10-07T04:48:30.528208Z"
    },
    "papermill": {
     "duration": 0.028112,
     "end_time": "2024-10-07T04:48:30.531821",
     "exception": false,
     "start_time": "2024-10-07T04:48:30.503709",
     "status": "completed"
    },
    "tags": []
   },
   "outputs": [],
   "source": [
    "# Convert the sunrise and sunset values into hour and minute numbers\n",
    "df[['sunrise_hours','sunrise_minutes']] = df['sunrise'].str.split(':',expand=True)\n",
    "df[['sunset_hours','sunset_minutes']] = df['sunset'].str.split(':',expand=True)"
   ]
  },
  {
   "cell_type": "code",
   "execution_count": 8,
   "id": "d83b2b8a",
   "metadata": {
    "execution": {
     "iopub.execute_input": "2024-10-07T04:48:30.543251Z",
     "iopub.status.busy": "2024-10-07T04:48:30.542828Z",
     "iopub.status.idle": "2024-10-07T04:48:30.552371Z",
     "shell.execute_reply": "2024-10-07T04:48:30.551195Z"
    },
    "papermill": {
     "duration": 0.01826,
     "end_time": "2024-10-07T04:48:30.554945",
     "exception": false,
     "start_time": "2024-10-07T04:48:30.536685",
     "status": "completed"
    },
    "tags": []
   },
   "outputs": [],
   "source": [
    "# Convert the recently created columns to type int for later machine learning\n",
    "df['sunrise_hours']=df['sunrise_hours'].astype('int')\n",
    "df['sunrise_minutes']=df['sunrise_minutes'].astype('int')\n",
    "df['sunset_hours']=df['sunset_hours'].astype('int')\n",
    "df['sunset_minutes']=df['sunset_minutes'].astype('int')"
   ]
  },
  {
   "cell_type": "code",
   "execution_count": 9,
   "id": "4b6f9bd3",
   "metadata": {
    "execution": {
     "iopub.execute_input": "2024-10-07T04:48:30.566626Z",
     "iopub.status.busy": "2024-10-07T04:48:30.566207Z",
     "iopub.status.idle": "2024-10-07T04:48:30.577547Z",
     "shell.execute_reply": "2024-10-07T04:48:30.576340Z"
    },
    "papermill": {
     "duration": 0.020433,
     "end_time": "2024-10-07T04:48:30.580225",
     "exception": false,
     "start_time": "2024-10-07T04:48:30.559792",
     "status": "completed"
    },
    "tags": []
   },
   "outputs": [],
   "source": [
    "# Convert the pressure values to int type as well as the other columns that will be used to train the model in\n",
    "df['mean_pressure(Pa)']=df['mean_pressure(Pa)'].astype('int')\n",
    "df['max_ground_temp(°C)']=df['max_ground_temp(°C)'].astype('int')\n",
    "df['min_ground_temp(°C)']=df['min_ground_temp(°C)'].astype('int')\n",
    "df['max_air_temp(°C)']=df['max_air_temp(°C)'].astype('int')\n",
    "df['min_air_temp(°C)']=df['min_air_temp(°C)'].astype('int')"
   ]
  },
  {
   "cell_type": "code",
   "execution_count": 10,
   "id": "4e06257d",
   "metadata": {
    "execution": {
     "iopub.execute_input": "2024-10-07T04:48:30.591837Z",
     "iopub.status.busy": "2024-10-07T04:48:30.591397Z",
     "iopub.status.idle": "2024-10-07T04:48:30.601222Z",
     "shell.execute_reply": "2024-10-07T04:48:30.599682Z"
    },
    "papermill": {
     "duration": 0.018609,
     "end_time": "2024-10-07T04:48:30.603821",
     "exception": false,
     "start_time": "2024-10-07T04:48:30.585212",
     "status": "completed"
    },
    "tags": []
   },
   "outputs": [],
   "source": [
    "# Make a new dataframe that only contains the columns that will be used to train the model\n",
    "columns_to_keep=[\n",
    "    'mean_pressure(Pa)',\n",
    "    'earth_year',\n",
    "    'earth_month',\n",
    "    'earth_day',\n",
    "    'max_ground_temp(°C)',\n",
    "    'min_ground_temp(°C)',\n",
    "    'max_air_temp(°C)',\n",
    "    'max_air_temp(°C)'\n",
    "]\n",
    "compact_df = df[columns_to_keep]"
   ]
  },
  {
   "cell_type": "markdown",
   "id": "6a3f3315",
   "metadata": {
    "papermill": {
     "duration": 0.00515,
     "end_time": "2024-10-07T04:48:30.613847",
     "exception": false,
     "start_time": "2024-10-07T04:48:30.608697",
     "status": "completed"
    },
    "tags": []
   },
   "source": [
    "### 2. Train the model"
   ]
  },
  {
   "cell_type": "code",
   "execution_count": 11,
   "id": "4e9816ae",
   "metadata": {
    "execution": {
     "iopub.execute_input": "2024-10-07T04:48:30.625641Z",
     "iopub.status.busy": "2024-10-07T04:48:30.625217Z",
     "iopub.status.idle": "2024-10-07T04:48:30.637247Z",
     "shell.execute_reply": "2024-10-07T04:48:30.636200Z"
    },
    "papermill": {
     "duration": 0.021018,
     "end_time": "2024-10-07T04:48:30.639889",
     "exception": false,
     "start_time": "2024-10-07T04:48:30.618871",
     "status": "completed"
    },
    "tags": []
   },
   "outputs": [],
   "source": [
    "# Separate the data from the predicting column\n",
    "X = compact_df.drop('mean_pressure(Pa)',axis=1)\n",
    "y = compact_df['mean_pressure(Pa)']"
   ]
  },
  {
   "cell_type": "code",
   "execution_count": 12,
   "id": "48619df1",
   "metadata": {
    "execution": {
     "iopub.execute_input": "2024-10-07T04:48:30.651983Z",
     "iopub.status.busy": "2024-10-07T04:48:30.651523Z",
     "iopub.status.idle": "2024-10-07T04:48:30.662302Z",
     "shell.execute_reply": "2024-10-07T04:48:30.661130Z"
    },
    "papermill": {
     "duration": 0.019686,
     "end_time": "2024-10-07T04:48:30.664991",
     "exception": false,
     "start_time": "2024-10-07T04:48:30.645305",
     "status": "completed"
    },
    "tags": []
   },
   "outputs": [],
   "source": [
    "# Make training and test data\n",
    "X_train,X_test,y_train,y_test = train_test_split(X,y,test_size=0.2)"
   ]
  },
  {
   "cell_type": "code",
   "execution_count": 13,
   "id": "5249faf9",
   "metadata": {
    "execution": {
     "iopub.execute_input": "2024-10-07T04:48:30.676944Z",
     "iopub.status.busy": "2024-10-07T04:48:30.676537Z",
     "iopub.status.idle": "2024-10-07T04:48:30.689598Z",
     "shell.execute_reply": "2024-10-07T04:48:30.688442Z"
    },
    "papermill": {
     "duration": 0.021965,
     "end_time": "2024-10-07T04:48:30.692327",
     "exception": false,
     "start_time": "2024-10-07T04:48:30.670362",
     "status": "completed"
    },
    "tags": []
   },
   "outputs": [],
   "source": [
    "# Create the model fit and fit the model to the data\n",
    "cls = linear_model.Lasso()\n",
    "model = cls.fit(X_train,y_train)"
   ]
  },
  {
   "cell_type": "markdown",
   "id": "8251750d",
   "metadata": {
    "papermill": {
     "duration": 0.00443,
     "end_time": "2024-10-07T04:48:30.701535",
     "exception": false,
     "start_time": "2024-10-07T04:48:30.697105",
     "status": "completed"
    },
    "tags": []
   },
   "source": [
    "### 3. Score the model"
   ]
  },
  {
   "cell_type": "code",
   "execution_count": 14,
   "id": "65964bc1",
   "metadata": {
    "execution": {
     "iopub.execute_input": "2024-10-07T04:48:30.712857Z",
     "iopub.status.busy": "2024-10-07T04:48:30.712034Z",
     "iopub.status.idle": "2024-10-07T04:48:30.725169Z",
     "shell.execute_reply": "2024-10-07T04:48:30.723969Z"
    },
    "papermill": {
     "duration": 0.021544,
     "end_time": "2024-10-07T04:48:30.727650",
     "exception": false,
     "start_time": "2024-10-07T04:48:30.706106",
     "status": "completed"
    },
    "tags": []
   },
   "outputs": [
    {
     "data": {
      "text/plain": [
       "0.14620795164014733"
      ]
     },
     "execution_count": 14,
     "metadata": {},
     "output_type": "execute_result"
    }
   ],
   "source": [
    "model.score(X_test,y_test)"
   ]
  },
  {
   "cell_type": "code",
   "execution_count": null,
   "id": "70e53a88",
   "metadata": {
    "papermill": {
     "duration": 0.00483,
     "end_time": "2024-10-07T04:48:30.737488",
     "exception": false,
     "start_time": "2024-10-07T04:48:30.732658",
     "status": "completed"
    },
    "tags": []
   },
   "outputs": [],
   "source": []
  }
 ],
 "metadata": {
  "kaggle": {
   "accelerator": "none",
   "dataSources": [
    {
     "datasetId": 1903259,
     "sourceId": 3120525,
     "sourceType": "datasetVersion"
    }
   ],
   "dockerImageVersionId": 30786,
   "isGpuEnabled": false,
   "isInternetEnabled": false,
   "language": "python",
   "sourceType": "notebook"
  },
  "kernelspec": {
   "display_name": "Python 3",
   "language": "python",
   "name": "python3"
  },
  "language_info": {
   "codemirror_mode": {
    "name": "ipython",
    "version": 3
   },
   "file_extension": ".py",
   "mimetype": "text/x-python",
   "name": "python",
   "nbconvert_exporter": "python",
   "pygments_lexer": "ipython3",
   "version": "3.10.14"
  },
  "papermill": {
   "default_parameters": {},
   "duration": 6.877525,
   "end_time": "2024-10-07T04:48:31.365214",
   "environment_variables": {},
   "exception": null,
   "input_path": "__notebook__.ipynb",
   "output_path": "__notebook__.ipynb",
   "parameters": {},
   "start_time": "2024-10-07T04:48:24.487689",
   "version": "2.6.0"
  }
 },
 "nbformat": 4,
 "nbformat_minor": 5
}
