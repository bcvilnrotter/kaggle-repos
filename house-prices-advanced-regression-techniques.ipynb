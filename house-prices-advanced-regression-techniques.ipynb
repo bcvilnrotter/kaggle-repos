{
 "cells": [
  {
   "cell_type": "code",
   "execution_count": 1,
   "id": "e909a7ea",
   "metadata": {
    "_cell_guid": "b1076dfc-b9ad-4769-8c92-a6c4dae69d19",
    "_uuid": "8f2839f25d086af736a60e9eeb907d3b93b6e0e5",
    "execution": {
     "iopub.execute_input": "2024-12-13T23:05:56.675335Z",
     "iopub.status.busy": "2024-12-13T23:05:56.674782Z",
     "iopub.status.idle": "2024-12-13T23:05:57.662158Z",
     "shell.execute_reply": "2024-12-13T23:05:57.660976Z"
    },
    "papermill": {
     "duration": 1.006171,
     "end_time": "2024-12-13T23:05:57.664886",
     "exception": false,
     "start_time": "2024-12-13T23:05:56.658715",
     "status": "completed"
    },
    "tags": []
   },
   "outputs": [
    {
     "name": "stdout",
     "output_type": "stream",
     "text": [
      "/kaggle/input/house-prices-advanced-regression-techniques/sample_submission.csv\n",
      "/kaggle/input/house-prices-advanced-regression-techniques/data_description.txt\n",
      "/kaggle/input/house-prices-advanced-regression-techniques/train.csv\n",
      "/kaggle/input/house-prices-advanced-regression-techniques/test.csv\n"
     ]
    }
   ],
   "source": [
    "# This Python 3 environment comes with many helpful analytics libraries installed\n",
    "# It is defined by the kaggle/python Docker image: https://github.com/kaggle/docker-python\n",
    "# For example, here's several helpful packages to load\n",
    "\n",
    "import numpy as np # linear algebra\n",
    "import pandas as pd # data processing, CSV file I/O (e.g. pd.read_csv)\n",
    "\n",
    "# Input data files are available in the read-only \"../input/\" directory\n",
    "# For example, running this (by clicking run or pressing Shift+Enter) will list all files under the input directory\n",
    "\n",
    "import os\n",
    "for dirname, _, filenames in os.walk('/kaggle/input'):\n",
    "    for filename in filenames:\n",
    "        print(os.path.join(dirname, filename))\n",
    "\n",
    "# You can write up to 20GB to the current directory (/kaggle/working/) that gets preserved as output when you create a version using \"Save & Run All\" \n",
    "# You can also write temporary files to /kaggle/temp/, but they won't be saved outside of the current session"
   ]
  },
  {
   "cell_type": "markdown",
   "id": "2548dd11",
   "metadata": {
    "papermill": {
     "duration": 0.011864,
     "end_time": "2024-12-13T23:05:57.689172",
     "exception": false,
     "start_time": "2024-12-13T23:05:57.677308",
     "status": "completed"
    },
    "tags": []
   },
   "source": [
    "# Table of Contents\n",
    "\n",
    "* [0. Data collection & Gaining familiarity](#chatper0)\n",
    "    * [0.1. High level analysis of data](#chapter0_1)\n",
    "    * [0.2. Comparison of features](#chapter0_2)\n",
    "* [1. Feature engineering & Initial predictions](#chapter1)\n",
    "    * [1.1 Feature engineering & Build pipeline](#chapter1_1)\n",
    "    * [1.2 Initial model building & Predictions](#chapter1_2)\n",
    "* [2. Hyptertuning parameters & Final model selection](#chapter2)\n",
    "* [3. Test data prediction & Submission](#chapter3)"
   ]
  },
  {
   "cell_type": "markdown",
   "id": "2a48778b",
   "metadata": {
    "papermill": {
     "duration": 0.011272,
     "end_time": "2024-12-13T23:05:57.712028",
     "exception": false,
     "start_time": "2024-12-13T23:05:57.700756",
     "status": "completed"
    },
    "tags": []
   },
   "source": [
    "## 0. Data collection & Gaining familiarity <a class=\"anchor\" id=\"chapter0\"></a>"
   ]
  },
  {
   "cell_type": "code",
   "execution_count": 2,
   "id": "4b6da0ab",
   "metadata": {
    "execution": {
     "iopub.execute_input": "2024-12-13T23:05:57.737836Z",
     "iopub.status.busy": "2024-12-13T23:05:57.737280Z",
     "iopub.status.idle": "2024-12-13T23:05:57.742977Z",
     "shell.execute_reply": "2024-12-13T23:05:57.741531Z"
    },
    "papermill": {
     "duration": 0.021411,
     "end_time": "2024-12-13T23:05:57.745346",
     "exception": false,
     "start_time": "2024-12-13T23:05:57.723935",
     "status": "completed"
    },
    "tags": []
   },
   "outputs": [],
   "source": [
    "# Set the random seed\n",
    "np.random.seed(42)"
   ]
  },
  {
   "cell_type": "markdown",
   "id": "2cde4736",
   "metadata": {
    "papermill": {
     "duration": 0.011811,
     "end_time": "2024-12-13T23:05:57.769651",
     "exception": false,
     "start_time": "2024-12-13T23:05:57.757840",
     "status": "completed"
    },
    "tags": []
   },
   "source": [
    "### 0.1. High level analysis of data <a class=\"anchor\" id=\"chapter0_1\"></a>"
   ]
  },
  {
   "cell_type": "code",
   "execution_count": 3,
   "id": "fa89365d",
   "metadata": {
    "execution": {
     "iopub.execute_input": "2024-12-13T23:05:57.796521Z",
     "iopub.status.busy": "2024-12-13T23:05:57.795486Z",
     "iopub.status.idle": "2024-12-13T23:05:57.843580Z",
     "shell.execute_reply": "2024-12-13T23:05:57.842532Z"
    },
    "papermill": {
     "duration": 0.063874,
     "end_time": "2024-12-13T23:05:57.846131",
     "exception": false,
     "start_time": "2024-12-13T23:05:57.782257",
     "status": "completed"
    },
    "tags": []
   },
   "outputs": [],
   "source": [
    "homeprices_train = pd.read_csv(\"/kaggle/input/house-prices-advanced-regression-techniques/train.csv\")"
   ]
  },
  {
   "cell_type": "code",
   "execution_count": 4,
   "id": "b0769c34",
   "metadata": {
    "execution": {
     "iopub.execute_input": "2024-12-13T23:05:57.871423Z",
     "iopub.status.busy": "2024-12-13T23:05:57.871016Z",
     "iopub.status.idle": "2024-12-13T23:06:14.324553Z",
     "shell.execute_reply": "2024-12-13T23:06:14.323200Z"
    },
    "papermill": {
     "duration": 16.469015,
     "end_time": "2024-12-13T23:06:14.327270",
     "exception": false,
     "start_time": "2024-12-13T23:05:57.858255",
     "status": "completed"
    },
    "tags": []
   },
   "outputs": [],
   "source": [
    "import tensorflow_decision_forests as tfdf"
   ]
  },
  {
   "cell_type": "code",
   "execution_count": 5,
   "id": "c84d479b",
   "metadata": {
    "execution": {
     "iopub.execute_input": "2024-12-13T23:06:14.352239Z",
     "iopub.status.busy": "2024-12-13T23:06:14.351587Z",
     "iopub.status.idle": "2024-12-13T23:06:14.823591Z",
     "shell.execute_reply": "2024-12-13T23:06:14.822355Z"
    },
    "papermill": {
     "duration": 0.487496,
     "end_time": "2024-12-13T23:06:14.826451",
     "exception": false,
     "start_time": "2024-12-13T23:06:14.338955",
     "status": "completed"
    },
    "tags": []
   },
   "outputs": [],
   "source": [
    "# make a validation dataset and training dataset for tensorflow\n",
    "def split_tf_dataset(dataset,test_ratio=0.2):\n",
    "    test_indices = np.random.rand(len(dataset)) < test_ratio\n",
    "    return dataset[~test_indices], dataset[test_indices]\n",
    "train_tf,valid_tf = split_tf_dataset(homeprices_train)\n",
    "tf_dataset_train = tfdf.keras.pd_dataframe_to_tf_dataset(train_tf,label='SalePrice',task=tfdf.keras.Task.REGRESSION)\n",
    "tf_dataset_valid = tfdf.keras.pd_dataframe_to_tf_dataset(valid_tf,label='SalePrice',task=tfdf.keras.Task.REGRESSION)"
   ]
  },
  {
   "cell_type": "code",
   "execution_count": 6,
   "id": "57a1db82",
   "metadata": {
    "execution": {
     "iopub.execute_input": "2024-12-13T23:06:14.851488Z",
     "iopub.status.busy": "2024-12-13T23:06:14.851071Z",
     "iopub.status.idle": "2024-12-13T23:06:14.887522Z",
     "shell.execute_reply": "2024-12-13T23:06:14.886410Z"
    },
    "papermill": {
     "duration": 0.052061,
     "end_time": "2024-12-13T23:06:14.890202",
     "exception": false,
     "start_time": "2024-12-13T23:06:14.838141",
     "status": "completed"
    },
    "tags": []
   },
   "outputs": [],
   "source": [
    "homeprices_test = pd.read_csv('/kaggle/input/house-prices-advanced-regression-techniques/test.csv')"
   ]
  },
  {
   "cell_type": "code",
   "execution_count": 7,
   "id": "ff82c1dc",
   "metadata": {
    "execution": {
     "iopub.execute_input": "2024-12-13T23:06:14.915317Z",
     "iopub.status.busy": "2024-12-13T23:06:14.914909Z",
     "iopub.status.idle": "2024-12-13T23:06:15.065422Z",
     "shell.execute_reply": "2024-12-13T23:06:15.063918Z"
    },
    "papermill": {
     "duration": 0.166258,
     "end_time": "2024-12-13T23:06:15.068327",
     "exception": false,
     "start_time": "2024-12-13T23:06:14.902069",
     "status": "completed"
    },
    "tags": []
   },
   "outputs": [
    {
     "name": "stdout",
     "output_type": "stream",
     "text": [
      "              std_train   std_test  abs_diff  rel_diff\n",
      "BedroomAbvGr   0.815778   0.829788  0.014010  0.014010\n",
      "BsmtFullBath   0.518911   0.530648  0.011737  0.011737\n",
      "BsmtHalfBath   0.238753   0.252468  0.013716  0.013716\n",
      "Fireplaces     0.644666   0.647420  0.002754  0.002754\n",
      "FullBath       0.550916   0.555190  0.004274  0.004274\n",
      "GarageCars     0.747315   0.775945  0.028630  0.028630\n",
      "HalfBath       0.502885   0.503017  0.000131  0.000131\n",
      "KitchenAbvGr   0.220338   0.208472  0.011867  0.011867\n",
      "MoSold         2.703626   2.722432  0.018806  0.018806\n",
      "OverallCond    1.112799   1.113740  0.000940  0.000940\n",
      "OverallQual    1.382997   1.436812  0.053815  0.053815\n",
      "TotRmsAbvGrd   1.625393   1.508895  0.116499  0.116499\n",
      "YearBuilt     30.202904  30.390071  0.187167  0.187167\n",
      "YrSold         1.328095   1.301740  0.026355  0.026355\n"
     ]
    }
   ],
   "source": [
    "# Determine the distribution of data for training and testing\n",
    "dist_compare = pd.DataFrame({\n",
    "    'std_train':homeprices_train.describe().T['std'],\n",
    "    'std_test':homeprices_test.describe().T['std']\n",
    "})\n",
    "\n",
    "dist_compare['abs_diff'] = abs(dist_compare['std_train'] - dist_compare['std_test'])\n",
    "dist_compare['rel_diff'] = abs(dist_compare['std_train'] - dist_compare['std_test'])\n",
    "\n",
    "# show the std values for those that are close in alignment between the training data and the test data\n",
    "print(dist_compare[dist_compare['abs_diff'] <= .2])\n",
    "\n",
    "# make the resulting features identified as a list to use in training later\n",
    "dist_similar_numerical_features = dist_compare[dist_compare['abs_diff'] <= 2].index.tolist()"
   ]
  },
  {
   "cell_type": "markdown",
   "id": "b81da47b",
   "metadata": {
    "papermill": {
     "duration": 0.01122,
     "end_time": "2024-12-13T23:06:15.092198",
     "exception": false,
     "start_time": "2024-12-13T23:06:15.080978",
     "status": "completed"
    },
    "tags": []
   },
   "source": [
    "Although not the best way to determine how to train a model, the above shows us that for the numerical features only a subset of them have a std that matches closely with that of the training data. It could be nice to match only those that fit well within the testing data to ensure that we are getting good values and thus get a better score, but this isn't good for a real world scenario in which we are trying to make predictive models that don't just score well."
   ]
  },
  {
   "cell_type": "code",
   "execution_count": 8,
   "id": "904d7d75",
   "metadata": {
    "execution": {
     "iopub.execute_input": "2024-12-13T23:06:15.117377Z",
     "iopub.status.busy": "2024-12-13T23:06:15.116969Z",
     "iopub.status.idle": "2024-12-13T23:06:15.124579Z",
     "shell.execute_reply": "2024-12-13T23:06:15.123484Z"
    },
    "papermill": {
     "duration": 0.023001,
     "end_time": "2024-12-13T23:06:15.126878",
     "exception": false,
     "start_time": "2024-12-13T23:06:15.103877",
     "status": "completed"
    },
    "tags": []
   },
   "outputs": [
    {
     "data": {
      "text/plain": [
       "1460"
      ]
     },
     "execution_count": 8,
     "metadata": {},
     "output_type": "execute_result"
    }
   ],
   "source": [
    "len(homeprices_train)"
   ]
  },
  {
   "cell_type": "code",
   "execution_count": 9,
   "id": "e1d52bec",
   "metadata": {
    "execution": {
     "iopub.execute_input": "2024-12-13T23:06:15.152151Z",
     "iopub.status.busy": "2024-12-13T23:06:15.151745Z",
     "iopub.status.idle": "2024-12-13T23:06:15.177734Z",
     "shell.execute_reply": "2024-12-13T23:06:15.176353Z"
    },
    "papermill": {
     "duration": 0.041689,
     "end_time": "2024-12-13T23:06:15.180474",
     "exception": false,
     "start_time": "2024-12-13T23:06:15.138785",
     "status": "completed"
    },
    "tags": []
   },
   "outputs": [
    {
     "name": "stdout",
     "output_type": "stream",
     "text": [
      "   Id  MSSubClass MSZoning  LotFrontage  LotArea Street Alley LotShape  \\\n",
      "0   1          60       RL         65.0     8450   Pave   NaN      Reg   \n",
      "1   2          20       RL         80.0     9600   Pave   NaN      Reg   \n",
      "2   3          60       RL         68.0    11250   Pave   NaN      IR1   \n",
      "3   4          70       RL         60.0     9550   Pave   NaN      IR1   \n",
      "4   5          60       RL         84.0    14260   Pave   NaN      IR1   \n",
      "\n",
      "  LandContour Utilities LotConfig LandSlope Neighborhood Condition1  \\\n",
      "0         Lvl    AllPub    Inside       Gtl      CollgCr       Norm   \n",
      "1         Lvl    AllPub       FR2       Gtl      Veenker      Feedr   \n",
      "2         Lvl    AllPub    Inside       Gtl      CollgCr       Norm   \n",
      "3         Lvl    AllPub    Corner       Gtl      Crawfor       Norm   \n",
      "4         Lvl    AllPub       FR2       Gtl      NoRidge       Norm   \n",
      "\n",
      "  Condition2 BldgType HouseStyle  OverallQual  OverallCond  YearBuilt  \\\n",
      "0       Norm     1Fam     2Story            7            5       2003   \n",
      "1       Norm     1Fam     1Story            6            8       1976   \n",
      "2       Norm     1Fam     2Story            7            5       2001   \n",
      "3       Norm     1Fam     2Story            7            5       1915   \n",
      "4       Norm     1Fam     2Story            8            5       2000   \n",
      "\n",
      "   YearRemodAdd RoofStyle RoofMatl Exterior1st Exterior2nd MasVnrType  \\\n",
      "0          2003     Gable  CompShg     VinylSd     VinylSd    BrkFace   \n",
      "1          1976     Gable  CompShg     MetalSd     MetalSd        NaN   \n",
      "2          2002     Gable  CompShg     VinylSd     VinylSd    BrkFace   \n",
      "3          1970     Gable  CompShg     Wd Sdng     Wd Shng        NaN   \n",
      "4          2000     Gable  CompShg     VinylSd     VinylSd    BrkFace   \n",
      "\n",
      "   MasVnrArea ExterQual ExterCond Foundation BsmtQual BsmtCond BsmtExposure  \\\n",
      "0       196.0        Gd        TA      PConc       Gd       TA           No   \n",
      "1         0.0        TA        TA     CBlock       Gd       TA           Gd   \n",
      "2       162.0        Gd        TA      PConc       Gd       TA           Mn   \n",
      "3         0.0        TA        TA     BrkTil       TA       Gd           No   \n",
      "4       350.0        Gd        TA      PConc       Gd       TA           Av   \n",
      "\n",
      "  BsmtFinType1  BsmtFinSF1 BsmtFinType2  BsmtFinSF2  BsmtUnfSF  TotalBsmtSF  \\\n",
      "0          GLQ         706          Unf           0        150          856   \n",
      "1          ALQ         978          Unf           0        284         1262   \n",
      "2          GLQ         486          Unf           0        434          920   \n",
      "3          ALQ         216          Unf           0        540          756   \n",
      "4          GLQ         655          Unf           0        490         1145   \n",
      "\n",
      "  Heating HeatingQC CentralAir Electrical  1stFlrSF  2ndFlrSF  LowQualFinSF  \\\n",
      "0    GasA        Ex          Y      SBrkr       856       854             0   \n",
      "1    GasA        Ex          Y      SBrkr      1262         0             0   \n",
      "2    GasA        Ex          Y      SBrkr       920       866             0   \n",
      "3    GasA        Gd          Y      SBrkr       961       756             0   \n",
      "4    GasA        Ex          Y      SBrkr      1145      1053             0   \n",
      "\n",
      "   GrLivArea  BsmtFullBath  BsmtHalfBath  FullBath  HalfBath  BedroomAbvGr  \\\n",
      "0       1710             1             0         2         1             3   \n",
      "1       1262             0             1         2         0             3   \n",
      "2       1786             1             0         2         1             3   \n",
      "3       1717             1             0         1         0             3   \n",
      "4       2198             1             0         2         1             4   \n",
      "\n",
      "   KitchenAbvGr KitchenQual  TotRmsAbvGrd Functional  Fireplaces FireplaceQu  \\\n",
      "0             1          Gd             8        Typ           0         NaN   \n",
      "1             1          TA             6        Typ           1          TA   \n",
      "2             1          Gd             6        Typ           1          TA   \n",
      "3             1          Gd             7        Typ           1          Gd   \n",
      "4             1          Gd             9        Typ           1          TA   \n",
      "\n",
      "  GarageType  GarageYrBlt GarageFinish  GarageCars  GarageArea GarageQual  \\\n",
      "0     Attchd       2003.0          RFn           2         548         TA   \n",
      "1     Attchd       1976.0          RFn           2         460         TA   \n",
      "2     Attchd       2001.0          RFn           2         608         TA   \n",
      "3     Detchd       1998.0          Unf           3         642         TA   \n",
      "4     Attchd       2000.0          RFn           3         836         TA   \n",
      "\n",
      "  GarageCond PavedDrive  WoodDeckSF  OpenPorchSF  EnclosedPorch  3SsnPorch  \\\n",
      "0         TA          Y           0           61              0          0   \n",
      "1         TA          Y         298            0              0          0   \n",
      "2         TA          Y           0           42              0          0   \n",
      "3         TA          Y           0           35            272          0   \n",
      "4         TA          Y         192           84              0          0   \n",
      "\n",
      "   ScreenPorch  PoolArea PoolQC Fence MiscFeature  MiscVal  MoSold  YrSold  \\\n",
      "0            0         0    NaN   NaN         NaN        0       2    2008   \n",
      "1            0         0    NaN   NaN         NaN        0       5    2007   \n",
      "2            0         0    NaN   NaN         NaN        0       9    2008   \n",
      "3            0         0    NaN   NaN         NaN        0       2    2006   \n",
      "4            0         0    NaN   NaN         NaN        0      12    2008   \n",
      "\n",
      "  SaleType SaleCondition  SalePrice  \n",
      "0       WD        Normal     208500  \n",
      "1       WD        Normal     181500  \n",
      "2       WD        Normal     223500  \n",
      "3       WD       Abnorml     140000  \n",
      "4       WD        Normal     250000  \n"
     ]
    }
   ],
   "source": [
    "with pd.option_context('display.max_rows',None,'display.max_columns',None):\n",
    "    print(homeprices_train.head())"
   ]
  },
  {
   "cell_type": "code",
   "execution_count": 10,
   "id": "92bb933c",
   "metadata": {
    "execution": {
     "iopub.execute_input": "2024-12-13T23:06:15.207335Z",
     "iopub.status.busy": "2024-12-13T23:06:15.206918Z",
     "iopub.status.idle": "2024-12-13T23:06:15.237047Z",
     "shell.execute_reply": "2024-12-13T23:06:15.235808Z"
    },
    "papermill": {
     "duration": 0.046434,
     "end_time": "2024-12-13T23:06:15.239360",
     "exception": false,
     "start_time": "2024-12-13T23:06:15.192926",
     "status": "completed"
    },
    "tags": []
   },
   "outputs": [
    {
     "name": "stdout",
     "output_type": "stream",
     "text": [
      "<class 'pandas.core.frame.DataFrame'>\n",
      "RangeIndex: 1460 entries, 0 to 1459\n",
      "Data columns (total 81 columns):\n",
      " #   Column         Non-Null Count  Dtype  \n",
      "---  ------         --------------  -----  \n",
      " 0   Id             1460 non-null   int64  \n",
      " 1   MSSubClass     1460 non-null   int64  \n",
      " 2   MSZoning       1460 non-null   object \n",
      " 3   LotFrontage    1201 non-null   float64\n",
      " 4   LotArea        1460 non-null   int64  \n",
      " 5   Street         1460 non-null   object \n",
      " 6   Alley          91 non-null     object \n",
      " 7   LotShape       1460 non-null   object \n",
      " 8   LandContour    1460 non-null   object \n",
      " 9   Utilities      1460 non-null   object \n",
      " 10  LotConfig      1460 non-null   object \n",
      " 11  LandSlope      1460 non-null   object \n",
      " 12  Neighborhood   1460 non-null   object \n",
      " 13  Condition1     1460 non-null   object \n",
      " 14  Condition2     1460 non-null   object \n",
      " 15  BldgType       1460 non-null   object \n",
      " 16  HouseStyle     1460 non-null   object \n",
      " 17  OverallQual    1460 non-null   int64  \n",
      " 18  OverallCond    1460 non-null   int64  \n",
      " 19  YearBuilt      1460 non-null   int64  \n",
      " 20  YearRemodAdd   1460 non-null   int64  \n",
      " 21  RoofStyle      1460 non-null   object \n",
      " 22  RoofMatl       1460 non-null   object \n",
      " 23  Exterior1st    1460 non-null   object \n",
      " 24  Exterior2nd    1460 non-null   object \n",
      " 25  MasVnrType     588 non-null    object \n",
      " 26  MasVnrArea     1452 non-null   float64\n",
      " 27  ExterQual      1460 non-null   object \n",
      " 28  ExterCond      1460 non-null   object \n",
      " 29  Foundation     1460 non-null   object \n",
      " 30  BsmtQual       1423 non-null   object \n",
      " 31  BsmtCond       1423 non-null   object \n",
      " 32  BsmtExposure   1422 non-null   object \n",
      " 33  BsmtFinType1   1423 non-null   object \n",
      " 34  BsmtFinSF1     1460 non-null   int64  \n",
      " 35  BsmtFinType2   1422 non-null   object \n",
      " 36  BsmtFinSF2     1460 non-null   int64  \n",
      " 37  BsmtUnfSF      1460 non-null   int64  \n",
      " 38  TotalBsmtSF    1460 non-null   int64  \n",
      " 39  Heating        1460 non-null   object \n",
      " 40  HeatingQC      1460 non-null   object \n",
      " 41  CentralAir     1460 non-null   object \n",
      " 42  Electrical     1459 non-null   object \n",
      " 43  1stFlrSF       1460 non-null   int64  \n",
      " 44  2ndFlrSF       1460 non-null   int64  \n",
      " 45  LowQualFinSF   1460 non-null   int64  \n",
      " 46  GrLivArea      1460 non-null   int64  \n",
      " 47  BsmtFullBath   1460 non-null   int64  \n",
      " 48  BsmtHalfBath   1460 non-null   int64  \n",
      " 49  FullBath       1460 non-null   int64  \n",
      " 50  HalfBath       1460 non-null   int64  \n",
      " 51  BedroomAbvGr   1460 non-null   int64  \n",
      " 52  KitchenAbvGr   1460 non-null   int64  \n",
      " 53  KitchenQual    1460 non-null   object \n",
      " 54  TotRmsAbvGrd   1460 non-null   int64  \n",
      " 55  Functional     1460 non-null   object \n",
      " 56  Fireplaces     1460 non-null   int64  \n",
      " 57  FireplaceQu    770 non-null    object \n",
      " 58  GarageType     1379 non-null   object \n",
      " 59  GarageYrBlt    1379 non-null   float64\n",
      " 60  GarageFinish   1379 non-null   object \n",
      " 61  GarageCars     1460 non-null   int64  \n",
      " 62  GarageArea     1460 non-null   int64  \n",
      " 63  GarageQual     1379 non-null   object \n",
      " 64  GarageCond     1379 non-null   object \n",
      " 65  PavedDrive     1460 non-null   object \n",
      " 66  WoodDeckSF     1460 non-null   int64  \n",
      " 67  OpenPorchSF    1460 non-null   int64  \n",
      " 68  EnclosedPorch  1460 non-null   int64  \n",
      " 69  3SsnPorch      1460 non-null   int64  \n",
      " 70  ScreenPorch    1460 non-null   int64  \n",
      " 71  PoolArea       1460 non-null   int64  \n",
      " 72  PoolQC         7 non-null      object \n",
      " 73  Fence          281 non-null    object \n",
      " 74  MiscFeature    54 non-null     object \n",
      " 75  MiscVal        1460 non-null   int64  \n",
      " 76  MoSold         1460 non-null   int64  \n",
      " 77  YrSold         1460 non-null   int64  \n",
      " 78  SaleType       1460 non-null   object \n",
      " 79  SaleCondition  1460 non-null   object \n",
      " 80  SalePrice      1460 non-null   int64  \n",
      "dtypes: float64(3), int64(35), object(43)\n",
      "memory usage: 924.0+ KB\n"
     ]
    }
   ],
   "source": [
    "homeprices_train.info()"
   ]
  },
  {
   "cell_type": "markdown",
   "id": "29fa19f7",
   "metadata": {
    "papermill": {
     "duration": 0.011895,
     "end_time": "2024-12-13T23:06:15.263461",
     "exception": false,
     "start_time": "2024-12-13T23:06:15.251566",
     "status": "completed"
    },
    "tags": []
   },
   "source": [
    "### 0.2. Comparison of features <a class=\"anchor\" id=\"chapter0_2\"></a>"
   ]
  },
  {
   "cell_type": "code",
   "execution_count": 11,
   "id": "c4585e04",
   "metadata": {
    "execution": {
     "iopub.execute_input": "2024-12-13T23:06:15.290247Z",
     "iopub.status.busy": "2024-12-13T23:06:15.289848Z",
     "iopub.status.idle": "2024-12-13T23:06:16.512901Z",
     "shell.execute_reply": "2024-12-13T23:06:16.511891Z"
    },
    "papermill": {
     "duration": 1.239896,
     "end_time": "2024-12-13T23:06:16.515399",
     "exception": false,
     "start_time": "2024-12-13T23:06:15.275503",
     "status": "completed"
    },
    "tags": []
   },
   "outputs": [],
   "source": [
    "import seaborn as sns\n",
    "import matplotlib.pyplot as plt"
   ]
  },
  {
   "cell_type": "markdown",
   "id": "75db8537",
   "metadata": {
    "papermill": {
     "duration": 0.012556,
     "end_time": "2024-12-13T23:06:16.540417",
     "exception": false,
     "start_time": "2024-12-13T23:06:16.527861",
     "status": "completed"
    },
    "tags": []
   },
   "source": [
    "#### 0.2.1 Numerical features"
   ]
  },
  {
   "cell_type": "code",
   "execution_count": 12,
   "id": "0db1f927",
   "metadata": {
    "execution": {
     "iopub.execute_input": "2024-12-13T23:06:16.567020Z",
     "iopub.status.busy": "2024-12-13T23:06:16.566340Z",
     "iopub.status.idle": "2024-12-13T23:06:17.115918Z",
     "shell.execute_reply": "2024-12-13T23:06:17.114694Z"
    },
    "papermill": {
     "duration": 0.566519,
     "end_time": "2024-12-13T23:06:17.119146",
     "exception": false,
     "start_time": "2024-12-13T23:06:16.552627",
     "status": "completed"
    },
    "tags": []
   },
   "outputs": [
    {
     "data": {
      "text/plain": [
       "<Axes: >"
      ]
     },
     "execution_count": 12,
     "metadata": {},
     "output_type": "execute_result"
    },
    {
     "data": {
      "image/png": "[encoded data removed]",
      "text/plain": [
       "<Figure size 640x480 with 2 Axes>"
      ]
     },
     "metadata": {},
     "output_type": "display_data"
    }
   ],
   "source": [
    "# Our next goal would be to compare the features and see if there are any features that work well with the label (SalePrice)\n",
    "sns.heatmap(homeprices_train.select_dtypes(include=\"number\").corr())"
   ]
  },
  {
   "cell_type": "code",
   "execution_count": 13,
   "id": "75193f2e",
   "metadata": {
    "execution": {
     "iopub.execute_input": "2024-12-13T23:06:17.148461Z",
     "iopub.status.busy": "2024-12-13T23:06:17.147492Z",
     "iopub.status.idle": "2024-12-13T23:06:17.649482Z",
     "shell.execute_reply": "2024-12-13T23:06:17.648200Z"
    },
    "papermill": {
     "duration": 0.519261,
     "end_time": "2024-12-13T23:06:17.652078",
     "exception": false,
     "start_time": "2024-12-13T23:06:17.132817",
     "status": "completed"
    },
    "tags": []
   },
   "outputs": [
    {
     "data": {
      "image/png": "[encoded data removed]",
      "text/plain": [
       "<Figure size 1000x600 with 1 Axes>"
      ]
     },
     "metadata": {},
     "output_type": "display_data"
    }
   ],
   "source": [
    "numerical_correlation_list = []\n",
    "\n",
    "# The above is a bit cluttered and unruly\n",
    "# Let's see if we can get some more relevant information out of it\n",
    "corr = homeprices_train.corr(numeric_only=True)\n",
    "label_corr = corr['SalePrice'].drop('SalePrice').sort_values(ascending=False)\n",
    "plt.figure(figsize=(10,6))\n",
    "sns.barplot(x=label_corr.values,y=label_corr.index,palette='viridis')\n",
    "plt.xlabel(\"Correlation Coefficient\")\n",
    "plt.ylabel(\"Features\")\n",
    "plt.tight_layout\n",
    "plt.show()\n",
    "\n",
    "for num in label_corr.index:\n",
    "    comp = label_corr[num]\n",
    "    if comp >= 0.7 or comp <= -0.7:\n",
    "        numerical_correlation_list.append(num)"
   ]
  },
  {
   "cell_type": "code",
   "execution_count": 14,
   "id": "ecf7915c",
   "metadata": {
    "execution": {
     "iopub.execute_input": "2024-12-13T23:06:17.685847Z",
     "iopub.status.busy": "2024-12-13T23:06:17.685441Z",
     "iopub.status.idle": "2024-12-13T23:06:17.691358Z",
     "shell.execute_reply": "2024-12-13T23:06:17.690037Z"
    },
    "papermill": {
     "duration": 0.026497,
     "end_time": "2024-12-13T23:06:17.693891",
     "exception": false,
     "start_time": "2024-12-13T23:06:17.667394",
     "status": "completed"
    },
    "tags": []
   },
   "outputs": [],
   "source": [
    "# Based on the above numerical correlations we can take a handful of the most\n",
    "# correlated features and attempt to make a basic model out of them\n",
    "first_numerical_categories = [\"OverallQual\",\"GrLivArea\",'GarageCars','GarageArea','TotalBsmtSF','1stFlrSF','FullBath']"
   ]
  },
  {
   "cell_type": "markdown",
   "id": "16199d19",
   "metadata": {
    "papermill": {
     "duration": 0.014086,
     "end_time": "2024-12-13T23:06:17.722515",
     "exception": false,
     "start_time": "2024-12-13T23:06:17.708429",
     "status": "completed"
    },
    "tags": []
   },
   "source": [
    "#### 0.2.2 Categorical features\n",
    "Will tackle next. The fact I'm getting almost 50% accurate predictions without even touching the categorical features initially looks promising"
   ]
  },
  {
   "cell_type": "markdown",
   "id": "139e6ca3",
   "metadata": {
    "papermill": {
     "duration": 0.013927,
     "end_time": "2024-12-13T23:06:17.750752",
     "exception": false,
     "start_time": "2024-12-13T23:06:17.736825",
     "status": "completed"
    },
    "tags": []
   },
   "source": [
    "## 1. Feature engineering & Initial predictions <a class=\"anchor\" id=\"chapter1\"></a>"
   ]
  },
  {
   "cell_type": "markdown",
   "id": "37a65202",
   "metadata": {
    "papermill": {
     "duration": 0.01388,
     "end_time": "2024-12-13T23:06:17.778930",
     "exception": false,
     "start_time": "2024-12-13T23:06:17.765050",
     "status": "completed"
    },
    "tags": []
   },
   "source": [
    "### 1.1 Feature engineering & Build pipeline <a class=\"anchor\" id=\"chapter1_1\" ></a>\n",
    "Let's skip feature engineering for now"
   ]
  },
  {
   "cell_type": "code",
   "execution_count": 15,
   "id": "14043323",
   "metadata": {
    "execution": {
     "iopub.execute_input": "2024-12-13T23:06:17.809219Z",
     "iopub.status.busy": "2024-12-13T23:06:17.808799Z",
     "iopub.status.idle": "2024-12-13T23:06:18.329869Z",
     "shell.execute_reply": "2024-12-13T23:06:18.328686Z"
    },
    "papermill": {
     "duration": 0.539715,
     "end_time": "2024-12-13T23:06:18.332901",
     "exception": false,
     "start_time": "2024-12-13T23:06:17.793186",
     "status": "completed"
    },
    "tags": []
   },
   "outputs": [],
   "source": [
    "from sklearn.compose import ColumnTransformer\n",
    "from sklearn.impute import SimpleImputer\n",
    "from sklearn.pipeline import Pipeline\n",
    "from sklearn.preprocessing import StandardScaler,OneHotEncoder,FunctionTransformer,PolynomialFeatures\n",
    "from sklearn.feature_selection import mutual_info_regression\n",
    "from scipy.stats import f_oneway,pearsonr"
   ]
  },
  {
   "cell_type": "code",
   "execution_count": 16,
   "id": "dccf4d87",
   "metadata": {
    "execution": {
     "iopub.execute_input": "2024-12-13T23:06:18.365304Z",
     "iopub.status.busy": "2024-12-13T23:06:18.364900Z",
     "iopub.status.idle": "2024-12-13T23:06:18.372122Z",
     "shell.execute_reply": "2024-12-13T23:06:18.370834Z"
    },
    "papermill": {
     "duration": 0.026463,
     "end_time": "2024-12-13T23:06:18.374539",
     "exception": false,
     "start_time": "2024-12-13T23:06:18.348076",
     "status": "completed"
    },
    "tags": []
   },
   "outputs": [],
   "source": [
    "# Make specific metrics as side-by-side tables for easier comparison purposes\n",
    "# function that takes a column and provides a more detailed dtype value if it is an object\n",
    "def get_inferred_type(column):\n",
    "    if pd.api.types.is_object_dtype(column):\n",
    "        sample_value = column.dropna().iloc[0]\n",
    "        return type(sample_value).__name__\n",
    "    else:\n",
    "        return column.dtype\n",
    "\n",
    "# Make a function that returns a comparison dataframe\n",
    "def comparison_table(df):\n",
    "    return pd.DataFrame({\n",
    "        'Data Types':df.apply(get_inferred_type),\n",
    "        'Missing Values':df.isna().sum(),\n",
    "        'Unique Values':df.nunique()\n",
    "    })"
   ]
  },
  {
   "cell_type": "code",
   "execution_count": 17,
   "id": "65e6e149",
   "metadata": {
    "execution": {
     "iopub.execute_input": "2024-12-13T23:06:18.405252Z",
     "iopub.status.busy": "2024-12-13T23:06:18.404868Z",
     "iopub.status.idle": "2024-12-13T23:06:18.411193Z",
     "shell.execute_reply": "2024-12-13T23:06:18.409819Z"
    },
    "papermill": {
     "duration": 0.024595,
     "end_time": "2024-12-13T23:06:18.413634",
     "exception": false,
     "start_time": "2024-12-13T23:06:18.389039",
     "status": "completed"
    },
    "tags": []
   },
   "outputs": [],
   "source": [
    "# build a function to manually expand the column categories that are giving issues when being put through OneHotEncoding alone\n",
    "def manual_encode_feature(df,column):\n",
    "    dummies = pd.get_dummies(df[column],prefix=column)\n",
    "    df_expanded = pd.concat([df,dummies],axis=1)\n",
    "    df_expanded = df_expanded.drop(columns=[column])\n",
    "    df_expanded.columns = df_expanded.columns.str.replace(r'[()\\s]','_',regex=True)\n",
    "    return df_expanded"
   ]
  },
  {
   "cell_type": "code",
   "execution_count": 18,
   "id": "f2a1f534",
   "metadata": {
    "execution": {
     "iopub.execute_input": "2024-12-13T23:06:18.444805Z",
     "iopub.status.busy": "2024-12-13T23:06:18.444372Z",
     "iopub.status.idle": "2024-12-13T23:06:18.538223Z",
     "shell.execute_reply": "2024-12-13T23:06:18.537030Z"
    },
    "papermill": {
     "duration": 0.112886,
     "end_time": "2024-12-13T23:06:18.541034",
     "exception": false,
     "start_time": "2024-12-13T23:06:18.428148",
     "status": "completed"
    },
    "tags": []
   },
   "outputs": [
    {
     "name": "stdout",
     "output_type": "stream",
     "text": [
      "Matching Indecs:  [(271, 'RoofMatl')]\n"
     ]
    },
    {
     "name": "stderr",
     "output_type": "stream",
     "text": [
      "/tmp/ipykernel_17/1347738144.py:1: FutureWarning: DataFrame.applymap has been deprecated. Use DataFrame.map instead.\n",
      "  matches = homeprices_train.applymap(lambda x: 'Membran' in str(x))\n"
     ]
    }
   ],
   "source": [
    "matches = homeprices_train.applymap(lambda x: 'Membran' in str(x))\n",
    "matching_indeces = matches[matches].stack().index.tolist()\n",
    "print(\"Matching Indecs: \",matching_indeces)"
   ]
  },
  {
   "cell_type": "code",
   "execution_count": 19,
   "id": "c37e4c06",
   "metadata": {
    "execution": {
     "iopub.execute_input": "2024-12-13T23:06:18.572258Z",
     "iopub.status.busy": "2024-12-13T23:06:18.571849Z",
     "iopub.status.idle": "2024-12-13T23:06:18.659220Z",
     "shell.execute_reply": "2024-12-13T23:06:18.657982Z"
    },
    "papermill": {
     "duration": 0.105735,
     "end_time": "2024-12-13T23:06:18.661735",
     "exception": false,
     "start_time": "2024-12-13T23:06:18.556000",
     "status": "completed"
    },
    "tags": []
   },
   "outputs": [
    {
     "name": "stdout",
     "output_type": "stream",
     "text": [
      "Matching Indecs:  [(398, 'Electrical')]\n"
     ]
    },
    {
     "name": "stderr",
     "output_type": "stream",
     "text": [
      "/tmp/ipykernel_17/3260912473.py:1: FutureWarning: DataFrame.applymap has been deprecated. Use DataFrame.map instead.\n",
      "  matches = homeprices_train.applymap(lambda x: 'Mix' in str(x))\n"
     ]
    }
   ],
   "source": [
    "matches = homeprices_train.applymap(lambda x: 'Mix' in str(x))\n",
    "matching_indeces = matches[matches].stack().index.tolist()\n",
    "print(\"Matching Indecs: \",matching_indeces)"
   ]
  },
  {
   "cell_type": "code",
   "execution_count": 20,
   "id": "d8617cd9",
   "metadata": {
    "execution": {
     "iopub.execute_input": "2024-12-13T23:06:18.695427Z",
     "iopub.status.busy": "2024-12-13T23:06:18.695014Z",
     "iopub.status.idle": "2024-12-13T23:06:18.790621Z",
     "shell.execute_reply": "2024-12-13T23:06:18.789466Z"
    },
    "papermill": {
     "duration": 0.114693,
     "end_time": "2024-12-13T23:06:18.792888",
     "exception": false,
     "start_time": "2024-12-13T23:06:18.678195",
     "status": "completed"
    },
    "tags": []
   },
   "outputs": [
    {
     "name": "stderr",
     "output_type": "stream",
     "text": [
      "/tmp/ipykernel_17/970409909.py:1: FutureWarning: DataFrame.applymap has been deprecated. Use DataFrame.map instead.\n",
      "  matches = homeprices_train.applymap(lambda x: 'ImStucc' in str(x))\n"
     ]
    },
    {
     "name": "stdout",
     "output_type": "stream",
     "text": [
      "Matching Indecs:  [(274, 'Exterior2nd'), (284, 'Exterior2nd'), (358, 'Exterior2nd'), (655, 'Exterior2nd'), (718, 'Exterior2nd'), (779, 'Exterior2nd'), (932, 'Exterior2nd'), (1138, 'Exterior2nd'), (1182, 'Exterior2nd'), (1187, 'Exterior1st'), (1187, 'Exterior2nd')]\n"
     ]
    }
   ],
   "source": [
    "matches = homeprices_train.applymap(lambda x: 'ImStucc' in str(x))\n",
    "matching_indeces = matches[matches].stack().index.tolist()\n",
    "print(\"Matching Indecs: \",matching_indeces)"
   ]
  },
  {
   "cell_type": "code",
   "execution_count": 21,
   "id": "df3e7be8",
   "metadata": {
    "execution": {
     "iopub.execute_input": "2024-12-13T23:06:18.824385Z",
     "iopub.status.busy": "2024-12-13T23:06:18.824001Z",
     "iopub.status.idle": "2024-12-13T23:06:18.843356Z",
     "shell.execute_reply": "2024-12-13T23:06:18.842033Z"
    },
    "papermill": {
     "duration": 0.03819,
     "end_time": "2024-12-13T23:06:18.846081",
     "exception": false,
     "start_time": "2024-12-13T23:06:18.807891",
     "status": "completed"
    },
    "tags": []
   },
   "outputs": [
    {
     "data": {
      "text/plain": [
       "Index(['Id', 'MSSubClass', 'MSZoning', 'LotFrontage', 'LotArea', 'Street',\n",
       "       'Alley', 'LotShape', 'LandContour', 'Utilities', 'LotConfig',\n",
       "       'LandSlope', 'Neighborhood', 'Condition1', 'Condition2', 'BldgType',\n",
       "       'HouseStyle', 'OverallQual', 'OverallCond', 'YearBuilt', 'YearRemodAdd',\n",
       "       'RoofStyle', 'Exterior1st', 'Exterior2nd', 'MasVnrType', 'MasVnrArea',\n",
       "       'ExterQual', 'ExterCond', 'Foundation', 'BsmtQual', 'BsmtCond',\n",
       "       'BsmtExposure', 'BsmtFinType1', 'BsmtFinSF1', 'BsmtFinType2',\n",
       "       'BsmtFinSF2', 'BsmtUnfSF', 'TotalBsmtSF', 'Heating', 'HeatingQC',\n",
       "       'CentralAir', '1stFlrSF', '2ndFlrSF', 'LowQualFinSF', 'GrLivArea',\n",
       "       'BsmtFullBath', 'BsmtHalfBath', 'FullBath', 'HalfBath', 'BedroomAbvGr',\n",
       "       'KitchenAbvGr', 'KitchenQual', 'TotRmsAbvGrd', 'Functional',\n",
       "       'Fireplaces', 'FireplaceQu', 'GarageType', 'GarageYrBlt',\n",
       "       'GarageFinish', 'GarageCars', 'GarageArea', 'GarageQual', 'GarageCond',\n",
       "       'PavedDrive', 'WoodDeckSF', 'OpenPorchSF', 'EnclosedPorch', '3SsnPorch',\n",
       "       'ScreenPorch', 'PoolArea', 'PoolQC', 'Fence', 'MiscFeature', 'MiscVal',\n",
       "       'MoSold', 'YrSold', 'SaleType', 'SaleCondition', 'SalePrice',\n",
       "       'RoofMatl_ClyTile', 'RoofMatl_CompShg', 'RoofMatl_Membran',\n",
       "       'RoofMatl_Metal', 'RoofMatl_Roll', 'RoofMatl_Tar&Grv',\n",
       "       'RoofMatl_WdShake', 'RoofMatl_WdShngl', 'Electrical_FuseA',\n",
       "       'Electrical_FuseF', 'Electrical_FuseP', 'Electrical_Mix',\n",
       "       'Electrical_SBrkr'],\n",
       "      dtype='object')"
      ]
     },
     "execution_count": 21,
     "metadata": {},
     "output_type": "execute_result"
    }
   ],
   "source": [
    "column_exploder_list = ['RoofMatl','Electrical']\n",
    "for column in column_exploder_list:\n",
    "    homeprices_train = manual_encode_feature(homeprices_train,column)\n",
    "homeprices_train.columns"
   ]
  },
  {
   "cell_type": "code",
   "execution_count": 22,
   "id": "a4b24abb",
   "metadata": {
    "execution": {
     "iopub.execute_input": "2024-12-13T23:06:18.878033Z",
     "iopub.status.busy": "2024-12-13T23:06:18.877622Z",
     "iopub.status.idle": "2024-12-13T23:06:18.916044Z",
     "shell.execute_reply": "2024-12-13T23:06:18.914590Z"
    },
    "papermill": {
     "duration": 0.057527,
     "end_time": "2024-12-13T23:06:18.918845",
     "exception": false,
     "start_time": "2024-12-13T23:06:18.861318",
     "status": "completed"
    },
    "tags": []
   },
   "outputs": [
    {
     "name": "stdout",
     "output_type": "stream",
     "text": [
      "                 Data Types  Missing Values  Unique Values\n",
      "Id                    int64               0           1460\n",
      "MSSubClass            int64               0             15\n",
      "MSZoning                str               0              5\n",
      "LotFrontage         float64             259            110\n",
      "LotArea               int64               0           1073\n",
      "Street                  str               0              2\n",
      "Alley                   str            1369              2\n",
      "LotShape                str               0              4\n",
      "LandContour             str               0              4\n",
      "Utilities               str               0              2\n",
      "LotConfig               str               0              5\n",
      "LandSlope               str               0              3\n",
      "Neighborhood            str               0             25\n",
      "Condition1              str               0              9\n",
      "Condition2              str               0              8\n",
      "BldgType                str               0              5\n",
      "HouseStyle              str               0              8\n",
      "OverallQual           int64               0             10\n",
      "OverallCond           int64               0              9\n",
      "YearBuilt             int64               0            112\n",
      "YearRemodAdd          int64               0             61\n",
      "RoofStyle               str               0              6\n",
      "Exterior1st             str               0             15\n",
      "Exterior2nd             str               0             16\n",
      "MasVnrType              str             872              3\n",
      "MasVnrArea          float64               8            327\n",
      "ExterQual               str               0              4\n",
      "ExterCond               str               0              5\n",
      "Foundation              str               0              6\n",
      "BsmtQual                str              37              4\n",
      "BsmtCond                str              37              4\n",
      "BsmtExposure            str              38              4\n",
      "BsmtFinType1            str              37              6\n",
      "BsmtFinSF1            int64               0            637\n",
      "BsmtFinType2            str              38              6\n",
      "BsmtFinSF2            int64               0            144\n",
      "BsmtUnfSF             int64               0            780\n",
      "TotalBsmtSF           int64               0            721\n",
      "Heating                 str               0              6\n",
      "HeatingQC               str               0              5\n",
      "CentralAir              str               0              2\n",
      "1stFlrSF              int64               0            753\n",
      "2ndFlrSF              int64               0            417\n",
      "LowQualFinSF          int64               0             24\n",
      "GrLivArea             int64               0            861\n",
      "BsmtFullBath          int64               0              4\n",
      "BsmtHalfBath          int64               0              3\n",
      "FullBath              int64               0              4\n",
      "HalfBath              int64               0              3\n",
      "BedroomAbvGr          int64               0              8\n",
      "KitchenAbvGr          int64               0              4\n",
      "KitchenQual             str               0              4\n",
      "TotRmsAbvGrd          int64               0             12\n",
      "Functional              str               0              7\n",
      "Fireplaces            int64               0              4\n",
      "FireplaceQu             str             690              5\n",
      "GarageType              str              81              6\n",
      "GarageYrBlt         float64              81             97\n",
      "GarageFinish            str              81              3\n",
      "GarageCars            int64               0              5\n",
      "GarageArea            int64               0            441\n",
      "GarageQual              str              81              5\n",
      "GarageCond              str              81              5\n",
      "PavedDrive              str               0              3\n",
      "WoodDeckSF            int64               0            274\n",
      "OpenPorchSF           int64               0            202\n",
      "EnclosedPorch         int64               0            120\n",
      "3SsnPorch             int64               0             20\n",
      "ScreenPorch           int64               0             76\n",
      "PoolArea              int64               0              8\n",
      "PoolQC                  str            1453              3\n",
      "Fence                   str            1179              4\n",
      "MiscFeature             str            1406              4\n",
      "MiscVal               int64               0             21\n",
      "MoSold                int64               0             12\n",
      "YrSold                int64               0              5\n",
      "SaleType                str               0              9\n",
      "SaleCondition           str               0              6\n",
      "SalePrice             int64               0            663\n",
      "RoofMatl_ClyTile       bool               0              2\n",
      "RoofMatl_CompShg       bool               0              2\n",
      "RoofMatl_Membran       bool               0              2\n",
      "RoofMatl_Metal         bool               0              2\n",
      "RoofMatl_Roll          bool               0              2\n",
      "RoofMatl_Tar&Grv       bool               0              2\n",
      "RoofMatl_WdShake       bool               0              2\n",
      "RoofMatl_WdShngl       bool               0              2\n",
      "Electrical_FuseA       bool               0              2\n",
      "Electrical_FuseF       bool               0              2\n",
      "Electrical_FuseP       bool               0              2\n",
      "Electrical_Mix         bool               0              2\n",
      "Electrical_SBrkr       bool               0              2\n"
     ]
    }
   ],
   "source": [
    "with pd.option_context('display.max_rows',None,'display.max_columns',None):\n",
    "    comparison_train = comparison_table(homeprices_train)\n",
    "    print(comparison_train)"
   ]
  },
  {
   "cell_type": "code",
   "execution_count": 23,
   "id": "c7ec3830",
   "metadata": {
    "execution": {
     "iopub.execute_input": "2024-12-13T23:06:18.951584Z",
     "iopub.status.busy": "2024-12-13T23:06:18.950722Z",
     "iopub.status.idle": "2024-12-13T23:06:18.958194Z",
     "shell.execute_reply": "2024-12-13T23:06:18.956929Z"
    },
    "papermill": {
     "duration": 0.026047,
     "end_time": "2024-12-13T23:06:18.960429",
     "exception": false,
     "start_time": "2024-12-13T23:06:18.934382",
     "status": "completed"
    },
    "tags": []
   },
   "outputs": [
    {
     "data": {
      "text/plain": [
       "\"\\n# Drop the string features with the highest missing values\\nlist_of_columns_to_drop = [\\n    'PoolQC',\\n    'Fence',\\n    'MiscFeature',\\n    'FireplaceQu',\\n    'MasVnrType',\\n    'Alley'\\n]\\nhomeprices_train = homeprices_train.drop(columns=list_of_columns_to_drop,axis=1)\\ncomparison_train = comparison_train.drop(list_of_columns_to_drop)\\n\""
      ]
     },
     "execution_count": 23,
     "metadata": {},
     "output_type": "execute_result"
    }
   ],
   "source": [
    "\"\"\"\n",
    "# Drop the string features with the highest missing values\n",
    "list_of_columns_to_drop = [\n",
    "    'PoolQC',\n",
    "    'Fence',\n",
    "    'MiscFeature',\n",
    "    'FireplaceQu',\n",
    "    'MasVnrType',\n",
    "    'Alley'\n",
    "]\n",
    "homeprices_train = homeprices_train.drop(columns=list_of_columns_to_drop,axis=1)\n",
    "comparison_train = comparison_train.drop(list_of_columns_to_drop)\n",
    "\"\"\""
   ]
  },
  {
   "cell_type": "code",
   "execution_count": 24,
   "id": "a8ca7ef6",
   "metadata": {
    "execution": {
     "iopub.execute_input": "2024-12-13T23:06:18.992897Z",
     "iopub.status.busy": "2024-12-13T23:06:18.992488Z",
     "iopub.status.idle": "2024-12-13T23:06:19.210543Z",
     "shell.execute_reply": "2024-12-13T23:06:19.209413Z"
    },
    "papermill": {
     "duration": 0.238559,
     "end_time": "2024-12-13T23:06:19.214142",
     "exception": false,
     "start_time": "2024-12-13T23:06:18.975583",
     "status": "completed"
    },
    "tags": []
   },
   "outputs": [
    {
     "name": "stdout",
     "output_type": "stream",
     "text": [
      "                      Data Types  Missing Values  Unique Values\n",
      "Id                         int64               0           1460\n",
      "MSSubClass                 int64               0             15\n",
      "LotFrontage              float64             259            110\n",
      "LotArea                    int64               0           1073\n",
      "OverallQual                int64               0             10\n",
      "OverallCond                int64               0              9\n",
      "YearBuilt                  int64               0            112\n",
      "YearRemodAdd               int64               0             61\n",
      "MasVnrArea               float64               8            327\n",
      "BsmtFinSF1                 int64               0            637\n",
      "BsmtFinSF2                 int64               0            144\n",
      "BsmtUnfSF                  int64               0            780\n",
      "TotalBsmtSF                int64               0            721\n",
      "1stFlrSF                   int64               0            753\n",
      "2ndFlrSF                   int64               0            417\n",
      "LowQualFinSF               int64               0             24\n",
      "GrLivArea                  int64               0            861\n",
      "BsmtFullBath               int64               0              4\n",
      "BsmtHalfBath               int64               0              3\n",
      "FullBath                   int64               0              4\n",
      "HalfBath                   int64               0              3\n",
      "BedroomAbvGr               int64               0              8\n",
      "KitchenAbvGr               int64               0              4\n",
      "TotRmsAbvGrd               int64               0             12\n",
      "Fireplaces                 int64               0              4\n",
      "GarageYrBlt              float64              81             97\n",
      "GarageCars                 int64               0              5\n",
      "GarageArea                 int64               0            441\n",
      "WoodDeckSF                 int64               0            274\n",
      "OpenPorchSF                int64               0            202\n",
      "EnclosedPorch              int64               0            120\n",
      "3SsnPorch                  int64               0             20\n",
      "ScreenPorch                int64               0             76\n",
      "PoolArea                   int64               0              8\n",
      "MiscVal                    int64               0             21\n",
      "MoSold                     int64               0             12\n",
      "YrSold                     int64               0              5\n",
      "SalePrice                  int64               0            663\n",
      "RoofMatl_ClyTile            bool               0              2\n",
      "RoofMatl_CompShg            bool               0              2\n",
      "RoofMatl_Membran            bool               0              2\n",
      "RoofMatl_Metal              bool               0              2\n",
      "RoofMatl_Roll               bool               0              2\n",
      "RoofMatl_Tar&Grv            bool               0              2\n",
      "RoofMatl_WdShake            bool               0              2\n",
      "RoofMatl_WdShngl            bool               0              2\n",
      "Electrical_FuseA            bool               0              2\n",
      "Electrical_FuseF            bool               0              2\n",
      "Electrical_FuseP            bool               0              2\n",
      "Electrical_Mix              bool               0              2\n",
      "Electrical_SBrkr            bool               0              2\n",
      "MSZoning_C__all_            bool               0              2\n",
      "MSZoning_FV                 bool               0              2\n",
      "MSZoning_RH                 bool               0              2\n",
      "MSZoning_RL                 bool               0              2\n",
      "MSZoning_RM                 bool               0              2\n",
      "Street_Grvl                 bool               0              2\n",
      "Street_Pave                 bool               0              2\n",
      "Alley_Grvl                  bool               0              2\n",
      "Alley_Pave                  bool               0              2\n",
      "LotShape_IR1                bool               0              2\n",
      "LotShape_IR2                bool               0              2\n",
      "LotShape_IR3                bool               0              2\n",
      "LotShape_Reg                bool               0              2\n",
      "LandContour_Bnk             bool               0              2\n",
      "LandContour_HLS             bool               0              2\n",
      "LandContour_Low             bool               0              2\n",
      "LandContour_Lvl             bool               0              2\n",
      "Utilities_AllPub            bool               0              2\n",
      "Utilities_NoSeWa            bool               0              2\n",
      "LotConfig_Corner            bool               0              2\n",
      "LotConfig_CulDSac           bool               0              2\n",
      "LotConfig_FR2               bool               0              2\n",
      "LotConfig_FR3               bool               0              2\n",
      "LotConfig_Inside            bool               0              2\n",
      "LandSlope_Gtl               bool               0              2\n",
      "LandSlope_Mod               bool               0              2\n",
      "LandSlope_Sev               bool               0              2\n",
      "Neighborhood_Blmngtn        bool               0              2\n",
      "Neighborhood_Blueste        bool               0              2\n",
      "Neighborhood_BrDale         bool               0              2\n",
      "Neighborhood_BrkSide        bool               0              2\n",
      "Neighborhood_ClearCr        bool               0              2\n",
      "Neighborhood_CollgCr        bool               0              2\n",
      "Neighborhood_Crawfor        bool               0              2\n",
      "Neighborhood_Edwards        bool               0              2\n",
      "Neighborhood_Gilbert        bool               0              2\n",
      "Neighborhood_IDOTRR         bool               0              2\n",
      "Neighborhood_MeadowV        bool               0              2\n",
      "Neighborhood_Mitchel        bool               0              2\n",
      "Neighborhood_NAmes          bool               0              2\n",
      "Neighborhood_NPkVill        bool               0              2\n",
      "Neighborhood_NWAmes         bool               0              2\n",
      "Neighborhood_NoRidge        bool               0              2\n",
      "Neighborhood_NridgHt        bool               0              2\n",
      "Neighborhood_OldTown        bool               0              2\n",
      "Neighborhood_SWISU          bool               0              2\n",
      "Neighborhood_Sawyer         bool               0              2\n",
      "Neighborhood_SawyerW        bool               0              2\n",
      "Neighborhood_Somerst        bool               0              2\n",
      "Neighborhood_StoneBr        bool               0              2\n",
      "Neighborhood_Timber         bool               0              2\n",
      "Neighborhood_Veenker        bool               0              2\n",
      "Condition1_Artery           bool               0              2\n",
      "Condition1_Feedr            bool               0              2\n",
      "Condition1_Norm             bool               0              2\n",
      "Condition1_PosA             bool               0              2\n",
      "Condition1_PosN             bool               0              2\n",
      "Condition1_RRAe             bool               0              2\n",
      "Condition1_RRAn             bool               0              2\n",
      "Condition1_RRNe             bool               0              2\n",
      "Condition1_RRNn             bool               0              2\n",
      "Condition2_Artery           bool               0              2\n",
      "Condition2_Feedr            bool               0              2\n",
      "Condition2_Norm             bool               0              2\n",
      "Condition2_PosA             bool               0              2\n",
      "Condition2_PosN             bool               0              2\n",
      "Condition2_RRAe             bool               0              2\n",
      "Condition2_RRAn             bool               0              2\n",
      "Condition2_RRNn             bool               0              2\n",
      "BldgType_1Fam               bool               0              2\n",
      "BldgType_2fmCon             bool               0              2\n",
      "BldgType_Duplex             bool               0              2\n",
      "BldgType_Twnhs              bool               0              2\n",
      "BldgType_TwnhsE             bool               0              2\n",
      "HouseStyle_1.5Fin           bool               0              2\n",
      "HouseStyle_1.5Unf           bool               0              2\n",
      "HouseStyle_1Story           bool               0              2\n",
      "HouseStyle_2.5Fin           bool               0              2\n",
      "HouseStyle_2.5Unf           bool               0              2\n",
      "HouseStyle_2Story           bool               0              2\n",
      "HouseStyle_SFoyer           bool               0              2\n",
      "HouseStyle_SLvl             bool               0              2\n",
      "RoofStyle_Flat              bool               0              2\n",
      "RoofStyle_Gable             bool               0              2\n",
      "RoofStyle_Gambrel           bool               0              2\n",
      "RoofStyle_Hip               bool               0              2\n",
      "RoofStyle_Mansard           bool               0              2\n",
      "RoofStyle_Shed              bool               0              2\n",
      "Exterior1st_AsbShng         bool               0              2\n",
      "Exterior1st_AsphShn         bool               0              2\n",
      "Exterior1st_BrkComm         bool               0              2\n",
      "Exterior1st_BrkFace         bool               0              2\n",
      "Exterior1st_CBlock          bool               0              2\n",
      "Exterior1st_CemntBd         bool               0              2\n",
      "Exterior1st_HdBoard         bool               0              2\n",
      "Exterior1st_ImStucc         bool               0              2\n",
      "Exterior1st_MetalSd         bool               0              2\n",
      "Exterior1st_Plywood         bool               0              2\n",
      "Exterior1st_Stone           bool               0              2\n",
      "Exterior1st_Stucco          bool               0              2\n",
      "Exterior1st_VinylSd         bool               0              2\n",
      "Exterior1st_Wd_Sdng         bool               0              2\n",
      "Exterior1st_WdShing         bool               0              2\n",
      "Exterior2nd_AsbShng         bool               0              2\n",
      "Exterior2nd_AsphShn         bool               0              2\n",
      "Exterior2nd_Brk_Cmn         bool               0              2\n",
      "Exterior2nd_BrkFace         bool               0              2\n",
      "Exterior2nd_CBlock          bool               0              2\n",
      "Exterior2nd_CmentBd         bool               0              2\n",
      "Exterior2nd_HdBoard         bool               0              2\n",
      "Exterior2nd_ImStucc         bool               0              2\n",
      "Exterior2nd_MetalSd         bool               0              2\n",
      "Exterior2nd_Other           bool               0              2\n",
      "Exterior2nd_Plywood         bool               0              2\n",
      "Exterior2nd_Stone           bool               0              2\n",
      "Exterior2nd_Stucco          bool               0              2\n",
      "Exterior2nd_VinylSd         bool               0              2\n",
      "Exterior2nd_Wd_Sdng         bool               0              2\n",
      "Exterior2nd_Wd_Shng         bool               0              2\n",
      "MasVnrType_BrkCmn           bool               0              2\n",
      "MasVnrType_BrkFace          bool               0              2\n",
      "MasVnrType_Stone            bool               0              2\n",
      "ExterQual_Ex                bool               0              2\n",
      "ExterQual_Fa                bool               0              2\n",
      "ExterQual_Gd                bool               0              2\n",
      "ExterQual_TA                bool               0              2\n",
      "ExterCond_Ex                bool               0              2\n",
      "ExterCond_Fa                bool               0              2\n",
      "ExterCond_Gd                bool               0              2\n",
      "ExterCond_Po                bool               0              2\n",
      "ExterCond_TA                bool               0              2\n",
      "Foundation_BrkTil           bool               0              2\n",
      "Foundation_CBlock           bool               0              2\n",
      "Foundation_PConc            bool               0              2\n",
      "Foundation_Slab             bool               0              2\n",
      "Foundation_Stone            bool               0              2\n",
      "Foundation_Wood             bool               0              2\n",
      "BsmtQual_Ex                 bool               0              2\n",
      "BsmtQual_Fa                 bool               0              2\n",
      "BsmtQual_Gd                 bool               0              2\n",
      "BsmtQual_TA                 bool               0              2\n",
      "BsmtCond_Fa                 bool               0              2\n",
      "BsmtCond_Gd                 bool               0              2\n",
      "BsmtCond_Po                 bool               0              2\n",
      "BsmtCond_TA                 bool               0              2\n",
      "BsmtExposure_Av             bool               0              2\n",
      "BsmtExposure_Gd             bool               0              2\n",
      "BsmtExposure_Mn             bool               0              2\n",
      "BsmtExposure_No             bool               0              2\n",
      "BsmtFinType1_ALQ            bool               0              2\n",
      "BsmtFinType1_BLQ            bool               0              2\n",
      "BsmtFinType1_GLQ            bool               0              2\n",
      "BsmtFinType1_LwQ            bool               0              2\n",
      "BsmtFinType1_Rec            bool               0              2\n",
      "BsmtFinType1_Unf            bool               0              2\n",
      "BsmtFinType2_ALQ            bool               0              2\n",
      "BsmtFinType2_BLQ            bool               0              2\n",
      "BsmtFinType2_GLQ            bool               0              2\n",
      "BsmtFinType2_LwQ            bool               0              2\n",
      "BsmtFinType2_Rec            bool               0              2\n",
      "BsmtFinType2_Unf            bool               0              2\n",
      "Heating_Floor               bool               0              2\n",
      "Heating_GasA                bool               0              2\n",
      "Heating_GasW                bool               0              2\n",
      "Heating_Grav                bool               0              2\n",
      "Heating_OthW                bool               0              2\n",
      "Heating_Wall                bool               0              2\n",
      "HeatingQC_Ex                bool               0              2\n",
      "HeatingQC_Fa                bool               0              2\n",
      "HeatingQC_Gd                bool               0              2\n",
      "HeatingQC_Po                bool               0              2\n",
      "HeatingQC_TA                bool               0              2\n",
      "CentralAir_N                bool               0              2\n",
      "CentralAir_Y                bool               0              2\n",
      "KitchenQual_Ex              bool               0              2\n",
      "KitchenQual_Fa              bool               0              2\n",
      "KitchenQual_Gd              bool               0              2\n",
      "KitchenQual_TA              bool               0              2\n",
      "Functional_Maj1             bool               0              2\n",
      "Functional_Maj2             bool               0              2\n",
      "Functional_Min1             bool               0              2\n",
      "Functional_Min2             bool               0              2\n",
      "Functional_Mod              bool               0              2\n",
      "Functional_Sev              bool               0              2\n",
      "Functional_Typ              bool               0              2\n",
      "FireplaceQu_Ex              bool               0              2\n",
      "FireplaceQu_Fa              bool               0              2\n",
      "FireplaceQu_Gd              bool               0              2\n",
      "FireplaceQu_Po              bool               0              2\n",
      "FireplaceQu_TA              bool               0              2\n",
      "GarageType_2Types           bool               0              2\n",
      "GarageType_Attchd           bool               0              2\n",
      "GarageType_Basment          bool               0              2\n",
      "GarageType_BuiltIn          bool               0              2\n",
      "GarageType_CarPort          bool               0              2\n",
      "GarageType_Detchd           bool               0              2\n",
      "GarageFinish_Fin            bool               0              2\n",
      "GarageFinish_RFn            bool               0              2\n",
      "GarageFinish_Unf            bool               0              2\n",
      "GarageQual_Ex               bool               0              2\n",
      "GarageQual_Fa               bool               0              2\n",
      "GarageQual_Gd               bool               0              2\n",
      "GarageQual_Po               bool               0              2\n",
      "GarageQual_TA               bool               0              2\n",
      "GarageCond_Ex               bool               0              2\n",
      "GarageCond_Fa               bool               0              2\n",
      "GarageCond_Gd               bool               0              2\n",
      "GarageCond_Po               bool               0              2\n",
      "GarageCond_TA               bool               0              2\n",
      "PavedDrive_N                bool               0              2\n",
      "PavedDrive_P                bool               0              2\n",
      "PavedDrive_Y                bool               0              2\n",
      "PoolQC_Ex                   bool               0              2\n",
      "PoolQC_Fa                   bool               0              2\n",
      "PoolQC_Gd                   bool               0              2\n",
      "Fence_GdPrv                 bool               0              2\n",
      "Fence_GdWo                  bool               0              2\n",
      "Fence_MnPrv                 bool               0              2\n",
      "Fence_MnWw                  bool               0              2\n",
      "MiscFeature_Gar2            bool               0              2\n",
      "MiscFeature_Othr            bool               0              2\n",
      "MiscFeature_Shed            bool               0              2\n",
      "MiscFeature_TenC            bool               0              2\n",
      "SaleType_COD                bool               0              2\n",
      "SaleType_CWD                bool               0              2\n",
      "SaleType_Con                bool               0              2\n",
      "SaleType_ConLD              bool               0              2\n",
      "SaleType_ConLI              bool               0              2\n",
      "SaleType_ConLw              bool               0              2\n",
      "SaleType_New                bool               0              2\n",
      "SaleType_Oth                bool               0              2\n",
      "SaleType_WD                 bool               0              2\n",
      "SaleCondition_Abnorml       bool               0              2\n",
      "SaleCondition_AdjLand       bool               0              2\n",
      "SaleCondition_Alloca        bool               0              2\n",
      "SaleCondition_Family        bool               0              2\n",
      "SaleCondition_Normal        bool               0              2\n",
      "SaleCondition_Partial       bool               0              2\n"
     ]
    }
   ],
   "source": [
    "def manual_expand_features(df):\n",
    "    comp_table = comparison_table(df)\n",
    "    for feature in comp_table.index:\n",
    "        row = comp_table.loc[feature]\n",
    "        if row['Data Types'] == 'str':\n",
    "            df = manual_encode_feature(df,feature)\n",
    "    return df\n",
    "        \n",
    "homeprices_train = manual_expand_features(homeprices_train)\n",
    "comparison_train_v2 = comparison_table(homeprices_train)\n",
    "\n",
    "with pd.option_context('display.max_rows',None,'display.max_columns',None):\n",
    "    print(comparison_train_v2)"
   ]
  },
  {
   "cell_type": "code",
   "execution_count": 25,
   "id": "0f138503",
   "metadata": {
    "execution": {
     "iopub.execute_input": "2024-12-13T23:06:19.247094Z",
     "iopub.status.busy": "2024-12-13T23:06:19.246711Z",
     "iopub.status.idle": "2024-12-13T23:06:19.274766Z",
     "shell.execute_reply": "2024-12-13T23:06:19.273783Z"
    },
    "papermill": {
     "duration": 0.047013,
     "end_time": "2024-12-13T23:06:19.276929",
     "exception": false,
     "start_time": "2024-12-13T23:06:19.229916",
     "status": "completed"
    },
    "tags": []
   },
   "outputs": [
    {
     "data": {
      "text/plain": [
       "(36, 0, 251)"
      ]
     },
     "execution_count": 25,
     "metadata": {},
     "output_type": "execute_result"
    }
   ],
   "source": [
    "# Break the features into numerical and categorical\n",
    "numerical_features = []\n",
    "categorical_features = []\n",
    "boolean_features = []\n",
    "\n",
    "for feature in comparison_train_v2.index:\n",
    "    if feature != 'SalePrice' and feature != 'Id':\n",
    "        row = comparison_train_v2.loc[feature]\n",
    "        if row[\"Data Types\"] == \"str\":\n",
    "            categorical_features.append(feature)\n",
    "        elif row[\"Data Types\"] in [\"int64\",\"float64\"]:\n",
    "            numerical_features.append(feature)\n",
    "        elif row[\"Data Types\"] in [\"bool\"]:\n",
    "            boolean_features.append(feature)\n",
    "\n",
    "len(numerical_features),len(categorical_features),len(boolean_features)"
   ]
  },
  {
   "cell_type": "code",
   "execution_count": 26,
   "id": "8399f9e3",
   "metadata": {
    "execution": {
     "iopub.execute_input": "2024-12-13T23:06:19.310817Z",
     "iopub.status.busy": "2024-12-13T23:06:19.310433Z",
     "iopub.status.idle": "2024-12-13T23:06:19.317151Z",
     "shell.execute_reply": "2024-12-13T23:06:19.316005Z"
    },
    "papermill": {
     "duration": 0.026255,
     "end_time": "2024-12-13T23:06:19.319248",
     "exception": false,
     "start_time": "2024-12-13T23:06:19.292993",
     "status": "completed"
    },
    "tags": []
   },
   "outputs": [],
   "source": [
    "# Create and return a basic pipeline\n",
    "# This will have to be updated and expanded as the experimentation progresses\n",
    "def make_pipeline(features,model_object):\n",
    "    preprocessor = ColumnTransformer(transformers=[\n",
    "        ('num',Pipeline([\n",
    "            ('imputer',SimpleImputer(strategy='mean')),\n",
    "            ('sclar',StandardScaler())\n",
    "        ]),features['numerical']),\n",
    "        #('cat',Pipeline([\n",
    "        #    ('imputer',SimpleImputer(strategy='most_frequent')),\n",
    "        #    ('onehot',OneHotEncoder(drop='first',handle_unknown='ignore'))\n",
    "        #]),features['categorical']),\n",
    "        ('bool',Pipeline([\n",
    "            ('to_numeric',FunctionTransformer(lambda x: x.astype(float))),\n",
    "            ('imputer',SimpleImputer(strategy='most_frequent'))\n",
    "        ]),features['boolean'])\n",
    "    ])\n",
    "    return Pipeline(steps=[\n",
    "        ('preprocessor',preprocessor),\n",
    "        ('estimator',model_object)\n",
    "    ])"
   ]
  },
  {
   "cell_type": "code",
   "execution_count": 27,
   "id": "efad9d7d",
   "metadata": {
    "execution": {
     "iopub.execute_input": "2024-12-13T23:06:19.353531Z",
     "iopub.status.busy": "2024-12-13T23:06:19.352435Z",
     "iopub.status.idle": "2024-12-13T23:06:19.359653Z",
     "shell.execute_reply": "2024-12-13T23:06:19.358540Z"
    },
    "papermill": {
     "duration": 0.027137,
     "end_time": "2024-12-13T23:06:19.362208",
     "exception": false,
     "start_time": "2024-12-13T23:06:19.335071",
     "status": "completed"
    },
    "tags": []
   },
   "outputs": [
    {
     "data": {
      "text/plain": [
       "'\\ndef one_way_anova(df,features):\\n    result_list = []\\n    for category in features:\\n        groups = [df[df[category] == cat][\\'SalePrice\\'] for cat in df[category].unique()]\\n        f_stat,p_value = f_oneway(*groups)\\n        if p_value < 0.005:\\n            result_list.append(category)\\n            print(f\"{category} with a p-value of {p_value:.3f}, was added to the category list; F-statistic: {f_stat:.3f}\")\\n    return result_list\\n\\none_way_anova_list = one_way_anova(homeprices_train,categorical_features)\\none_way_anova_list\\n'"
      ]
     },
     "execution_count": 27,
     "metadata": {},
     "output_type": "execute_result"
    }
   ],
   "source": [
    "\"\"\"\n",
    "def one_way_anova(df,features):\n",
    "    result_list = []\n",
    "    for category in features:\n",
    "        groups = [df[df[category] == cat]['SalePrice'] for cat in df[category].unique()]\n",
    "        f_stat,p_value = f_oneway(*groups)\n",
    "        if p_value < 0.005:\n",
    "            result_list.append(category)\n",
    "            print(f\"{category} with a p-value of {p_value:.3f}, was added to the category list; F-statistic: {f_stat:.3f}\")\n",
    "    return result_list\n",
    "\n",
    "one_way_anova_list = one_way_anova(homeprices_train,categorical_features)\n",
    "one_way_anova_list\n",
    "\"\"\""
   ]
  },
  {
   "cell_type": "code",
   "execution_count": 28,
   "id": "d7a35d57",
   "metadata": {
    "execution": {
     "iopub.execute_input": "2024-12-13T23:06:19.397688Z",
     "iopub.status.busy": "2024-12-13T23:06:19.397269Z",
     "iopub.status.idle": "2024-12-13T23:06:19.405444Z",
     "shell.execute_reply": "2024-12-13T23:06:19.404366Z"
    },
    "papermill": {
     "duration": 0.028617,
     "end_time": "2024-12-13T23:06:19.407892",
     "exception": false,
     "start_time": "2024-12-13T23:06:19.379275",
     "status": "completed"
    },
    "tags": []
   },
   "outputs": [
    {
     "data": {
      "text/plain": [
       "(21, 0, 251)"
      ]
     },
     "execution_count": 28,
     "metadata": {},
     "output_type": "execute_result"
    }
   ],
   "source": [
    "# Compile the lists into another dictionary for pipeline ingestion later\n",
    "features = {}\n",
    "features.update({\n",
    "    'numerical':dist_similar_numerical_features,\n",
    "    'categorical':[],\n",
    "    'boolean':boolean_features\n",
    "})\n",
    "len(features['numerical']),len(features['categorical']),len(features['boolean'])"
   ]
  },
  {
   "cell_type": "markdown",
   "id": "075a150e",
   "metadata": {
    "papermill": {
     "duration": 0.015627,
     "end_time": "2024-12-13T23:06:19.439908",
     "exception": false,
     "start_time": "2024-12-13T23:06:19.424281",
     "status": "completed"
    },
    "tags": []
   },
   "source": [
    "### 1.2 Initial model building & Predictions <a class=\"anchor\" id=\"chapter1_2\" ></a>\n",
    "* Based on the data we were provided we can use the sklearn map to pick an initial estimator\n",
    "    * https://scikit-learn.org/1.5/machine_learning_map.html\n",
    "    * Since we are predicting a quantity, with less than 100k samples, and our initial hypothesis that few features should be important, we can try using `Lasso` and `ElasticNet`"
   ]
  },
  {
   "cell_type": "markdown",
   "id": "3fd856b5",
   "metadata": {
    "papermill": {
     "duration": 0.015441,
     "end_time": "2024-12-13T23:06:19.471404",
     "exception": false,
     "start_time": "2024-12-13T23:06:19.455963",
     "status": "completed"
    },
    "tags": []
   },
   "source": [
    "#### 1.2.1 Initial model building"
   ]
  },
  {
   "cell_type": "code",
   "execution_count": 29,
   "id": "6792870f",
   "metadata": {
    "execution": {
     "iopub.execute_input": "2024-12-13T23:06:19.504552Z",
     "iopub.status.busy": "2024-12-13T23:06:19.504163Z",
     "iopub.status.idle": "2024-12-13T23:06:19.817778Z",
     "shell.execute_reply": "2024-12-13T23:06:19.816732Z"
    },
    "papermill": {
     "duration": 0.333179,
     "end_time": "2024-12-13T23:06:19.820350",
     "exception": false,
     "start_time": "2024-12-13T23:06:19.487171",
     "status": "completed"
    },
    "tags": []
   },
   "outputs": [],
   "source": [
    "from sklearn.linear_model import Lasso,ElasticNet\n",
    "from sklearn.model_selection import train_test_split\n",
    "from sklearn.ensemble import GradientBoostingRegressor\n",
    "from xgboost import XGBRegressor"
   ]
  },
  {
   "cell_type": "code",
   "execution_count": 30,
   "id": "6a987b32",
   "metadata": {
    "execution": {
     "iopub.execute_input": "2024-12-13T23:06:19.854106Z",
     "iopub.status.busy": "2024-12-13T23:06:19.853696Z",
     "iopub.status.idle": "2024-12-13T23:06:19.907524Z",
     "shell.execute_reply": "2024-12-13T23:06:19.906075Z"
    },
    "papermill": {
     "duration": 0.073831,
     "end_time": "2024-12-13T23:06:19.910253",
     "exception": false,
     "start_time": "2024-12-13T23:06:19.836422",
     "status": "completed"
    },
    "tags": []
   },
   "outputs": [
    {
     "name": "stdout",
     "output_type": "stream",
     "text": [
      "Resolve hyper-parameter template \"benchmark_rank1\" to \"benchmark_rank1@v1\" -> {'winner_take_all': True, 'categorical_algorithm': 'RANDOM', 'split_axis': 'SPARSE_OBLIQUE', 'sparse_oblique_normalization': 'MIN_MAX', 'sparse_oblique_num_projections_exponent': 1.0}.\n",
      "Use /tmp/tmpwzl0tx5k as temporary training directory\n"
     ]
    }
   ],
   "source": [
    "# Build out the model dictionary\n",
    "abacuss = {\n",
    "    'lasso_page':{\n",
    "        'model':Lasso()\n",
    "    },\n",
    "    'elasticnet_page':{\n",
    "        'model':ElasticNet()\n",
    "    },\n",
    "    'xgbregressor_page':{\n",
    "        'model':XGBRegressor()\n",
    "    },\n",
    "    'gradientregressor_page':{\n",
    "        'model':GradientBoostingRegressor()\n",
    "    },\n",
    "    'tensorflow_random_forest_page':{\n",
    "        'model':tfdf.keras.RandomForestModel(\n",
    "            hyperparameter_template=\"benchmark_rank1\",\n",
    "            task=tfdf.keras.Task.REGRESSION\n",
    "        )\n",
    "    }\n",
    "} # This should house other dictionaries that contain information related to models and their specific metrics (like scoring)"
   ]
  },
  {
   "cell_type": "code",
   "execution_count": 31,
   "id": "b5bc8d77",
   "metadata": {
    "execution": {
     "iopub.execute_input": "2024-12-13T23:06:19.944923Z",
     "iopub.status.busy": "2024-12-13T23:06:19.944495Z",
     "iopub.status.idle": "2024-12-13T23:06:19.954930Z",
     "shell.execute_reply": "2024-12-13T23:06:19.953555Z"
    },
    "papermill": {
     "duration": 0.030202,
     "end_time": "2024-12-13T23:06:19.957375",
     "exception": false,
     "start_time": "2024-12-13T23:06:19.927173",
     "status": "completed"
    },
    "tags": []
   },
   "outputs": [],
   "source": [
    "# Split the data into feature and label sets\n",
    "X = homeprices_train.drop(['SalePrice'],axis=1)\n",
    "y = homeprices_train['SalePrice']\n",
    "\n",
    "# Split the train and validation sets\n",
    "X_train,X_val,y_train,y_val = train_test_split(X,y,test_size=0.2)"
   ]
  },
  {
   "cell_type": "markdown",
   "id": "9e476e97",
   "metadata": {
    "papermill": {
     "duration": 0.016052,
     "end_time": "2024-12-13T23:06:19.989451",
     "exception": false,
     "start_time": "2024-12-13T23:06:19.973399",
     "status": "completed"
    },
    "tags": []
   },
   "source": [
    "#### 1.2.2 Initial scoring and predictions"
   ]
  },
  {
   "cell_type": "code",
   "execution_count": 32,
   "id": "2d7f75d7",
   "metadata": {
    "execution": {
     "iopub.execute_input": "2024-12-13T23:06:20.023985Z",
     "iopub.status.busy": "2024-12-13T23:06:20.023553Z",
     "iopub.status.idle": "2024-12-13T23:06:20.028751Z",
     "shell.execute_reply": "2024-12-13T23:06:20.027649Z"
    },
    "papermill": {
     "duration": 0.024743,
     "end_time": "2024-12-13T23:06:20.030919",
     "exception": false,
     "start_time": "2024-12-13T23:06:20.006176",
     "status": "completed"
    },
    "tags": []
   },
   "outputs": [],
   "source": [
    "from sklearn.metrics import accuracy_score,precision_score,recall_score,f1_score,r2_score,mean_squared_error"
   ]
  },
  {
   "cell_type": "code",
   "execution_count": 33,
   "id": "e920d18b",
   "metadata": {
    "execution": {
     "iopub.execute_input": "2024-12-13T23:06:20.065550Z",
     "iopub.status.busy": "2024-12-13T23:06:20.065171Z",
     "iopub.status.idle": "2024-12-13T23:06:20.070142Z",
     "shell.execute_reply": "2024-12-13T23:06:20.069090Z"
    },
    "papermill": {
     "duration": 0.025222,
     "end_time": "2024-12-13T23:06:20.072395",
     "exception": false,
     "start_time": "2024-12-13T23:06:20.047173",
     "status": "completed"
    },
    "tags": []
   },
   "outputs": [],
   "source": [
    "# Build a dictionary to hold the scores of the models, and then add a function to add the scores to the dictionary\n",
    "model_scores = {}"
   ]
  },
  {
   "cell_type": "code",
   "execution_count": 34,
   "id": "ada58722",
   "metadata": {
    "execution": {
     "iopub.execute_input": "2024-12-13T23:06:20.107403Z",
     "iopub.status.busy": "2024-12-13T23:06:20.106522Z",
     "iopub.status.idle": "2024-12-13T23:06:44.195467Z",
     "shell.execute_reply": "2024-12-13T23:06:44.194063Z"
    },
    "papermill": {
     "duration": 24.1091,
     "end_time": "2024-12-13T23:06:44.197967",
     "exception": false,
     "start_time": "2024-12-13T23:06:20.088867",
     "status": "completed"
    },
    "tags": []
   },
   "outputs": [
    {
     "name": "stderr",
     "output_type": "stream",
     "text": [
      "/opt/conda/lib/python3.10/site-packages/sklearn/linear_model/_coordinate_descent.py:631: ConvergenceWarning: Objective did not converge. You might want to increase the number of iterations, check the scale of the features or consider increasing regularisation. Duality gap: 4.495e+10, tolerance: 7.531e+08\n",
      "  model = cd_fast.enet_coordinate_descent(\n"
     ]
    },
    {
     "name": "stdout",
     "output_type": "stream",
     "text": [
      "Reading training dataset...\n",
      "Training dataset read in 0:00:05.865602. Found 1142 examples.\n",
      "Training model...\n"
     ]
    },
    {
     "name": "stderr",
     "output_type": "stream",
     "text": [
      "[INFO 24-12-13 23:06:37.0376 UTC kernel.cc:1233] Loading model from path /tmp/tmpwzl0tx5k/model/ with prefix 142a3301fb7f4208\n"
     ]
    },
    {
     "name": "stdout",
     "output_type": "stream",
     "text": [
      "Model trained in 0:00:09.429371\n",
      "Compiling model...\n"
     ]
    },
    {
     "name": "stderr",
     "output_type": "stream",
     "text": [
      "[INFO 24-12-13 23:06:37.4742 UTC decision_forest.cc:734] Model loaded with 300 root(s), 108360 node(s), and 76 input feature(s).\n",
      "[INFO 24-12-13 23:06:37.4742 UTC abstract_model.cc:1362] Engine \"RandomForestGeneric\" built\n",
      "[INFO 24-12-13 23:06:37.4743 UTC kernel.cc:1061] Use fast generic engine\n"
     ]
    },
    {
     "name": "stdout",
     "output_type": "stream",
     "text": [
      "Model compiled.\n",
      "1/1 [==============================] - 0s 309ms/step\n"
     ]
    }
   ],
   "source": [
    "# make a function to score data and update model_scores\n",
    "def update_model_scores(fit_model,X_train,y_train,X_val,model_tag,model_scores=model_scores,tuned_tag='baseline'):\n",
    "    preds = pipeline.predict(X_val)\n",
    "    model_scores.update({\n",
    "        f'{model_tag} {tuned_tag}':{\n",
    "            'accuracy':pipeline.score(X_val,y_val),\n",
    "            'MSE':mean_squared_error(y_val,preds),\n",
    "            'pipeline':pipeline\n",
    "        }\n",
    "    })\n",
    "    return model_scores\n",
    "\n",
    "# Build the pipeline iteratively\n",
    "for page in abacuss:\n",
    "    pipeline = make_pipeline(features,abacuss[page]['model'])\n",
    "    if page == 'tensorflow_random_forest_page':\n",
    "        model = abacuss[page]['model']\n",
    "        model.fit(tf_dataset_train)\n",
    "        preds = model.predict(tf_dataset_valid)\n",
    "        np_data = list(tf_dataset_valid.as_numpy_iterator())\n",
    "        y_true = np.array([label for _, label in np_data])\n",
    "        y_true = y_true.reshape(-1)\n",
    "        model_scores.update({\n",
    "            f'{page} baseline':{\n",
    "                'accuracy':accuracy_score(y_true,preds.astype(int)),\n",
    "                'MSE':mean_squared_error(y_true,preds.astype(int)),\n",
    "                'pipeline':model\n",
    "            }            \n",
    "        })\n",
    "    else:\n",
    "        pipeline.fit(X_train,y_train)\n",
    "        model_scores = update_model_scores(pipeline,X_train,y_train,X_val,page)"
   ]
  },
  {
   "cell_type": "code",
   "execution_count": 35,
   "id": "dd5e297b",
   "metadata": {
    "execution": {
     "iopub.execute_input": "2024-12-13T23:06:44.235444Z",
     "iopub.status.busy": "2024-12-13T23:06:44.234574Z",
     "iopub.status.idle": "2024-12-13T23:06:44.546694Z",
     "shell.execute_reply": "2024-12-13T23:06:44.544558Z"
    },
    "papermill": {
     "duration": 0.334828,
     "end_time": "2024-12-13T23:06:44.549821",
     "exception": false,
     "start_time": "2024-12-13T23:06:44.214993",
     "status": "completed"
    },
    "tags": []
   },
   "outputs": [
    {
     "data": {
      "text/plain": [
       "<Axes: >"
      ]
     },
     "execution_count": 35,
     "metadata": {},
     "output_type": "execute_result"
    },
    {
     "data": {
      "image/png": "[encoded data removed]",
      "text/plain": [
       "<Figure size 640x480 with 1 Axes>"
      ]
     },
     "metadata": {},
     "output_type": "display_data"
    }
   ],
   "source": [
    "model_compare = pd.DataFrame(model_scores,index=['MSE'])\n",
    "model_compare.T.sort_values('MSE',ascending=False).plot.bar()"
   ]
  },
  {
   "cell_type": "markdown",
   "id": "df975b6d",
   "metadata": {
    "papermill": {
     "duration": 0.017689,
     "end_time": "2024-12-13T23:06:44.588358",
     "exception": false,
     "start_time": "2024-12-13T23:06:44.570669",
     "status": "completed"
    },
    "tags": []
   },
   "source": [
    "## 2. Hypertuning Parameters & Final model selection <a class='anchor' id='chapter2'></a>\n",
    "will get back to this later"
   ]
  },
  {
   "cell_type": "code",
   "execution_count": 36,
   "id": "fb34bfcf",
   "metadata": {
    "execution": {
     "iopub.execute_input": "2024-12-13T23:06:44.628944Z",
     "iopub.status.busy": "2024-12-13T23:06:44.628508Z",
     "iopub.status.idle": "2024-12-13T23:06:44.633868Z",
     "shell.execute_reply": "2024-12-13T23:06:44.632536Z"
    },
    "papermill": {
     "duration": 0.027428,
     "end_time": "2024-12-13T23:06:44.636582",
     "exception": false,
     "start_time": "2024-12-13T23:06:44.609154",
     "status": "completed"
    },
    "tags": []
   },
   "outputs": [],
   "source": [
    "from sklearn.model_selection import GridSearchCV\n",
    "from sklearn.exceptions import ConvergenceWarning\n",
    "from warnings import simplefilter"
   ]
  },
  {
   "cell_type": "code",
   "execution_count": 37,
   "id": "68d92f50",
   "metadata": {
    "execution": {
     "iopub.execute_input": "2024-12-13T23:06:44.676052Z",
     "iopub.status.busy": "2024-12-13T23:06:44.675570Z",
     "iopub.status.idle": "2024-12-13T23:06:44.683697Z",
     "shell.execute_reply": "2024-12-13T23:06:44.682471Z"
    },
    "papermill": {
     "duration": 0.029777,
     "end_time": "2024-12-13T23:06:44.685947",
     "exception": false,
     "start_time": "2024-12-13T23:06:44.656170",
     "status": "completed"
    },
    "tags": []
   },
   "outputs": [],
   "source": [
    "# Build out a parameter grid to use in the GridSearchCV\n",
    "lasso_param_grid = {\n",
    "    'estimator__alpha': [0.0001,0.001,0.01,0.1,1,10,100],\n",
    "    'estimator__max_iter': [1000,5000,10000]\n",
    "}\n",
    "\n",
    "xgboost_param_grid = {\n",
    "    'estimator__max_depth':[3,5,7],\n",
    "    'estimator__learning_rate':[0.01,0.05,0.1],\n",
    "    'estimator__n_estimators':[100,200,500],\n",
    "    'estimator__subsample':[0.8,1.0],\n",
    "    'estimator__colsample_bytree':[0.8,1.0],\n",
    "    'estimator__gamma':[0,1,5],\n",
    "    'estimator__min_child_weight':[1,5,10]\n",
    "}\n",
    "\n",
    "gradientboosting_param_grid = {\n",
    "    'estimator__learning_rate':[0.01,0.05,0.1],\n",
    "    'estimator__n_estimators':[100,200,500],\n",
    "    'estimator__max_depth':[3,5,7],\n",
    "    'estimator__min_samples_split':[2,5,10],\n",
    "    'estimator__min_samples_leaf':[1,3,5],\n",
    "    'estimator__subsample':[0.8,1.0],\n",
    "    'estimator__max_features':['sqrt','log2',0.8],\n",
    "    'estimator__loss':['squared_error','huber']\n",
    "}"
   ]
  },
  {
   "cell_type": "code",
   "execution_count": 38,
   "id": "6d06754e",
   "metadata": {
    "execution": {
     "iopub.execute_input": "2024-12-13T23:06:44.722275Z",
     "iopub.status.busy": "2024-12-13T23:06:44.721891Z",
     "iopub.status.idle": "2024-12-13T23:06:44.730068Z",
     "shell.execute_reply": "2024-12-13T23:06:44.728815Z"
    },
    "papermill": {
     "duration": 0.028998,
     "end_time": "2024-12-13T23:06:44.732264",
     "exception": false,
     "start_time": "2024-12-13T23:06:44.703266",
     "status": "completed"
    },
    "tags": []
   },
   "outputs": [
    {
     "data": {
      "text/plain": [
       "\"\\ngrad_boost_reg_model = model_scores['gradientregressor_page baseline']['pipeline']\\ngrad_boost_reg_grid_search = GridSearchCV(\\n    estimator=grad_boost_reg_model,\\n    param_grid=gradientboosting_param_grid,\\n    scoring='neg_mean_squared_error',\\n    cv=5,\\n    verbose=1,\\n    n_jobs=-1\\n)\\ngrad_boost_reg_grid_search.fit(X_train,y_train)\\n\""
      ]
     },
     "execution_count": 38,
     "metadata": {},
     "output_type": "execute_result"
    }
   ],
   "source": [
    "# Since the LASSO model has given the best performance\\\n",
    "# we will be adjusting the hyper paramters for it first\n",
    "\"\"\"\n",
    "lasso_gs = model_scores['lasso_page baseline']['pipeline']\n",
    "lasso_grid_search = GridSearchCV(\n",
    "    lasso_gs,\n",
    "    lasso_param_grid,\n",
    "    scoring='neg_mean_squared_error',\n",
    "    cv=5,\n",
    "    verbose=0\n",
    ")\n",
    "\n",
    "lasso_grid_search.fit(X_train,y_train)\n",
    "\"\"\"\n",
    "\n",
    "# Since XGBoost model has given the best performance\\\n",
    "# we will be adjusting the hyperparameteres for it first\n",
    "\"\"\"\n",
    "xgboost_regressor_model = model_scores['xgbregressor_page baseline']['pipeline']\n",
    "xgboost_grid_search = GridSearchCV(\n",
    "    estimator=xgboost_regressor_model,\n",
    "    param_grid=xgboost_param_grid,\n",
    "    scoring='neg_mean_squared_error',\n",
    "    cv=5,\n",
    "    verbose=0,\n",
    "    n_jobs=-1\n",
    ")\n",
    "xgboost_grid_search.fit(X_train,y_train)\n",
    "\"\"\"\n",
    "\n",
    "# Since GradientBoostingRegressor model has given the best performance\\\n",
    "# we will be adjusting the hyperparameteres for it first\n",
    "\"\"\"\n",
    "grad_boost_reg_model = model_scores['gradientregressor_page baseline']['pipeline']\n",
    "grad_boost_reg_grid_search = GridSearchCV(\n",
    "    estimator=grad_boost_reg_model,\n",
    "    param_grid=gradientboosting_param_grid,\n",
    "    scoring='neg_mean_squared_error',\n",
    "    cv=5,\n",
    "    verbose=1,\n",
    "    n_jobs=-1\n",
    ")\n",
    "grad_boost_reg_grid_search.fit(X_train,y_train)\n",
    "\"\"\""
   ]
  },
  {
   "cell_type": "code",
   "execution_count": 39,
   "id": "92e6d9b5",
   "metadata": {
    "execution": {
     "iopub.execute_input": "2024-12-13T23:06:44.775102Z",
     "iopub.status.busy": "2024-12-13T23:06:44.774683Z",
     "iopub.status.idle": "2024-12-13T23:06:44.779942Z",
     "shell.execute_reply": "2024-12-13T23:06:44.778779Z"
    },
    "papermill": {
     "duration": 0.028952,
     "end_time": "2024-12-13T23:06:44.782459",
     "exception": false,
     "start_time": "2024-12-13T23:06:44.753507",
     "status": "completed"
    },
    "tags": []
   },
   "outputs": [],
   "source": [
    "tuned_model_scores = {}"
   ]
  },
  {
   "cell_type": "code",
   "execution_count": 40,
   "id": "0e879cb2",
   "metadata": {
    "execution": {
     "iopub.execute_input": "2024-12-13T23:06:44.820814Z",
     "iopub.status.busy": "2024-12-13T23:06:44.820417Z",
     "iopub.status.idle": "2024-12-13T23:06:44.827742Z",
     "shell.execute_reply": "2024-12-13T23:06:44.826490Z"
    },
    "papermill": {
     "duration": 0.028626,
     "end_time": "2024-12-13T23:06:44.830249",
     "exception": false,
     "start_time": "2024-12-13T23:06:44.801623",
     "status": "completed"
    },
    "tags": []
   },
   "outputs": [
    {
     "data": {
      "text/plain": [
       "\"\\n{'estimator__alpha': 100, 'estimator__max_iter': 1000}\\n\""
      ]
     },
     "execution_count": 40,
     "metadata": {},
     "output_type": "execute_result"
    }
   ],
   "source": [
    "# get the best parameters found through GridSearchCV\n",
    "#grad_boost_reg_grid_search.best_params_\n",
    "#grad_boost_reg_grid.best_score_\n",
    "\n",
    "# results\n",
    "\"\"\"\n",
    "{'estimator__alpha': 100, 'estimator__max_iter': 1000}\n",
    "\"\"\""
   ]
  },
  {
   "cell_type": "code",
   "execution_count": 41,
   "id": "9d358051",
   "metadata": {
    "execution": {
     "iopub.execute_input": "2024-12-13T23:06:44.867769Z",
     "iopub.status.busy": "2024-12-13T23:06:44.867376Z",
     "iopub.status.idle": "2024-12-13T23:06:44.874320Z",
     "shell.execute_reply": "2024-12-13T23:06:44.873192Z"
    },
    "papermill": {
     "duration": 0.028708,
     "end_time": "2024-12-13T23:06:44.876524",
     "exception": false,
     "start_time": "2024-12-13T23:06:44.847816",
     "status": "completed"
    },
    "tags": []
   },
   "outputs": [
    {
     "data": {
      "text/plain": [
       "\"\\n{'estimator__alpha': 100, 'estimator__max_iter': 1000}\\n\""
      ]
     },
     "execution_count": 41,
     "metadata": {},
     "output_type": "execute_result"
    }
   ],
   "source": [
    "# get the best parameters found through GridSearchCV\n",
    "#lasso_grid_search.best_params_\n",
    "#lasso_grid_search.best_score_\n",
    "\n",
    "# results\n",
    "\"\"\"\n",
    "{'estimator__alpha': 100, 'estimator__max_iter': 1000}\n",
    "\"\"\""
   ]
  },
  {
   "cell_type": "code",
   "execution_count": 42,
   "id": "2c595054",
   "metadata": {
    "execution": {
     "iopub.execute_input": "2024-12-13T23:06:44.914262Z",
     "iopub.status.busy": "2024-12-13T23:06:44.913850Z",
     "iopub.status.idle": "2024-12-13T23:06:44.921362Z",
     "shell.execute_reply": "2024-12-13T23:06:44.919924Z"
    },
    "papermill": {
     "duration": 0.029585,
     "end_time": "2024-12-13T23:06:44.923783",
     "exception": false,
     "start_time": "2024-12-13T23:06:44.894198",
     "status": "completed"
    },
    "tags": []
   },
   "outputs": [
    {
     "data": {
      "text/plain": [
       "\"\\n# fit the best parameters to the model page\\nmodel_scores['lasso_page baseline'].update({\\n    'best_model':Lasso(\\n        alpha=100,\\n        max_iter=1000\\n    )\\n})\\n\\nlasso_tuned = model_scores['lasso_page baseline']['best_model']\\nlasso_pipe = make_pipeline(features,lasso_tuned)\\nlasso_pipe.fit(X_train,y_train)\\ntuned_model_scores = update_model_scores(\\n    lasso_pipe,\\n    X_train,\\n    y_train,\\n    X_val,\\n    'lasso',\\n    tuned_tag='tuned',\\n    model_scores=tuned_model_scores\\n)\\n\""
      ]
     },
     "execution_count": 42,
     "metadata": {},
     "output_type": "execute_result"
    }
   ],
   "source": [
    "\"\"\"\n",
    "# fit the best parameters to the model page\n",
    "model_scores['lasso_page baseline'].update({\n",
    "    'best_model':Lasso(\n",
    "        alpha=100,\n",
    "        max_iter=1000\n",
    "    )\n",
    "})\n",
    "\n",
    "lasso_tuned = model_scores['lasso_page baseline']['best_model']\n",
    "lasso_pipe = make_pipeline(features,lasso_tuned)\n",
    "lasso_pipe.fit(X_train,y_train)\n",
    "tuned_model_scores = update_model_scores(\n",
    "    lasso_pipe,\n",
    "    X_train,\n",
    "    y_train,\n",
    "    X_val,\n",
    "    'lasso',\n",
    "    tuned_tag='tuned',\n",
    "    model_scores=tuned_model_scores\n",
    ")\n",
    "\"\"\""
   ]
  },
  {
   "cell_type": "code",
   "execution_count": 43,
   "id": "508b5c85",
   "metadata": {
    "execution": {
     "iopub.execute_input": "2024-12-13T23:06:44.963110Z",
     "iopub.status.busy": "2024-12-13T23:06:44.962738Z",
     "iopub.status.idle": "2024-12-13T23:06:44.969921Z",
     "shell.execute_reply": "2024-12-13T23:06:44.968784Z"
    },
    "papermill": {
     "duration": 0.03008,
     "end_time": "2024-12-13T23:06:44.972432",
     "exception": false,
     "start_time": "2024-12-13T23:06:44.942352",
     "status": "completed"
    },
    "tags": []
   },
   "outputs": [
    {
     "data": {
      "text/plain": [
       "\"\\n{'estimator__colsample_bytree': 0.8,\\n 'estimator__gamma': 0,\\n 'estimator__learning_rate': 0.1,\\n 'estimator__max_depth': 3,\\n 'estimator__min_child_weight': 10,\\n 'estimator__n_estimators': 500,\\n 'estimator__subsample': 0.8}\\n\""
      ]
     },
     "execution_count": 43,
     "metadata": {},
     "output_type": "execute_result"
    }
   ],
   "source": [
    "# get the best patameters found through the GridSearchCV\n",
    "#xgboost_grid_search.best_params_\n",
    "#xgboost_grid_search.best_score_\n",
    "\n",
    "# results\n",
    "\"\"\"\n",
    "{'estimator__colsample_bytree': 0.8,\n",
    " 'estimator__gamma': 0,\n",
    " 'estimator__learning_rate': 0.1,\n",
    " 'estimator__max_depth': 3,\n",
    " 'estimator__min_child_weight': 10,\n",
    " 'estimator__n_estimators': 500,\n",
    " 'estimator__subsample': 0.8}\n",
    "\"\"\""
   ]
  },
  {
   "cell_type": "code",
   "execution_count": 44,
   "id": "9773f0fe",
   "metadata": {
    "execution": {
     "iopub.execute_input": "2024-12-13T23:06:45.012477Z",
     "iopub.status.busy": "2024-12-13T23:06:45.012065Z",
     "iopub.status.idle": "2024-12-13T23:06:45.020691Z",
     "shell.execute_reply": "2024-12-13T23:06:45.019317Z"
    },
    "papermill": {
     "duration": 0.032182,
     "end_time": "2024-12-13T23:06:45.023442",
     "exception": false,
     "start_time": "2024-12-13T23:06:44.991260",
     "status": "completed"
    },
    "tags": []
   },
   "outputs": [
    {
     "data": {
      "text/plain": [
       "\"\\nmodel_scores['xgbregressor_page baseline'].update({\\n    'best_model':XGBRegressor(\\n        colsample_bytree=0.8,\\n        gamma=0,\\n        learning_rate=0.1,\\n        max_depth=3,\\n        min_child_weight=10,\\n        n_estimators=500,\\n        subsample=0.8\\n    )\\n})\\n\\ntuned_model_scores = update_model_scores(\\n    make_pipeline(features,model_scores['xgbregressor_page baseline']['best_model']),\\n    X_train,\\n    y_train,\\n    X_val,\\n    'xgbregressor',\\n    tuned_tag='tuned',\\n    model_scores=tuned_model_scores\\n)\\n\""
      ]
     },
     "execution_count": 44,
     "metadata": {},
     "output_type": "execute_result"
    }
   ],
   "source": [
    "# fit the best parameters to the model page\n",
    "\"\"\"\n",
    "model_scores['xgbregressor_page baseline'].update({\n",
    "    'best_model':XGBRegressor(\n",
    "        colsample_bytree=0.8,\n",
    "        gamma=0,\n",
    "        learning_rate=0.1,\n",
    "        max_depth=3,\n",
    "        min_child_weight=10,\n",
    "        n_estimators=500,\n",
    "        subsample=0.8\n",
    "    )\n",
    "})\n",
    "\n",
    "tuned_model_scores = update_model_scores(\n",
    "    make_pipeline(features,model_scores['xgbregressor_page baseline']['best_model']),\n",
    "    X_train,\n",
    "    y_train,\n",
    "    X_val,\n",
    "    'xgbregressor',\n",
    "    tuned_tag='tuned',\n",
    "    model_scores=tuned_model_scores\n",
    ")\n",
    "\"\"\""
   ]
  },
  {
   "cell_type": "code",
   "execution_count": 45,
   "id": "faf954c8",
   "metadata": {
    "execution": {
     "iopub.execute_input": "2024-12-13T23:06:45.062974Z",
     "iopub.status.busy": "2024-12-13T23:06:45.062562Z",
     "iopub.status.idle": "2024-12-13T23:06:45.069474Z",
     "shell.execute_reply": "2024-12-13T23:06:45.068323Z"
    },
    "papermill": {
     "duration": 0.030842,
     "end_time": "2024-12-13T23:06:45.072198",
     "exception": false,
     "start_time": "2024-12-13T23:06:45.041356",
     "status": "completed"
    },
    "tags": []
   },
   "outputs": [
    {
     "data": {
      "text/plain": [
       "\"\\ntuned_model_compare = pd.DataFrame(tuned_model_scores,index=['MSE'])\\ntuned_model_compare.T.sort_values('MSE',ascending=False).plot.bar()\\n\""
      ]
     },
     "execution_count": 45,
     "metadata": {},
     "output_type": "execute_result"
    }
   ],
   "source": [
    "\"\"\"\n",
    "tuned_model_compare = pd.DataFrame(tuned_model_scores,index=['MSE'])\n",
    "tuned_model_compare.T.sort_values('MSE',ascending=False).plot.bar()\n",
    "\"\"\""
   ]
  },
  {
   "cell_type": "code",
   "execution_count": 46,
   "id": "530d2394",
   "metadata": {
    "execution": {
     "iopub.execute_input": "2024-12-13T23:06:45.110069Z",
     "iopub.status.busy": "2024-12-13T23:06:45.109658Z",
     "iopub.status.idle": "2024-12-13T23:06:45.116520Z",
     "shell.execute_reply": "2024-12-13T23:06:45.115218Z"
    },
    "papermill": {
     "duration": 0.028747,
     "end_time": "2024-12-13T23:06:45.119024",
     "exception": false,
     "start_time": "2024-12-13T23:06:45.090277",
     "status": "completed"
    },
    "tags": []
   },
   "outputs": [
    {
     "data": {
      "text/plain": [
       "\"\\nnew_pipeline = make_pipeline(features,model_scores['xgbregressor_page baseline']['best_model'])\\nnew_pipeline.fit(X_train,y_train)\\n\""
      ]
     },
     "execution_count": 46,
     "metadata": {},
     "output_type": "execute_result"
    }
   ],
   "source": [
    "# make a new pipeline containing the new tuned model parameters\n",
    "\"\"\"\n",
    "new_pipeline = make_pipeline(features,model_scores['xgbregressor_page baseline']['best_model'])\n",
    "new_pipeline.fit(X_train,y_train)\n",
    "\"\"\""
   ]
  },
  {
   "cell_type": "code",
   "execution_count": 47,
   "id": "6638f3a9",
   "metadata": {
    "execution": {
     "iopub.execute_input": "2024-12-13T23:06:45.157116Z",
     "iopub.status.busy": "2024-12-13T23:06:45.156701Z",
     "iopub.status.idle": "2024-12-13T23:06:45.163975Z",
     "shell.execute_reply": "2024-12-13T23:06:45.162686Z"
    },
    "papermill": {
     "duration": 0.029223,
     "end_time": "2024-12-13T23:06:45.166379",
     "exception": false,
     "start_time": "2024-12-13T23:06:45.137156",
     "status": "completed"
    },
    "tags": []
   },
   "outputs": [
    {
     "data": {
      "text/plain": [
       "\"\\npreds = pipeline.predict(X_val)\\nmodel_scores.update({\\n    f'{page} baseline':{\\n        'accuracy':pipeline.score(X_val,y_val),\\n        'MSE':mean_squared_error(y_val,preds),\\n        'pipeline':pipeline\\n    }\\n})\\n\""
      ]
     },
     "execution_count": 47,
     "metadata": {},
     "output_type": "execute_result"
    }
   ],
   "source": [
    "\"\"\"\n",
    "preds = pipeline.predict(X_val)\n",
    "model_scores.update({\n",
    "    f'{page} baseline':{\n",
    "        'accuracy':pipeline.score(X_val,y_val),\n",
    "        'MSE':mean_squared_error(y_val,preds),\n",
    "        'pipeline':pipeline\n",
    "    }\n",
    "})\n",
    "\"\"\""
   ]
  },
  {
   "cell_type": "markdown",
   "id": "573394b6",
   "metadata": {
    "papermill": {
     "duration": 0.018888,
     "end_time": "2024-12-13T23:06:45.203847",
     "exception": false,
     "start_time": "2024-12-13T23:06:45.184959",
     "status": "completed"
    },
    "tags": []
   },
   "source": [
    "## 3. Test data prediction & Submission <a class='Anchor' id='chapter3'></a>"
   ]
  },
  {
   "cell_type": "code",
   "execution_count": 48,
   "id": "0ba02947",
   "metadata": {
    "execution": {
     "iopub.execute_input": "2024-12-13T23:06:45.243694Z",
     "iopub.status.busy": "2024-12-13T23:06:45.243292Z",
     "iopub.status.idle": "2024-12-13T23:06:45.269962Z",
     "shell.execute_reply": "2024-12-13T23:06:45.268685Z"
    },
    "papermill": {
     "duration": 0.048943,
     "end_time": "2024-12-13T23:06:45.272220",
     "exception": false,
     "start_time": "2024-12-13T23:06:45.223277",
     "status": "completed"
    },
    "tags": []
   },
   "outputs": [
    {
     "data": {
      "text/html": [
       "<div>\n",
       "<style scoped>\n",
       "    .dataframe tbody tr th:only-of-type {\n",
       "        vertical-align: middle;\n",
       "    }\n",
       "\n",
       "    .dataframe tbody tr th {\n",
       "        vertical-align: top;\n",
       "    }\n",
       "\n",
       "    .dataframe thead th {\n",
       "        text-align: right;\n",
       "    }\n",
       "</style>\n",
       "<table border=\"1\" class=\"dataframe\">\n",
       "  <thead>\n",
       "    <tr style=\"text-align: right;\">\n",
       "      <th></th>\n",
       "      <th>Id</th>\n",
       "      <th>SalePrice</th>\n",
       "    </tr>\n",
       "  </thead>\n",
       "  <tbody>\n",
       "    <tr>\n",
       "      <th>0</th>\n",
       "      <td>1461</td>\n",
       "      <td>169277.052498</td>\n",
       "    </tr>\n",
       "    <tr>\n",
       "      <th>1</th>\n",
       "      <td>1462</td>\n",
       "      <td>187758.393989</td>\n",
       "    </tr>\n",
       "    <tr>\n",
       "      <th>2</th>\n",
       "      <td>1463</td>\n",
       "      <td>183583.683570</td>\n",
       "    </tr>\n",
       "    <tr>\n",
       "      <th>3</th>\n",
       "      <td>1464</td>\n",
       "      <td>179317.477511</td>\n",
       "    </tr>\n",
       "    <tr>\n",
       "      <th>4</th>\n",
       "      <td>1465</td>\n",
       "      <td>150730.079977</td>\n",
       "    </tr>\n",
       "  </tbody>\n",
       "</table>\n",
       "</div>"
      ],
      "text/plain": [
       "     Id      SalePrice\n",
       "0  1461  169277.052498\n",
       "1  1462  187758.393989\n",
       "2  1463  183583.683570\n",
       "3  1464  179317.477511\n",
       "4  1465  150730.079977"
      ]
     },
     "execution_count": 48,
     "metadata": {},
     "output_type": "execute_result"
    }
   ],
   "source": [
    "sample_submission = pd.read_csv('/kaggle/input/house-prices-advanced-regression-techniques/sample_submission.csv')\n",
    "sample_submission.head()"
   ]
  },
  {
   "cell_type": "code",
   "execution_count": 49,
   "id": "1f2c9b62",
   "metadata": {
    "execution": {
     "iopub.execute_input": "2024-12-13T23:06:45.311280Z",
     "iopub.status.busy": "2024-12-13T23:06:45.310824Z",
     "iopub.status.idle": "2024-12-13T23:06:45.344381Z",
     "shell.execute_reply": "2024-12-13T23:06:45.343312Z"
    },
    "papermill": {
     "duration": 0.055396,
     "end_time": "2024-12-13T23:06:45.346581",
     "exception": false,
     "start_time": "2024-12-13T23:06:45.291185",
     "status": "completed"
    },
    "tags": []
   },
   "outputs": [
    {
     "data": {
      "text/html": [
       "<div>\n",
       "<style scoped>\n",
       "    .dataframe tbody tr th:only-of-type {\n",
       "        vertical-align: middle;\n",
       "    }\n",
       "\n",
       "    .dataframe tbody tr th {\n",
       "        vertical-align: top;\n",
       "    }\n",
       "\n",
       "    .dataframe thead th {\n",
       "        text-align: right;\n",
       "    }\n",
       "</style>\n",
       "<table border=\"1\" class=\"dataframe\">\n",
       "  <thead>\n",
       "    <tr style=\"text-align: right;\">\n",
       "      <th></th>\n",
       "      <th>Id</th>\n",
       "      <th>MSSubClass</th>\n",
       "      <th>MSZoning</th>\n",
       "      <th>LotFrontage</th>\n",
       "      <th>LotArea</th>\n",
       "      <th>Street</th>\n",
       "      <th>Alley</th>\n",
       "      <th>LotShape</th>\n",
       "      <th>LandContour</th>\n",
       "      <th>Utilities</th>\n",
       "      <th>...</th>\n",
       "      <th>ScreenPorch</th>\n",
       "      <th>PoolArea</th>\n",
       "      <th>PoolQC</th>\n",
       "      <th>Fence</th>\n",
       "      <th>MiscFeature</th>\n",
       "      <th>MiscVal</th>\n",
       "      <th>MoSold</th>\n",
       "      <th>YrSold</th>\n",
       "      <th>SaleType</th>\n",
       "      <th>SaleCondition</th>\n",
       "    </tr>\n",
       "  </thead>\n",
       "  <tbody>\n",
       "    <tr>\n",
       "      <th>0</th>\n",
       "      <td>1461</td>\n",
       "      <td>20</td>\n",
       "      <td>RH</td>\n",
       "      <td>80.0</td>\n",
       "      <td>11622</td>\n",
       "      <td>Pave</td>\n",
       "      <td>NaN</td>\n",
       "      <td>Reg</td>\n",
       "      <td>Lvl</td>\n",
       "      <td>AllPub</td>\n",
       "      <td>...</td>\n",
       "      <td>120</td>\n",
       "      <td>0</td>\n",
       "      <td>NaN</td>\n",
       "      <td>MnPrv</td>\n",
       "      <td>NaN</td>\n",
       "      <td>0</td>\n",
       "      <td>6</td>\n",
       "      <td>2010</td>\n",
       "      <td>WD</td>\n",
       "      <td>Normal</td>\n",
       "    </tr>\n",
       "    <tr>\n",
       "      <th>1</th>\n",
       "      <td>1462</td>\n",
       "      <td>20</td>\n",
       "      <td>RL</td>\n",
       "      <td>81.0</td>\n",
       "      <td>14267</td>\n",
       "      <td>Pave</td>\n",
       "      <td>NaN</td>\n",
       "      <td>IR1</td>\n",
       "      <td>Lvl</td>\n",
       "      <td>AllPub</td>\n",
       "      <td>...</td>\n",
       "      <td>0</td>\n",
       "      <td>0</td>\n",
       "      <td>NaN</td>\n",
       "      <td>NaN</td>\n",
       "      <td>Gar2</td>\n",
       "      <td>12500</td>\n",
       "      <td>6</td>\n",
       "      <td>2010</td>\n",
       "      <td>WD</td>\n",
       "      <td>Normal</td>\n",
       "    </tr>\n",
       "    <tr>\n",
       "      <th>2</th>\n",
       "      <td>1463</td>\n",
       "      <td>60</td>\n",
       "      <td>RL</td>\n",
       "      <td>74.0</td>\n",
       "      <td>13830</td>\n",
       "      <td>Pave</td>\n",
       "      <td>NaN</td>\n",
       "      <td>IR1</td>\n",
       "      <td>Lvl</td>\n",
       "      <td>AllPub</td>\n",
       "      <td>...</td>\n",
       "      <td>0</td>\n",
       "      <td>0</td>\n",
       "      <td>NaN</td>\n",
       "      <td>MnPrv</td>\n",
       "      <td>NaN</td>\n",
       "      <td>0</td>\n",
       "      <td>3</td>\n",
       "      <td>2010</td>\n",
       "      <td>WD</td>\n",
       "      <td>Normal</td>\n",
       "    </tr>\n",
       "    <tr>\n",
       "      <th>3</th>\n",
       "      <td>1464</td>\n",
       "      <td>60</td>\n",
       "      <td>RL</td>\n",
       "      <td>78.0</td>\n",
       "      <td>9978</td>\n",
       "      <td>Pave</td>\n",
       "      <td>NaN</td>\n",
       "      <td>IR1</td>\n",
       "      <td>Lvl</td>\n",
       "      <td>AllPub</td>\n",
       "      <td>...</td>\n",
       "      <td>0</td>\n",
       "      <td>0</td>\n",
       "      <td>NaN</td>\n",
       "      <td>NaN</td>\n",
       "      <td>NaN</td>\n",
       "      <td>0</td>\n",
       "      <td>6</td>\n",
       "      <td>2010</td>\n",
       "      <td>WD</td>\n",
       "      <td>Normal</td>\n",
       "    </tr>\n",
       "    <tr>\n",
       "      <th>4</th>\n",
       "      <td>1465</td>\n",
       "      <td>120</td>\n",
       "      <td>RL</td>\n",
       "      <td>43.0</td>\n",
       "      <td>5005</td>\n",
       "      <td>Pave</td>\n",
       "      <td>NaN</td>\n",
       "      <td>IR1</td>\n",
       "      <td>HLS</td>\n",
       "      <td>AllPub</td>\n",
       "      <td>...</td>\n",
       "      <td>144</td>\n",
       "      <td>0</td>\n",
       "      <td>NaN</td>\n",
       "      <td>NaN</td>\n",
       "      <td>NaN</td>\n",
       "      <td>0</td>\n",
       "      <td>1</td>\n",
       "      <td>2010</td>\n",
       "      <td>WD</td>\n",
       "      <td>Normal</td>\n",
       "    </tr>\n",
       "  </tbody>\n",
       "</table>\n",
       "<p>5 rows × 80 columns</p>\n",
       "</div>"
      ],
      "text/plain": [
       "     Id  MSSubClass MSZoning  LotFrontage  LotArea Street Alley LotShape  \\\n",
       "0  1461          20       RH         80.0    11622   Pave   NaN      Reg   \n",
       "1  1462          20       RL         81.0    14267   Pave   NaN      IR1   \n",
       "2  1463          60       RL         74.0    13830   Pave   NaN      IR1   \n",
       "3  1464          60       RL         78.0     9978   Pave   NaN      IR1   \n",
       "4  1465         120       RL         43.0     5005   Pave   NaN      IR1   \n",
       "\n",
       "  LandContour Utilities  ... ScreenPorch PoolArea PoolQC  Fence MiscFeature  \\\n",
       "0         Lvl    AllPub  ...         120        0    NaN  MnPrv         NaN   \n",
       "1         Lvl    AllPub  ...           0        0    NaN    NaN        Gar2   \n",
       "2         Lvl    AllPub  ...           0        0    NaN  MnPrv         NaN   \n",
       "3         Lvl    AllPub  ...           0        0    NaN    NaN         NaN   \n",
       "4         HLS    AllPub  ...         144        0    NaN    NaN         NaN   \n",
       "\n",
       "  MiscVal MoSold  YrSold  SaleType  SaleCondition  \n",
       "0       0      6    2010        WD         Normal  \n",
       "1   12500      6    2010        WD         Normal  \n",
       "2       0      3    2010        WD         Normal  \n",
       "3       0      6    2010        WD         Normal  \n",
       "4       0      1    2010        WD         Normal  \n",
       "\n",
       "[5 rows x 80 columns]"
      ]
     },
     "execution_count": 49,
     "metadata": {},
     "output_type": "execute_result"
    }
   ],
   "source": [
    "# Take a look at the data we are given in the make some predictions on the best performing model\n",
    "test = pd.read_csv('/kaggle/input/house-prices-advanced-regression-techniques/test.csv')\n",
    "\n",
    "test.head()"
   ]
  },
  {
   "cell_type": "code",
   "execution_count": 50,
   "id": "4f47742b",
   "metadata": {
    "execution": {
     "iopub.execute_input": "2024-12-13T23:06:45.387080Z",
     "iopub.status.busy": "2024-12-13T23:06:45.386661Z",
     "iopub.status.idle": "2024-12-13T23:06:45.499330Z",
     "shell.execute_reply": "2024-12-13T23:06:45.498125Z"
    },
    "papermill": {
     "duration": 0.13618,
     "end_time": "2024-12-13T23:06:45.501585",
     "exception": false,
     "start_time": "2024-12-13T23:06:45.365405",
     "status": "completed"
    },
    "tags": []
   },
   "outputs": [],
   "source": [
    "# Expand the columns in the same was as was done by the training data\n",
    "#for column in column_exploder_list:\n",
    "#    test = manual_encode_feature(test,column)\n",
    "#test = manual_expand_features(test)\n",
    "test_dataset_tf = tfdf.keras.pd_dataframe_to_tf_dataset(test,task=tfdf.keras.Task.REGRESSION)"
   ]
  },
  {
   "cell_type": "code",
   "execution_count": 51,
   "id": "2881802a",
   "metadata": {
    "execution": {
     "iopub.execute_input": "2024-12-13T23:06:45.544262Z",
     "iopub.status.busy": "2024-12-13T23:06:45.543467Z",
     "iopub.status.idle": "2024-12-13T23:06:45.548286Z",
     "shell.execute_reply": "2024-12-13T23:06:45.547060Z"
    },
    "papermill": {
     "duration": 0.02992,
     "end_time": "2024-12-13T23:06:45.551138",
     "exception": false,
     "start_time": "2024-12-13T23:06:45.521218",
     "status": "completed"
    },
    "tags": []
   },
   "outputs": [],
   "source": [
    "#test = test.reindex(columns=homeprices_train.columns,fill_value=0)"
   ]
  },
  {
   "cell_type": "code",
   "execution_count": 52,
   "id": "85eb0abf",
   "metadata": {
    "execution": {
     "iopub.execute_input": "2024-12-13T23:06:45.591895Z",
     "iopub.status.busy": "2024-12-13T23:06:45.591460Z",
     "iopub.status.idle": "2024-12-13T23:06:45.598535Z",
     "shell.execute_reply": "2024-12-13T23:06:45.597106Z"
    },
    "papermill": {
     "duration": 0.030674,
     "end_time": "2024-12-13T23:06:45.601246",
     "exception": false,
     "start_time": "2024-12-13T23:06:45.570572",
     "status": "completed"
    },
    "tags": []
   },
   "outputs": [
    {
     "name": "stdout",
     "output_type": "stream",
     "text": [
      "Index(['Id', 'MSSubClass', 'MSZoning', 'LotFrontage', 'LotArea', 'Street',\n",
      "       'Alley', 'LotShape', 'LandContour', 'Utilities', 'LotConfig',\n",
      "       'LandSlope', 'Neighborhood', 'Condition1', 'Condition2', 'BldgType',\n",
      "       'HouseStyle', 'OverallQual', 'OverallCond', 'YearBuilt', 'YearRemodAdd',\n",
      "       'RoofStyle', 'RoofMatl', 'Exterior1st', 'Exterior2nd', 'MasVnrType',\n",
      "       'MasVnrArea', 'ExterQual', 'ExterCond', 'Foundation', 'BsmtQual',\n",
      "       'BsmtCond', 'BsmtExposure', 'BsmtFinType1', 'BsmtFinSF1',\n",
      "       'BsmtFinType2', 'BsmtFinSF2', 'BsmtUnfSF', 'TotalBsmtSF', 'Heating',\n",
      "       'HeatingQC', 'CentralAir', 'Electrical', '1stFlrSF', '2ndFlrSF',\n",
      "       'LowQualFinSF', 'GrLivArea', 'BsmtFullBath', 'BsmtHalfBath', 'FullBath',\n",
      "       'HalfBath', 'BedroomAbvGr', 'KitchenAbvGr', 'KitchenQual',\n",
      "       'TotRmsAbvGrd', 'Functional', 'Fireplaces', 'FireplaceQu', 'GarageType',\n",
      "       'GarageYrBlt', 'GarageFinish', 'GarageCars', 'GarageArea', 'GarageQual',\n",
      "       'GarageCond', 'PavedDrive', 'WoodDeckSF', 'OpenPorchSF',\n",
      "       'EnclosedPorch', '3SsnPorch', 'ScreenPorch', 'PoolArea', 'PoolQC',\n",
      "       'Fence', 'MiscFeature', 'MiscVal', 'MoSold', 'YrSold', 'SaleType',\n",
      "       'SaleCondition'],\n",
      "      dtype='object')\n"
     ]
    }
   ],
   "source": [
    "with pd.option_context('display.max_rows',None,'display.max_columns',None):\n",
    "    print(f\"{test.columns}\")"
   ]
  },
  {
   "cell_type": "code",
   "execution_count": 53,
   "id": "c6271274",
   "metadata": {
    "execution": {
     "iopub.execute_input": "2024-12-13T23:06:45.695445Z",
     "iopub.status.busy": "2024-12-13T23:06:45.695041Z",
     "iopub.status.idle": "2024-12-13T23:06:46.570540Z",
     "shell.execute_reply": "2024-12-13T23:06:46.569329Z"
    },
    "papermill": {
     "duration": 0.95317,
     "end_time": "2024-12-13T23:06:46.573644",
     "exception": false,
     "start_time": "2024-12-13T23:06:45.620474",
     "status": "completed"
    },
    "tags": []
   },
   "outputs": [
    {
     "name": "stdout",
     "output_type": "stream",
     "text": [
      "2/2 [==============================] - 1s 43ms/step\n"
     ]
    },
    {
     "data": {
      "text/html": [
       "<div>\n",
       "<style scoped>\n",
       "    .dataframe tbody tr th:only-of-type {\n",
       "        vertical-align: middle;\n",
       "    }\n",
       "\n",
       "    .dataframe tbody tr th {\n",
       "        vertical-align: top;\n",
       "    }\n",
       "\n",
       "    .dataframe thead th {\n",
       "        text-align: right;\n",
       "    }\n",
       "</style>\n",
       "<table border=\"1\" class=\"dataframe\">\n",
       "  <thead>\n",
       "    <tr style=\"text-align: right;\">\n",
       "      <th></th>\n",
       "      <th>Id</th>\n",
       "      <th>SalePrice</th>\n",
       "    </tr>\n",
       "  </thead>\n",
       "  <tbody>\n",
       "    <tr>\n",
       "      <th>0</th>\n",
       "      <td>1461</td>\n",
       "      <td>127985.757812</td>\n",
       "    </tr>\n",
       "    <tr>\n",
       "      <th>1</th>\n",
       "      <td>1462</td>\n",
       "      <td>151884.437500</td>\n",
       "    </tr>\n",
       "    <tr>\n",
       "      <th>2</th>\n",
       "      <td>1463</td>\n",
       "      <td>177207.968750</td>\n",
       "    </tr>\n",
       "    <tr>\n",
       "      <th>3</th>\n",
       "      <td>1464</td>\n",
       "      <td>182942.796875</td>\n",
       "    </tr>\n",
       "    <tr>\n",
       "      <th>4</th>\n",
       "      <td>1465</td>\n",
       "      <td>195372.531250</td>\n",
       "    </tr>\n",
       "  </tbody>\n",
       "</table>\n",
       "</div>"
      ],
      "text/plain": [
       "     Id      SalePrice\n",
       "0  1461  127985.757812\n",
       "1  1462  151884.437500\n",
       "2  1463  177207.968750\n",
       "3  1464  182942.796875\n",
       "4  1465  195372.531250"
      ]
     },
     "execution_count": 53,
     "metadata": {},
     "output_type": "execute_result"
    }
   ],
   "source": [
    "# Make predictions and build the submission dictionary\n",
    "submission = pd.DataFrame({\n",
    "    'Id':test['Id'],\n",
    "    'SalePrice':abacuss['tensorflow_random_forest_page']['model'].predict(test_dataset_tf).flatten()\n",
    "})\n",
    "submission.head()"
   ]
  },
  {
   "cell_type": "code",
   "execution_count": 54,
   "id": "80668736",
   "metadata": {
    "execution": {
     "iopub.execute_input": "2024-12-13T23:06:46.615040Z",
     "iopub.status.busy": "2024-12-13T23:06:46.614046Z",
     "iopub.status.idle": "2024-12-13T23:06:46.625586Z",
     "shell.execute_reply": "2024-12-13T23:06:46.624364Z"
    },
    "papermill": {
     "duration": 0.034718,
     "end_time": "2024-12-13T23:06:46.628349",
     "exception": false,
     "start_time": "2024-12-13T23:06:46.593631",
     "status": "completed"
    },
    "tags": []
   },
   "outputs": [],
   "source": [
    "# Save the submission data to csv\n",
    "submission.to_csv('submission.csv',index=False)"
   ]
  },
  {
   "cell_type": "code",
   "execution_count": null,
   "id": "4e56681f",
   "metadata": {
    "papermill": {
     "duration": 0.018842,
     "end_time": "2024-12-13T23:06:46.666667",
     "exception": false,
     "start_time": "2024-12-13T23:06:46.647825",
     "status": "completed"
    },
    "tags": []
   },
   "outputs": [],
   "source": []
  }
 ],
 "metadata": {
  "kaggle": {
   "accelerator": "none",
   "dataSources": [
    {
     "databundleVersionId": 868283,
     "sourceId": 5407,
     "sourceType": "competition"
    }
   ],
   "dockerImageVersionId": 30804,
   "isGpuEnabled": false,
   "isInternetEnabled": true,
   "language": "python",
   "sourceType": "notebook"
  },
  "kernelspec": {
   "display_name": "Python 3",
   "language": "python",
   "name": "python3"
  },
  "language_info": {
   "codemirror_mode": {
    "name": "ipython",
    "version": 3
   },
   "file_extension": ".py",
   "mimetype": "text/x-python",
   "name": "python",
   "nbconvert_exporter": "python",
   "pygments_lexer": "ipython3",
   "version": "3.10.14"
  },
  "papermill": {
   "default_parameters": {},
   "duration": 55.622701,
   "end_time": "2024-12-13T23:06:49.204827",
   "environment_variables": {},
   "exception": null,
   "input_path": "__notebook__.ipynb",
   "output_path": "__notebook__.ipynb",
   "parameters": {},
   "start_time": "2024-12-13T23:05:53.582126",
   "version": "2.6.0"
  }
 },
 "nbformat": 4,
 "nbformat_minor": 5
}
