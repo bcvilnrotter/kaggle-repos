{
 "cells": [
  {
   "cell_type": "code",
   "execution_count": 1,
   "id": "dd2d11bc",
   "metadata": {
    "_cell_guid": "b1076dfc-b9ad-4769-8c92-a6c4dae69d19",
    "_uuid": "8f2839f25d086af736a60e9eeb907d3b93b6e0e5",
    "execution": {
     "iopub.execute_input": "2024-10-24T01:09:06.241009Z",
     "iopub.status.busy": "2024-10-24T01:09:06.240024Z",
     "iopub.status.idle": "2024-10-24T01:09:07.110266Z",
     "shell.execute_reply": "2024-10-24T01:09:07.108938Z"
    },
    "papermill": {
     "duration": 0.888412,
     "end_time": "2024-10-24T01:09:07.112955",
     "exception": false,
     "start_time": "2024-10-24T01:09:06.224543",
     "status": "completed"
    },
    "tags": []
   },
   "outputs": [
    {
     "name": "stdout",
     "output_type": "stream",
     "text": [
      "/kaggle/input/spaceship-titanic/sample_submission.csv\n",
      "/kaggle/input/spaceship-titanic/train.csv\n",
      "/kaggle/input/spaceship-titanic/test.csv\n"
     ]
    }
   ],
   "source": [
    "# This Python 3 environment comes with many helpful analytics libraries installed\n",
    "# It is defined by the kaggle/python Docker image: https://github.com/kaggle/docker-python\n",
    "# For example, here's several helpful packages to load\n",
    "\n",
    "import numpy as np # linear algebra\n",
    "import pandas as pd # data processing, CSV file I/O (e.g. pd.read_csv)\n",
    "\n",
    "# Input data files are available in the read-only \"../input/\" directory\n",
    "# For example, running this (by clicking run or pressing Shift+Enter) will list all files under the input directory\n",
    "\n",
    "import os\n",
    "for dirname, _, filenames in os.walk('/kaggle/input'):\n",
    "    for filename in filenames:\n",
    "        print(os.path.join(dirname, filename))\n",
    "\n",
    "# You can write up to 20GB to the current directory (/kaggle/working/) that gets preserved as output when you create a version using \"Save & Run All\" \n",
    "# You can also write temporary files to /kaggle/temp/, but they won't be saved outside of the current session"
   ]
  },
  {
   "cell_type": "markdown",
   "id": "c21978d9",
   "metadata": {
    "papermill": {
     "duration": 0.011752,
     "end_time": "2024-10-24T01:09:07.136979",
     "exception": false,
     "start_time": "2024-10-24T01:09:07.125227",
     "status": "completed"
    },
    "tags": []
   },
   "source": [
    "# Table of Contents\n",
    "\n",
    "* [0. Data collection & Gaining familiarity](#chapter0)\n",
    "    * [0.1. High level analysis of data](#chapter0_1)\n",
    "    * [0.2. Comparison of features](#chapter0_2)\n",
    "* [1. Feature engineering & Initial predictions](#chapter1)\n",
    "    * [1.1 Feature engineering](#chapter1_1)\n",
    "    * [1.2 Initial Predictions](#chapter1_2)\n",
    "* [2. Hyptertuning parameters & Final model selection](#chapter2)\n",
    "    * [2.1 Initial hypertuning](#chapter2_1)\n",
    "* [3. Test data prediction & Submission](#chapter3)"
   ]
  },
  {
   "cell_type": "markdown",
   "id": "08654867",
   "metadata": {
    "papermill": {
     "duration": 0.011677,
     "end_time": "2024-10-24T01:09:07.160686",
     "exception": false,
     "start_time": "2024-10-24T01:09:07.149009",
     "status": "completed"
    },
    "tags": []
   },
   "source": [
    "## 0. Data collection & Gaining familiarity <a class=\"anchor\" id=\"chapter0\"></a>"
   ]
  },
  {
   "cell_type": "code",
   "execution_count": 2,
   "id": "f579aee6",
   "metadata": {
    "execution": {
     "iopub.execute_input": "2024-10-24T01:09:07.187599Z",
     "iopub.status.busy": "2024-10-24T01:09:07.187051Z",
     "iopub.status.idle": "2024-10-24T01:09:07.192508Z",
     "shell.execute_reply": "2024-10-24T01:09:07.191363Z"
    },
    "papermill": {
     "duration": 0.02116,
     "end_time": "2024-10-24T01:09:07.194830",
     "exception": false,
     "start_time": "2024-10-24T01:09:07.173670",
     "status": "completed"
    },
    "tags": []
   },
   "outputs": [],
   "source": [
    "# Set the random seed\n",
    "np.random.seed(42)"
   ]
  },
  {
   "cell_type": "code",
   "execution_count": 3,
   "id": "ba32f1b8",
   "metadata": {
    "execution": {
     "iopub.execute_input": "2024-10-24T01:09:07.220792Z",
     "iopub.status.busy": "2024-10-24T01:09:07.220347Z",
     "iopub.status.idle": "2024-10-24T01:09:07.281232Z",
     "shell.execute_reply": "2024-10-24T01:09:07.280237Z"
    },
    "papermill": {
     "duration": 0.07701,
     "end_time": "2024-10-24T01:09:07.283998",
     "exception": false,
     "start_time": "2024-10-24T01:09:07.206988",
     "status": "completed"
    },
    "tags": []
   },
   "outputs": [],
   "source": [
    "# read the data of the training set\n",
    "spaceship_train = pd.read_csv(\"/kaggle/input/spaceship-titanic/train.csv\")"
   ]
  },
  {
   "cell_type": "markdown",
   "id": "763c2ac9",
   "metadata": {
    "papermill": {
     "duration": 0.011792,
     "end_time": "2024-10-24T01:09:07.308057",
     "exception": false,
     "start_time": "2024-10-24T01:09:07.296265",
     "status": "completed"
    },
    "tags": []
   },
   "source": [
    "### 0.1. High level analysis of data <a class=\"anchor\" id=\"chapter0_1\"></a>"
   ]
  },
  {
   "cell_type": "code",
   "execution_count": 4,
   "id": "1fbbe14e",
   "metadata": {
    "execution": {
     "iopub.execute_input": "2024-10-24T01:09:07.334499Z",
     "iopub.status.busy": "2024-10-24T01:09:07.334067Z",
     "iopub.status.idle": "2024-10-24T01:09:07.341931Z",
     "shell.execute_reply": "2024-10-24T01:09:07.340901Z"
    },
    "papermill": {
     "duration": 0.024091,
     "end_time": "2024-10-24T01:09:07.344785",
     "exception": false,
     "start_time": "2024-10-24T01:09:07.320694",
     "status": "completed"
    },
    "tags": []
   },
   "outputs": [
    {
     "data": {
      "text/plain": [
       "8693"
      ]
     },
     "execution_count": 4,
     "metadata": {},
     "output_type": "execute_result"
    }
   ],
   "source": [
    "len(spaceship_train)"
   ]
  },
  {
   "cell_type": "code",
   "execution_count": 5,
   "id": "3e6d7c2b",
   "metadata": {
    "execution": {
     "iopub.execute_input": "2024-10-24T01:09:07.371435Z",
     "iopub.status.busy": "2024-10-24T01:09:07.370486Z",
     "iopub.status.idle": "2024-10-24T01:09:07.401498Z",
     "shell.execute_reply": "2024-10-24T01:09:07.400286Z"
    },
    "papermill": {
     "duration": 0.047031,
     "end_time": "2024-10-24T01:09:07.404102",
     "exception": false,
     "start_time": "2024-10-24T01:09:07.357071",
     "status": "completed"
    },
    "tags": []
   },
   "outputs": [
    {
     "data": {
      "text/html": [
       "<div>\n",
       "<style scoped>\n",
       "    .dataframe tbody tr th:only-of-type {\n",
       "        vertical-align: middle;\n",
       "    }\n",
       "\n",
       "    .dataframe tbody tr th {\n",
       "        vertical-align: top;\n",
       "    }\n",
       "\n",
       "    .dataframe thead th {\n",
       "        text-align: right;\n",
       "    }\n",
       "</style>\n",
       "<table border=\"1\" class=\"dataframe\">\n",
       "  <thead>\n",
       "    <tr style=\"text-align: right;\">\n",
       "      <th></th>\n",
       "      <th>PassengerId</th>\n",
       "      <th>HomePlanet</th>\n",
       "      <th>CryoSleep</th>\n",
       "      <th>Cabin</th>\n",
       "      <th>Destination</th>\n",
       "      <th>Age</th>\n",
       "      <th>VIP</th>\n",
       "      <th>RoomService</th>\n",
       "      <th>FoodCourt</th>\n",
       "      <th>ShoppingMall</th>\n",
       "      <th>Spa</th>\n",
       "      <th>VRDeck</th>\n",
       "      <th>Name</th>\n",
       "      <th>Transported</th>\n",
       "    </tr>\n",
       "  </thead>\n",
       "  <tbody>\n",
       "    <tr>\n",
       "      <th>0</th>\n",
       "      <td>0001_01</td>\n",
       "      <td>Europa</td>\n",
       "      <td>False</td>\n",
       "      <td>B/0/P</td>\n",
       "      <td>TRAPPIST-1e</td>\n",
       "      <td>39.0</td>\n",
       "      <td>False</td>\n",
       "      <td>0.0</td>\n",
       "      <td>0.0</td>\n",
       "      <td>0.0</td>\n",
       "      <td>0.0</td>\n",
       "      <td>0.0</td>\n",
       "      <td>Maham Ofracculy</td>\n",
       "      <td>False</td>\n",
       "    </tr>\n",
       "    <tr>\n",
       "      <th>1</th>\n",
       "      <td>0002_01</td>\n",
       "      <td>Earth</td>\n",
       "      <td>False</td>\n",
       "      <td>F/0/S</td>\n",
       "      <td>TRAPPIST-1e</td>\n",
       "      <td>24.0</td>\n",
       "      <td>False</td>\n",
       "      <td>109.0</td>\n",
       "      <td>9.0</td>\n",
       "      <td>25.0</td>\n",
       "      <td>549.0</td>\n",
       "      <td>44.0</td>\n",
       "      <td>Juanna Vines</td>\n",
       "      <td>True</td>\n",
       "    </tr>\n",
       "    <tr>\n",
       "      <th>2</th>\n",
       "      <td>0003_01</td>\n",
       "      <td>Europa</td>\n",
       "      <td>False</td>\n",
       "      <td>A/0/S</td>\n",
       "      <td>TRAPPIST-1e</td>\n",
       "      <td>58.0</td>\n",
       "      <td>True</td>\n",
       "      <td>43.0</td>\n",
       "      <td>3576.0</td>\n",
       "      <td>0.0</td>\n",
       "      <td>6715.0</td>\n",
       "      <td>49.0</td>\n",
       "      <td>Altark Susent</td>\n",
       "      <td>False</td>\n",
       "    </tr>\n",
       "    <tr>\n",
       "      <th>3</th>\n",
       "      <td>0003_02</td>\n",
       "      <td>Europa</td>\n",
       "      <td>False</td>\n",
       "      <td>A/0/S</td>\n",
       "      <td>TRAPPIST-1e</td>\n",
       "      <td>33.0</td>\n",
       "      <td>False</td>\n",
       "      <td>0.0</td>\n",
       "      <td>1283.0</td>\n",
       "      <td>371.0</td>\n",
       "      <td>3329.0</td>\n",
       "      <td>193.0</td>\n",
       "      <td>Solam Susent</td>\n",
       "      <td>False</td>\n",
       "    </tr>\n",
       "    <tr>\n",
       "      <th>4</th>\n",
       "      <td>0004_01</td>\n",
       "      <td>Earth</td>\n",
       "      <td>False</td>\n",
       "      <td>F/1/S</td>\n",
       "      <td>TRAPPIST-1e</td>\n",
       "      <td>16.0</td>\n",
       "      <td>False</td>\n",
       "      <td>303.0</td>\n",
       "      <td>70.0</td>\n",
       "      <td>151.0</td>\n",
       "      <td>565.0</td>\n",
       "      <td>2.0</td>\n",
       "      <td>Willy Santantines</td>\n",
       "      <td>True</td>\n",
       "    </tr>\n",
       "  </tbody>\n",
       "</table>\n",
       "</div>"
      ],
      "text/plain": [
       "  PassengerId HomePlanet CryoSleep  Cabin  Destination   Age    VIP  \\\n",
       "0     0001_01     Europa     False  B/0/P  TRAPPIST-1e  39.0  False   \n",
       "1     0002_01      Earth     False  F/0/S  TRAPPIST-1e  24.0  False   \n",
       "2     0003_01     Europa     False  A/0/S  TRAPPIST-1e  58.0   True   \n",
       "3     0003_02     Europa     False  A/0/S  TRAPPIST-1e  33.0  False   \n",
       "4     0004_01      Earth     False  F/1/S  TRAPPIST-1e  16.0  False   \n",
       "\n",
       "   RoomService  FoodCourt  ShoppingMall     Spa  VRDeck               Name  \\\n",
       "0          0.0        0.0           0.0     0.0     0.0    Maham Ofracculy   \n",
       "1        109.0        9.0          25.0   549.0    44.0       Juanna Vines   \n",
       "2         43.0     3576.0           0.0  6715.0    49.0      Altark Susent   \n",
       "3          0.0     1283.0         371.0  3329.0   193.0       Solam Susent   \n",
       "4        303.0       70.0         151.0   565.0     2.0  Willy Santantines   \n",
       "\n",
       "   Transported  \n",
       "0        False  \n",
       "1         True  \n",
       "2        False  \n",
       "3        False  \n",
       "4         True  "
      ]
     },
     "execution_count": 5,
     "metadata": {},
     "output_type": "execute_result"
    }
   ],
   "source": [
    "spaceship_train.head()"
   ]
  },
  {
   "cell_type": "code",
   "execution_count": 6,
   "id": "1ab7d132",
   "metadata": {
    "execution": {
     "iopub.execute_input": "2024-10-24T01:09:07.431290Z",
     "iopub.status.busy": "2024-10-24T01:09:07.430887Z",
     "iopub.status.idle": "2024-10-24T01:09:07.465341Z",
     "shell.execute_reply": "2024-10-24T01:09:07.464353Z"
    },
    "papermill": {
     "duration": 0.050856,
     "end_time": "2024-10-24T01:09:07.467746",
     "exception": false,
     "start_time": "2024-10-24T01:09:07.416890",
     "status": "completed"
    },
    "tags": []
   },
   "outputs": [
    {
     "data": {
      "text/html": [
       "<div>\n",
       "<style scoped>\n",
       "    .dataframe tbody tr th:only-of-type {\n",
       "        vertical-align: middle;\n",
       "    }\n",
       "\n",
       "    .dataframe tbody tr th {\n",
       "        vertical-align: top;\n",
       "    }\n",
       "\n",
       "    .dataframe thead th {\n",
       "        text-align: right;\n",
       "    }\n",
       "</style>\n",
       "<table border=\"1\" class=\"dataframe\">\n",
       "  <thead>\n",
       "    <tr style=\"text-align: right;\">\n",
       "      <th></th>\n",
       "      <th>Age</th>\n",
       "      <th>RoomService</th>\n",
       "      <th>FoodCourt</th>\n",
       "      <th>ShoppingMall</th>\n",
       "      <th>Spa</th>\n",
       "      <th>VRDeck</th>\n",
       "    </tr>\n",
       "  </thead>\n",
       "  <tbody>\n",
       "    <tr>\n",
       "      <th>count</th>\n",
       "      <td>8514.000000</td>\n",
       "      <td>8512.000000</td>\n",
       "      <td>8510.000000</td>\n",
       "      <td>8485.000000</td>\n",
       "      <td>8510.000000</td>\n",
       "      <td>8505.000000</td>\n",
       "    </tr>\n",
       "    <tr>\n",
       "      <th>mean</th>\n",
       "      <td>28.827930</td>\n",
       "      <td>224.687617</td>\n",
       "      <td>458.077203</td>\n",
       "      <td>173.729169</td>\n",
       "      <td>311.138778</td>\n",
       "      <td>304.854791</td>\n",
       "    </tr>\n",
       "    <tr>\n",
       "      <th>std</th>\n",
       "      <td>14.489021</td>\n",
       "      <td>666.717663</td>\n",
       "      <td>1611.489240</td>\n",
       "      <td>604.696458</td>\n",
       "      <td>1136.705535</td>\n",
       "      <td>1145.717189</td>\n",
       "    </tr>\n",
       "    <tr>\n",
       "      <th>min</th>\n",
       "      <td>0.000000</td>\n",
       "      <td>0.000000</td>\n",
       "      <td>0.000000</td>\n",
       "      <td>0.000000</td>\n",
       "      <td>0.000000</td>\n",
       "      <td>0.000000</td>\n",
       "    </tr>\n",
       "    <tr>\n",
       "      <th>25%</th>\n",
       "      <td>19.000000</td>\n",
       "      <td>0.000000</td>\n",
       "      <td>0.000000</td>\n",
       "      <td>0.000000</td>\n",
       "      <td>0.000000</td>\n",
       "      <td>0.000000</td>\n",
       "    </tr>\n",
       "    <tr>\n",
       "      <th>50%</th>\n",
       "      <td>27.000000</td>\n",
       "      <td>0.000000</td>\n",
       "      <td>0.000000</td>\n",
       "      <td>0.000000</td>\n",
       "      <td>0.000000</td>\n",
       "      <td>0.000000</td>\n",
       "    </tr>\n",
       "    <tr>\n",
       "      <th>75%</th>\n",
       "      <td>38.000000</td>\n",
       "      <td>47.000000</td>\n",
       "      <td>76.000000</td>\n",
       "      <td>27.000000</td>\n",
       "      <td>59.000000</td>\n",
       "      <td>46.000000</td>\n",
       "    </tr>\n",
       "    <tr>\n",
       "      <th>max</th>\n",
       "      <td>79.000000</td>\n",
       "      <td>14327.000000</td>\n",
       "      <td>29813.000000</td>\n",
       "      <td>23492.000000</td>\n",
       "      <td>22408.000000</td>\n",
       "      <td>24133.000000</td>\n",
       "    </tr>\n",
       "  </tbody>\n",
       "</table>\n",
       "</div>"
      ],
      "text/plain": [
       "               Age   RoomService     FoodCourt  ShoppingMall           Spa  \\\n",
       "count  8514.000000   8512.000000   8510.000000   8485.000000   8510.000000   \n",
       "mean     28.827930    224.687617    458.077203    173.729169    311.138778   \n",
       "std      14.489021    666.717663   1611.489240    604.696458   1136.705535   \n",
       "min       0.000000      0.000000      0.000000      0.000000      0.000000   \n",
       "25%      19.000000      0.000000      0.000000      0.000000      0.000000   \n",
       "50%      27.000000      0.000000      0.000000      0.000000      0.000000   \n",
       "75%      38.000000     47.000000     76.000000     27.000000     59.000000   \n",
       "max      79.000000  14327.000000  29813.000000  23492.000000  22408.000000   \n",
       "\n",
       "             VRDeck  \n",
       "count   8505.000000  \n",
       "mean     304.854791  \n",
       "std     1145.717189  \n",
       "min        0.000000  \n",
       "25%        0.000000  \n",
       "50%        0.000000  \n",
       "75%       46.000000  \n",
       "max    24133.000000  "
      ]
     },
     "execution_count": 6,
     "metadata": {},
     "output_type": "execute_result"
    }
   ],
   "source": [
    "spaceship_train.describe()"
   ]
  },
  {
   "cell_type": "markdown",
   "id": "3c5488e8",
   "metadata": {
    "papermill": {
     "duration": 0.012595,
     "end_time": "2024-10-24T01:09:07.493391",
     "exception": false,
     "start_time": "2024-10-24T01:09:07.480796",
     "status": "completed"
    },
    "tags": []
   },
   "source": [
    "### 0.2. Comparison of features <a class=\"anchor\" id=\"chapter0_2\"></a>"
   ]
  },
  {
   "cell_type": "code",
   "execution_count": 7,
   "id": "d48c5f32",
   "metadata": {
    "execution": {
     "iopub.execute_input": "2024-10-24T01:09:07.522327Z",
     "iopub.status.busy": "2024-10-24T01:09:07.521909Z",
     "iopub.status.idle": "2024-10-24T01:09:07.572033Z",
     "shell.execute_reply": "2024-10-24T01:09:07.571022Z"
    },
    "papermill": {
     "duration": 0.066884,
     "end_time": "2024-10-24T01:09:07.574612",
     "exception": false,
     "start_time": "2024-10-24T01:09:07.507728",
     "status": "completed"
    },
    "tags": []
   },
   "outputs": [
    {
     "data": {
      "text/html": [
       "<div>\n",
       "<style scoped>\n",
       "    .dataframe tbody tr th:only-of-type {\n",
       "        vertical-align: middle;\n",
       "    }\n",
       "\n",
       "    .dataframe tbody tr th {\n",
       "        vertical-align: top;\n",
       "    }\n",
       "\n",
       "    .dataframe thead th {\n",
       "        text-align: right;\n",
       "    }\n",
       "</style>\n",
       "<table border=\"1\" class=\"dataframe\">\n",
       "  <thead>\n",
       "    <tr style=\"text-align: right;\">\n",
       "      <th></th>\n",
       "      <th>Data Types</th>\n",
       "      <th>Missing Values</th>\n",
       "      <th>Unique Values</th>\n",
       "    </tr>\n",
       "  </thead>\n",
       "  <tbody>\n",
       "    <tr>\n",
       "      <th>PassengerId</th>\n",
       "      <td>str</td>\n",
       "      <td>0</td>\n",
       "      <td>8693</td>\n",
       "    </tr>\n",
       "    <tr>\n",
       "      <th>HomePlanet</th>\n",
       "      <td>str</td>\n",
       "      <td>201</td>\n",
       "      <td>3</td>\n",
       "    </tr>\n",
       "    <tr>\n",
       "      <th>CryoSleep</th>\n",
       "      <td>bool</td>\n",
       "      <td>217</td>\n",
       "      <td>2</td>\n",
       "    </tr>\n",
       "    <tr>\n",
       "      <th>Cabin</th>\n",
       "      <td>str</td>\n",
       "      <td>199</td>\n",
       "      <td>6560</td>\n",
       "    </tr>\n",
       "    <tr>\n",
       "      <th>Destination</th>\n",
       "      <td>str</td>\n",
       "      <td>182</td>\n",
       "      <td>3</td>\n",
       "    </tr>\n",
       "    <tr>\n",
       "      <th>Age</th>\n",
       "      <td>float64</td>\n",
       "      <td>179</td>\n",
       "      <td>80</td>\n",
       "    </tr>\n",
       "    <tr>\n",
       "      <th>VIP</th>\n",
       "      <td>bool</td>\n",
       "      <td>203</td>\n",
       "      <td>2</td>\n",
       "    </tr>\n",
       "    <tr>\n",
       "      <th>RoomService</th>\n",
       "      <td>float64</td>\n",
       "      <td>181</td>\n",
       "      <td>1273</td>\n",
       "    </tr>\n",
       "    <tr>\n",
       "      <th>FoodCourt</th>\n",
       "      <td>float64</td>\n",
       "      <td>183</td>\n",
       "      <td>1507</td>\n",
       "    </tr>\n",
       "    <tr>\n",
       "      <th>ShoppingMall</th>\n",
       "      <td>float64</td>\n",
       "      <td>208</td>\n",
       "      <td>1115</td>\n",
       "    </tr>\n",
       "    <tr>\n",
       "      <th>Spa</th>\n",
       "      <td>float64</td>\n",
       "      <td>183</td>\n",
       "      <td>1327</td>\n",
       "    </tr>\n",
       "    <tr>\n",
       "      <th>VRDeck</th>\n",
       "      <td>float64</td>\n",
       "      <td>188</td>\n",
       "      <td>1306</td>\n",
       "    </tr>\n",
       "    <tr>\n",
       "      <th>Name</th>\n",
       "      <td>str</td>\n",
       "      <td>200</td>\n",
       "      <td>8473</td>\n",
       "    </tr>\n",
       "    <tr>\n",
       "      <th>Transported</th>\n",
       "      <td>bool</td>\n",
       "      <td>0</td>\n",
       "      <td>2</td>\n",
       "    </tr>\n",
       "  </tbody>\n",
       "</table>\n",
       "</div>"
      ],
      "text/plain": [
       "             Data Types  Missing Values  Unique Values\n",
       "PassengerId         str               0           8693\n",
       "HomePlanet          str             201              3\n",
       "CryoSleep          bool             217              2\n",
       "Cabin               str             199           6560\n",
       "Destination         str             182              3\n",
       "Age             float64             179             80\n",
       "VIP                bool             203              2\n",
       "RoomService     float64             181           1273\n",
       "FoodCourt       float64             183           1507\n",
       "ShoppingMall    float64             208           1115\n",
       "Spa             float64             183           1327\n",
       "VRDeck          float64             188           1306\n",
       "Name                str             200           8473\n",
       "Transported        bool               0              2"
      ]
     },
     "execution_count": 7,
     "metadata": {},
     "output_type": "execute_result"
    }
   ],
   "source": [
    "# Make specific metrics as side-by-side tables for easier comparison purposes\n",
    "# function that takes a column and provides a more detailed dtype value if it is an object\n",
    "def get_inferred_type(column):\n",
    "    if pd.api.types.is_object_dtype(column):\n",
    "        sample_value = column.dropna().iloc[0]\n",
    "        return type(sample_value).__name__\n",
    "    else:\n",
    "        return column.dtype\n",
    "\n",
    "# Make a function that returns a comparison dataframe\n",
    "def comparison_table(df):\n",
    "    return pd.DataFrame({\n",
    "        'Data Types':df.apply(get_inferred_type),\n",
    "        'Missing Values':df.isna().sum(),\n",
    "        'Unique Values':df.nunique()\n",
    "    })\n",
    "\n",
    "comparison_train = comparison_table(spaceship_train)\n",
    "comparison_train"
   ]
  },
  {
   "cell_type": "markdown",
   "id": "6530687a",
   "metadata": {
    "papermill": {
     "duration": 0.01286,
     "end_time": "2024-10-24T01:09:07.600842",
     "exception": false,
     "start_time": "2024-10-24T01:09:07.587982",
     "status": "completed"
    },
    "tags": []
   },
   "source": [
    "## 1. Feature engineering & Initial predictions <a class=\"anchor\" id=\"chapter1\"></a>"
   ]
  },
  {
   "cell_type": "markdown",
   "id": "f2080dae",
   "metadata": {
    "papermill": {
     "duration": 0.012745,
     "end_time": "2024-10-24T01:09:07.626844",
     "exception": false,
     "start_time": "2024-10-24T01:09:07.614099",
     "status": "completed"
    },
    "tags": []
   },
   "source": [
    "Based on the data in the previous sections we can discern some items that can go through some feature engineering to provide more data points to compare and see which combination of data creates the highest correlation that can be used to train our models on."
   ]
  },
  {
   "cell_type": "code",
   "execution_count": 8,
   "id": "c03c1b9f",
   "metadata": {
    "execution": {
     "iopub.execute_input": "2024-10-24T01:09:07.655396Z",
     "iopub.status.busy": "2024-10-24T01:09:07.654500Z",
     "iopub.status.idle": "2024-10-24T01:09:09.701201Z",
     "shell.execute_reply": "2024-10-24T01:09:09.700013Z"
    },
    "papermill": {
     "duration": 2.064121,
     "end_time": "2024-10-24T01:09:09.704080",
     "exception": false,
     "start_time": "2024-10-24T01:09:07.639959",
     "status": "completed"
    },
    "tags": []
   },
   "outputs": [],
   "source": [
    "from scipy.stats import chi2_contingency\n",
    "from sklearn.feature_selection import mutual_info_classif\n",
    "import matplotlib.pyplot as plt\n",
    "import seaborn as sns"
   ]
  },
  {
   "cell_type": "markdown",
   "id": "0fb83ff1",
   "metadata": {
    "papermill": {
     "duration": 0.013484,
     "end_time": "2024-10-24T01:09:09.731159",
     "exception": false,
     "start_time": "2024-10-24T01:09:09.717675",
     "status": "completed"
    },
    "tags": []
   },
   "source": [
    "### 1.1 Feature engineering <a class=\"anchor\" id=\"chapter1_1\" ></a>\n",
    "* `PassengerId`: a sample item looks like `0001_01` which appears like it can be separated by the underscore.\n",
    "* `Cabin`: a sample item looks like `B/0/P` which looks like it can be separated into 2 string columns and 1 numeric column.\n",
    "* `Name`: unlike the titanic competition the sample items `Maham Ofracculy` do not appear to provide a title.\n",
    "\n",
    "Other string based features do not appear to have a large number of unique values, which is the main reason why feature engineering is often times so necessary."
   ]
  },
  {
   "cell_type": "code",
   "execution_count": 9,
   "id": "a5a46538",
   "metadata": {
    "execution": {
     "iopub.execute_input": "2024-10-24T01:09:09.760175Z",
     "iopub.status.busy": "2024-10-24T01:09:09.759626Z",
     "iopub.status.idle": "2024-10-24T01:09:09.875250Z",
     "shell.execute_reply": "2024-10-24T01:09:09.874245Z"
    },
    "papermill": {
     "duration": 0.132803,
     "end_time": "2024-10-24T01:09:09.877848",
     "exception": false,
     "start_time": "2024-10-24T01:09:09.745045",
     "status": "completed"
    },
    "tags": []
   },
   "outputs": [
    {
     "data": {
      "text/html": [
       "<div>\n",
       "<style scoped>\n",
       "    .dataframe tbody tr th:only-of-type {\n",
       "        vertical-align: middle;\n",
       "    }\n",
       "\n",
       "    .dataframe tbody tr th {\n",
       "        vertical-align: top;\n",
       "    }\n",
       "\n",
       "    .dataframe thead th {\n",
       "        text-align: right;\n",
       "    }\n",
       "</style>\n",
       "<table border=\"1\" class=\"dataframe\">\n",
       "  <thead>\n",
       "    <tr style=\"text-align: right;\">\n",
       "      <th></th>\n",
       "      <th>Data Types</th>\n",
       "      <th>Missing Values</th>\n",
       "      <th>Unique Values</th>\n",
       "    </tr>\n",
       "  </thead>\n",
       "  <tbody>\n",
       "    <tr>\n",
       "      <th>PassengerId</th>\n",
       "      <td>str</td>\n",
       "      <td>0</td>\n",
       "      <td>8693</td>\n",
       "    </tr>\n",
       "    <tr>\n",
       "      <th>HomePlanet</th>\n",
       "      <td>str</td>\n",
       "      <td>201</td>\n",
       "      <td>3</td>\n",
       "    </tr>\n",
       "    <tr>\n",
       "      <th>CryoSleep</th>\n",
       "      <td>bool</td>\n",
       "      <td>217</td>\n",
       "      <td>2</td>\n",
       "    </tr>\n",
       "    <tr>\n",
       "      <th>Cabin</th>\n",
       "      <td>str</td>\n",
       "      <td>199</td>\n",
       "      <td>6560</td>\n",
       "    </tr>\n",
       "    <tr>\n",
       "      <th>Destination</th>\n",
       "      <td>str</td>\n",
       "      <td>182</td>\n",
       "      <td>3</td>\n",
       "    </tr>\n",
       "    <tr>\n",
       "      <th>Age</th>\n",
       "      <td>float64</td>\n",
       "      <td>179</td>\n",
       "      <td>80</td>\n",
       "    </tr>\n",
       "    <tr>\n",
       "      <th>VIP</th>\n",
       "      <td>bool</td>\n",
       "      <td>203</td>\n",
       "      <td>2</td>\n",
       "    </tr>\n",
       "    <tr>\n",
       "      <th>RoomService</th>\n",
       "      <td>float64</td>\n",
       "      <td>181</td>\n",
       "      <td>1273</td>\n",
       "    </tr>\n",
       "    <tr>\n",
       "      <th>FoodCourt</th>\n",
       "      <td>float64</td>\n",
       "      <td>183</td>\n",
       "      <td>1507</td>\n",
       "    </tr>\n",
       "    <tr>\n",
       "      <th>ShoppingMall</th>\n",
       "      <td>float64</td>\n",
       "      <td>208</td>\n",
       "      <td>1115</td>\n",
       "    </tr>\n",
       "    <tr>\n",
       "      <th>Spa</th>\n",
       "      <td>float64</td>\n",
       "      <td>183</td>\n",
       "      <td>1327</td>\n",
       "    </tr>\n",
       "    <tr>\n",
       "      <th>VRDeck</th>\n",
       "      <td>float64</td>\n",
       "      <td>188</td>\n",
       "      <td>1306</td>\n",
       "    </tr>\n",
       "    <tr>\n",
       "      <th>Name</th>\n",
       "      <td>str</td>\n",
       "      <td>200</td>\n",
       "      <td>8473</td>\n",
       "    </tr>\n",
       "    <tr>\n",
       "      <th>Transported</th>\n",
       "      <td>bool</td>\n",
       "      <td>0</td>\n",
       "      <td>2</td>\n",
       "    </tr>\n",
       "    <tr>\n",
       "      <th>PassId_group</th>\n",
       "      <td>float64</td>\n",
       "      <td>0</td>\n",
       "      <td>6217</td>\n",
       "    </tr>\n",
       "    <tr>\n",
       "      <th>PassId_indiv</th>\n",
       "      <td>float64</td>\n",
       "      <td>0</td>\n",
       "      <td>8</td>\n",
       "    </tr>\n",
       "    <tr>\n",
       "      <th>cabin_str1</th>\n",
       "      <td>str</td>\n",
       "      <td>199</td>\n",
       "      <td>8</td>\n",
       "    </tr>\n",
       "    <tr>\n",
       "      <th>cabin_num</th>\n",
       "      <td>float64</td>\n",
       "      <td>199</td>\n",
       "      <td>1817</td>\n",
       "    </tr>\n",
       "    <tr>\n",
       "      <th>cabin_str2</th>\n",
       "      <td>str</td>\n",
       "      <td>199</td>\n",
       "      <td>2</td>\n",
       "    </tr>\n",
       "    <tr>\n",
       "      <th>First_name</th>\n",
       "      <td>str</td>\n",
       "      <td>200</td>\n",
       "      <td>2706</td>\n",
       "    </tr>\n",
       "    <tr>\n",
       "      <th>Last_name</th>\n",
       "      <td>str</td>\n",
       "      <td>200</td>\n",
       "      <td>2217</td>\n",
       "    </tr>\n",
       "  </tbody>\n",
       "</table>\n",
       "</div>"
      ],
      "text/plain": [
       "             Data Types  Missing Values  Unique Values\n",
       "PassengerId         str               0           8693\n",
       "HomePlanet          str             201              3\n",
       "CryoSleep          bool             217              2\n",
       "Cabin               str             199           6560\n",
       "Destination         str             182              3\n",
       "Age             float64             179             80\n",
       "VIP                bool             203              2\n",
       "RoomService     float64             181           1273\n",
       "FoodCourt       float64             183           1507\n",
       "ShoppingMall    float64             208           1115\n",
       "Spa             float64             183           1327\n",
       "VRDeck          float64             188           1306\n",
       "Name                str             200           8473\n",
       "Transported        bool               0              2\n",
       "PassId_group    float64               0           6217\n",
       "PassId_indiv    float64               0              8\n",
       "cabin_str1          str             199              8\n",
       "cabin_num       float64             199           1817\n",
       "cabin_str2          str             199              2\n",
       "First_name          str             200           2706\n",
       "Last_name           str             200           2217"
      ]
     },
     "execution_count": 9,
     "metadata": {},
     "output_type": "execute_result"
    }
   ],
   "source": [
    "# Make a function to clean the data so that once submission is happening we can \\\n",
    "# be confident that the data is being cleaned the same way as the training data\n",
    "\n",
    "# This function will be updated as the notebook continues and more cleaning is necessary\n",
    "def clean_df(df):\n",
    "\n",
    "    # core cleaning\n",
    "    # Seperate PassengerId into group and number as float values\n",
    "    df[['PassId_group','PassId_indiv']] = df['PassengerId'].str.split('_',expand=True).astype('float64')\n",
    "    df[['cabin_str1','cabin_num','cabin_str2']] = df['Cabin'].str.split('/',expand=True) # Initial split of Cabin cleaning\n",
    "    df['cabin_num'] = df['cabin_num'].astype('float64') # Convert the cabin number column into a number\n",
    "    df[['First_name','Last_name']] = df['Name'].str.split(' ',expand=True) # Separate Name into first and last columns\n",
    "\n",
    "    # return the cleaned dataframe\n",
    "    return df\n",
    "\n",
    "# clean the training data\n",
    "spaceship_clean = clean_df(spaceship_train)\n",
    "\n",
    "# get the comparison table of the cleaned data\n",
    "comparison_cleaned = comparison_table(spaceship_clean)\n",
    "comparison_cleaned"
   ]
  },
  {
   "cell_type": "code",
   "execution_count": 10,
   "id": "10cfbdd7",
   "metadata": {
    "execution": {
     "iopub.execute_input": "2024-10-24T01:09:09.907569Z",
     "iopub.status.busy": "2024-10-24T01:09:09.907127Z",
     "iopub.status.idle": "2024-10-24T01:09:09.912913Z",
     "shell.execute_reply": "2024-10-24T01:09:09.911852Z"
    },
    "papermill": {
     "duration": 0.023163,
     "end_time": "2024-10-24T01:09:09.915079",
     "exception": false,
     "start_time": "2024-10-24T01:09:09.891916",
     "status": "completed"
    },
    "tags": []
   },
   "outputs": [],
   "source": [
    "# Break down all the cleaned features into a dictionary for later comparison analysis\n",
    "features_clean_orig = {\n",
    "    'numerical':['PassId_group','PassId_indiv','Age','RoomService','FoodCourt','ShoppingMall','Spa','VRDeck','cabin_num'],\n",
    "    'categorical':['HomePlanet','Destination','cabin_str1','cabin_str2','First_name','Last_name'],\n",
    "    'boolean':['CryoSleep','VIP']\n",
    "}"
   ]
  },
  {
   "cell_type": "code",
   "execution_count": 11,
   "id": "613be200",
   "metadata": {
    "execution": {
     "iopub.execute_input": "2024-10-24T01:09:09.944604Z",
     "iopub.status.busy": "2024-10-24T01:09:09.943617Z",
     "iopub.status.idle": "2024-10-24T01:09:22.837583Z",
     "shell.execute_reply": "2024-10-24T01:09:22.836326Z"
    },
    "papermill": {
     "duration": 12.91161,
     "end_time": "2024-10-24T01:09:22.840252",
     "exception": false,
     "start_time": "2024-10-24T01:09:09.928642",
     "status": "completed"
    },
    "tags": []
   },
   "outputs": [
    {
     "data": {
      "image/png": "[encoded data removed]",
      "text/plain": [
       "<Figure size 1200x600 with 3 Axes>"
      ]
     },
     "metadata": {},
     "output_type": "display_data"
    }
   ],
   "source": [
    "# Make a function to make a heatmap out of the numerical features for future use\n",
    "def correlate_features(df,features):    \n",
    "    corr_num_matrix = df[['Transported'] + features['numerical']].corr() # Make a correlation matrix for numerical heatmap\n",
    "    # Prep the dataframe for categorical heatmap\n",
    "    encoded_features = pd.get_dummies(df[features['categorical']],drop_first=True)\n",
    "    mutual_info = mutual_info_classif(encoded_features,df['Transported'],discrete_features=True)\n",
    "    mi_df = pd.DataFrame({'Features':encoded_features.columns,'Mutual Information':mutual_info})\n",
    "    mi_df['Original Feature'] = mi_df['Features'].str.split('_').str[0]\n",
    "    mi_agg_df = mi_df.groupby('Original Feature').agg({'Mutual Information':'mean'}).reset_index()\n",
    "    # Initiate the subplots\n",
    "    fig,axes = plt.subplots(nrows=2,ncols=1,figsize=(12,6))\n",
    "    \n",
    "    # Plot the heatmap plots\n",
    "    sns.heatmap(corr_num_matrix,annot=True,cmap='coolwarm',ax=axes[0])\n",
    "    sns.barplot(data=mi_agg_df,x='Mutual Information',y='Original Feature',palette='coolwarm',ax=axes[1])\n",
    "    # Create a tight layout to fit everything in\n",
    "    plt.tight_layout()\n",
    "\n",
    "# call the numerical heatmap visualization\n",
    "correlate_features(spaceship_clean,features_clean_orig)"
   ]
  },
  {
   "cell_type": "code",
   "execution_count": 12,
   "id": "f2ec4c6b",
   "metadata": {
    "execution": {
     "iopub.execute_input": "2024-10-24T01:09:22.873227Z",
     "iopub.status.busy": "2024-10-24T01:09:22.872799Z",
     "iopub.status.idle": "2024-10-24T01:09:22.880862Z",
     "shell.execute_reply": "2024-10-24T01:09:22.879795Z"
    },
    "papermill": {
     "duration": 0.02726,
     "end_time": "2024-10-24T01:09:22.883164",
     "exception": false,
     "start_time": "2024-10-24T01:09:22.855904",
     "status": "completed"
    },
    "tags": []
   },
   "outputs": [
    {
     "data": {
      "text/plain": [
       "['HomePlanet', 'Destination', 'cabin_str1', 'cabin_str2']"
      ]
     },
     "execution_count": 12,
     "metadata": {},
     "output_type": "execute_result"
    }
   ],
   "source": [
    "# Because the first and last names appear to be uncorrelated with the \\\n",
    "# classifier column,we can remove them from the categorial set of features.\n",
    "features_clean_orig['categorical'].remove('First_name')\n",
    "features_clean_orig['categorical'].remove('Last_name')\n",
    "features_clean_orig['categorical']"
   ]
  },
  {
   "cell_type": "code",
   "execution_count": 13,
   "id": "d01e6ad0",
   "metadata": {
    "execution": {
     "iopub.execute_input": "2024-10-24T01:09:22.916763Z",
     "iopub.status.busy": "2024-10-24T01:09:22.915959Z",
     "iopub.status.idle": "2024-10-24T01:09:22.924080Z",
     "shell.execute_reply": "2024-10-24T01:09:22.922896Z"
    },
    "papermill": {
     "duration": 0.027586,
     "end_time": "2024-10-24T01:09:22.926530",
     "exception": false,
     "start_time": "2024-10-24T01:09:22.898944",
     "status": "completed"
    },
    "tags": []
   },
   "outputs": [
    {
     "data": {
      "text/plain": [
       "['PassId_group',\n",
       " 'Age',\n",
       " 'RoomService',\n",
       " 'FoodCourt',\n",
       " 'Spa',\n",
       " 'VRDeck',\n",
       " 'cabin_num']"
      ]
     },
     "execution_count": 13,
     "metadata": {},
     "output_type": "execute_result"
    }
   ],
   "source": [
    "# Test removing some categories again\n",
    "features_clean_orig['numerical'].remove('ShoppingMall')\n",
    "features_clean_orig['numerical'].remove('PassId_indiv')\n",
    "features_clean_orig['numerical']"
   ]
  },
  {
   "cell_type": "markdown",
   "id": "2d07241e",
   "metadata": {
    "papermill": {
     "duration": 0.015501,
     "end_time": "2024-10-24T01:09:22.957724",
     "exception": false,
     "start_time": "2024-10-24T01:09:22.942223",
     "status": "completed"
    },
    "tags": []
   },
   "source": [
    "### 1.2 Initial predictions <a class=\"anchor\" id=\"chapter1_2\" ></a>"
   ]
  },
  {
   "cell_type": "code",
   "execution_count": 14,
   "id": "40107064",
   "metadata": {
    "execution": {
     "iopub.execute_input": "2024-10-24T01:09:22.991025Z",
     "iopub.status.busy": "2024-10-24T01:09:22.990588Z",
     "iopub.status.idle": "2024-10-24T01:09:23.193415Z",
     "shell.execute_reply": "2024-10-24T01:09:23.192389Z"
    },
    "papermill": {
     "duration": 0.222854,
     "end_time": "2024-10-24T01:09:23.196344",
     "exception": false,
     "start_time": "2024-10-24T01:09:22.973490",
     "status": "completed"
    },
    "tags": []
   },
   "outputs": [],
   "source": [
    "from sklearn.model_selection import train_test_split\n",
    "from sklearn.ensemble import RandomForestClassifier\n",
    "from sklearn.preprocessing import StandardScaler,OneHotEncoder,FunctionTransformer,PolynomialFeatures\n",
    "from sklearn.linear_model import LogisticRegression,LinearRegression\n",
    "from sklearn.compose import ColumnTransformer\n",
    "from sklearn.impute import SimpleImputer\n",
    "from sklearn.pipeline import Pipeline\n",
    "from sklearn.metrics import accuracy_score,precision_score,recall_score,f1_score,r2_score\n",
    "import itertools"
   ]
  },
  {
   "cell_type": "code",
   "execution_count": 15,
   "id": "83c881e3",
   "metadata": {
    "execution": {
     "iopub.execute_input": "2024-10-24T01:09:23.230185Z",
     "iopub.status.busy": "2024-10-24T01:09:23.229334Z",
     "iopub.status.idle": "2024-10-24T01:09:23.237532Z",
     "shell.execute_reply": "2024-10-24T01:09:23.236453Z"
    },
    "papermill": {
     "duration": 0.027697,
     "end_time": "2024-10-24T01:09:23.240028",
     "exception": false,
     "start_time": "2024-10-24T01:09:23.212331",
     "status": "completed"
    },
    "tags": []
   },
   "outputs": [],
   "source": [
    "# Make a function to generate a pipeline\n",
    "def make_pipeline(features,model_object):\n",
    "    # preprocess the features\n",
    "    preprocessor = ColumnTransformer(transformers=[\n",
    "        ('num',Pipeline([\n",
    "            ('imputer',SimpleImputer(strategy='mean')),\n",
    "            ('scaler',StandardScaler())\n",
    "        ]),features['numerical']),\n",
    "        ('cat',Pipeline([\n",
    "            ('imputer',SimpleImputer(strategy='most_frequent')),\n",
    "            ('onehot',OneHotEncoder(drop='first'))\n",
    "        ]),features['categorical']),\n",
    "        ('boo',Pipeline([\n",
    "            ('imputer',SimpleImputer(strategy='most_frequent'))\n",
    "        ]),features['boolean'])\n",
    "    ])\n",
    "\n",
    "    # attach the preprocessor and return the pipeline\n",
    "    return Pipeline(steps=[\n",
    "        ('preprocessor',preprocessor),\n",
    "        ('classifier',model_object)\n",
    "    ])"
   ]
  },
  {
   "cell_type": "code",
   "execution_count": 16,
   "id": "18012a7f",
   "metadata": {
    "execution": {
     "iopub.execute_input": "2024-10-24T01:09:23.273486Z",
     "iopub.status.busy": "2024-10-24T01:09:23.273067Z",
     "iopub.status.idle": "2024-10-24T01:09:23.293372Z",
     "shell.execute_reply": "2024-10-24T01:09:23.292232Z"
    },
    "papermill": {
     "duration": 0.040404,
     "end_time": "2024-10-24T01:09:23.296216",
     "exception": false,
     "start_time": "2024-10-24T01:09:23.255812",
     "status": "completed"
    },
    "tags": []
   },
   "outputs": [],
   "source": [
    "# Split the training data into training and validation subsets\n",
    "X = spaceship_clean.drop('Transported',axis=1)\n",
    "y = spaceship_clean['Transported']\n",
    "X_train,X_valid,y_train,y_valid = train_test_split(X,y,stratify=y,random_state=42,test_size=0.2)"
   ]
  },
  {
   "cell_type": "code",
   "execution_count": 17,
   "id": "ff623bdb",
   "metadata": {
    "execution": {
     "iopub.execute_input": "2024-10-24T01:09:23.329586Z",
     "iopub.status.busy": "2024-10-24T01:09:23.329128Z",
     "iopub.status.idle": "2024-10-24T01:09:23.337651Z",
     "shell.execute_reply": "2024-10-24T01:09:23.336512Z"
    },
    "papermill": {
     "duration": 0.02809,
     "end_time": "2024-10-24T01:09:23.340170",
     "exception": false,
     "start_time": "2024-10-24T01:09:23.312080",
     "status": "completed"
    },
    "tags": []
   },
   "outputs": [],
   "source": [
    "# Create a dictionary and a function that will be used to store the results of the scoring in a dictionary for later plotting\n",
    "model_scoring_dict = {}\n",
    "\n",
    "def evaluate_preds(true,preds):\n",
    "    \"\"\"\n",
    "    Performs evalution comparisons on y_true values vs. y_pred values on a classification.\n",
    "    \"\"\"\n",
    "    \n",
    "    # create a dictionary of scoring values\n",
    "    metric_dict = {\n",
    "        'accuracy':round(accuracy_score(true,preds),2),\n",
    "        'precision':round(precision_score(true,preds),2),\n",
    "        'recall':round(recall_score(true,preds),2),\n",
    "        'f1':round(f1_score(true,preds),2)\n",
    "    }\n",
    "    \n",
    "    # print the calculated metrics\n",
    "    for item in metric_dict:\n",
    "        if item == 'accuracy':\n",
    "            print(f'{item}: {metric_dict[item]*100:.2f}%')\n",
    "        else:\n",
    "            print(f'{item}: {metric_dict[item]:.2f}')\n",
    "    \n",
    "    return metric_dict"
   ]
  },
  {
   "cell_type": "code",
   "execution_count": 18,
   "id": "613d4fd7",
   "metadata": {
    "execution": {
     "iopub.execute_input": "2024-10-24T01:09:23.373988Z",
     "iopub.status.busy": "2024-10-24T01:09:23.373005Z",
     "iopub.status.idle": "2024-10-24T01:09:24.661572Z",
     "shell.execute_reply": "2024-10-24T01:09:24.660255Z"
    },
    "papermill": {
     "duration": 1.308548,
     "end_time": "2024-10-24T01:09:24.664523",
     "exception": false,
     "start_time": "2024-10-24T01:09:23.355975",
     "status": "completed"
    },
    "tags": []
   },
   "outputs": [
    {
     "name": "stdout",
     "output_type": "stream",
     "text": [
      "accuracy: 80.00%\n",
      "precision: 0.83\n",
      "recall: 0.76\n",
      "f1: 0.79\n"
     ]
    }
   ],
   "source": [
    "# Make an initial prediction using RandomForestClassifier\n",
    "rf1_pipe = make_pipeline(features_clean_orig,RandomForestClassifier(random_state=42))\n",
    "rf1_pipe.fit(X_train,y_train)\n",
    "rf1_y_preds = rf1_pipe.predict(X_valid)\n",
    "model_scoring_dict.update({'RandomForestClassifer baseline':evaluate_preds(y_valid,rf1_y_preds)})"
   ]
  },
  {
   "cell_type": "markdown",
   "id": "481f8f56",
   "metadata": {
    "papermill": {
     "duration": 0.016022,
     "end_time": "2024-10-24T01:09:24.696476",
     "exception": false,
     "start_time": "2024-10-24T01:09:24.680454",
     "status": "completed"
    },
    "tags": []
   },
   "source": [
    "## 2. Hypertuning Parameters & Final model selection <a class='anchor' id='chapter2'></a>"
   ]
  },
  {
   "cell_type": "code",
   "execution_count": 19,
   "id": "f9692843",
   "metadata": {
    "execution": {
     "iopub.execute_input": "2024-10-24T01:09:24.730415Z",
     "iopub.status.busy": "2024-10-24T01:09:24.729999Z",
     "iopub.status.idle": "2024-10-24T01:09:24.735326Z",
     "shell.execute_reply": "2024-10-24T01:09:24.734150Z"
    },
    "papermill": {
     "duration": 0.025456,
     "end_time": "2024-10-24T01:09:24.737960",
     "exception": false,
     "start_time": "2024-10-24T01:09:24.712504",
     "status": "completed"
    },
    "tags": []
   },
   "outputs": [],
   "source": [
    "from sklearn.model_selection import GridSearchCV\n",
    "from sklearn.metrics import make_scorer"
   ]
  },
  {
   "cell_type": "markdown",
   "id": "66d64338",
   "metadata": {
    "papermill": {
     "duration": 0.015631,
     "end_time": "2024-10-24T01:09:24.770046",
     "exception": false,
     "start_time": "2024-10-24T01:09:24.754415",
     "status": "completed"
    },
    "tags": []
   },
   "source": [
    "### 2.1 Initial hypertuning <a class='anchor' id='chapter2_1'></a>"
   ]
  },
  {
   "cell_type": "code",
   "execution_count": 20,
   "id": "64ad6745",
   "metadata": {
    "execution": {
     "iopub.execute_input": "2024-10-24T01:09:24.803651Z",
     "iopub.status.busy": "2024-10-24T01:09:24.803163Z",
     "iopub.status.idle": "2024-10-24T01:19:09.799128Z",
     "shell.execute_reply": "2024-10-24T01:19:09.797835Z"
    },
    "papermill": {
     "duration": 585.032774,
     "end_time": "2024-10-24T01:19:09.818791",
     "exception": false,
     "start_time": "2024-10-24T01:09:24.786017",
     "status": "completed"
    },
    "tags": []
   },
   "outputs": [
    {
     "data": {
      "text/html": [
       "<style>#sk-container-id-1 {color: black;background-color: white;}#sk-container-id-1 pre{padding: 0;}#sk-container-id-1 div.sk-toggleable {background-color: white;}#sk-container-id-1 label.sk-toggleable__label {cursor: pointer;display: block;width: 100%;margin-bottom: 0;padding: 0.3em;box-sizing: border-box;text-align: center;}#sk-container-id-1 label.sk-toggleable__label-arrow:before {content: \"▸\";float: left;margin-right: 0.25em;color: #696969;}#sk-container-id-1 label.sk-toggleable__label-arrow:hover:before {color: black;}#sk-container-id-1 div.sk-estimator:hover label.sk-toggleable__label-arrow:before {color: black;}#sk-container-id-1 div.sk-toggleable__content {max-height: 0;max-width: 0;overflow: hidden;text-align: left;background-color: #f0f8ff;}#sk-container-id-1 div.sk-toggleable__content pre {margin: 0.2em;color: black;border-radius: 0.25em;background-color: #f0f8ff;}#sk-container-id-1 input.sk-toggleable__control:checked~div.sk-toggleable__content {max-height: 200px;max-width: 100%;overflow: auto;}#sk-container-id-1 input.sk-toggleable__control:checked~label.sk-toggleable__label-arrow:before {content: \"▾\";}#sk-container-id-1 div.sk-estimator input.sk-toggleable__control:checked~label.sk-toggleable__label {background-color: #d4ebff;}#sk-container-id-1 div.sk-label input.sk-toggleable__control:checked~label.sk-toggleable__label {background-color: #d4ebff;}#sk-container-id-1 input.sk-hidden--visually {border: 0;clip: rect(1px 1px 1px 1px);clip: rect(1px, 1px, 1px, 1px);height: 1px;margin: -1px;overflow: hidden;padding: 0;position: absolute;width: 1px;}#sk-container-id-1 div.sk-estimator {font-family: monospace;background-color: #f0f8ff;border: 1px dotted black;border-radius: 0.25em;box-sizing: border-box;margin-bottom: 0.5em;}#sk-container-id-1 div.sk-estimator:hover {background-color: #d4ebff;}#sk-container-id-1 div.sk-parallel-item::after {content: \"\";width: 100%;border-bottom: 1px solid gray;flex-grow: 1;}#sk-container-id-1 div.sk-label:hover label.sk-toggleable__label {background-color: #d4ebff;}#sk-container-id-1 div.sk-serial::before {content: \"\";position: absolute;border-left: 1px solid gray;box-sizing: border-box;top: 0;bottom: 0;left: 50%;z-index: 0;}#sk-container-id-1 div.sk-serial {display: flex;flex-direction: column;align-items: center;background-color: white;padding-right: 0.2em;padding-left: 0.2em;position: relative;}#sk-container-id-1 div.sk-item {position: relative;z-index: 1;}#sk-container-id-1 div.sk-parallel {display: flex;align-items: stretch;justify-content: center;background-color: white;position: relative;}#sk-container-id-1 div.sk-item::before, #sk-container-id-1 div.sk-parallel-item::before {content: \"\";position: absolute;border-left: 1px solid gray;box-sizing: border-box;top: 0;bottom: 0;left: 50%;z-index: -1;}#sk-container-id-1 div.sk-parallel-item {display: flex;flex-direction: column;z-index: 1;position: relative;background-color: white;}#sk-container-id-1 div.sk-parallel-item:first-child::after {align-self: flex-end;width: 50%;}#sk-container-id-1 div.sk-parallel-item:last-child::after {align-self: flex-start;width: 50%;}#sk-container-id-1 div.sk-parallel-item:only-child::after {width: 0;}#sk-container-id-1 div.sk-dashed-wrapped {border: 1px dashed gray;margin: 0 0.4em 0.5em 0.4em;box-sizing: border-box;padding-bottom: 0.4em;background-color: white;}#sk-container-id-1 div.sk-label label {font-family: monospace;font-weight: bold;display: inline-block;line-height: 1.2em;}#sk-container-id-1 div.sk-label-container {text-align: center;}#sk-container-id-1 div.sk-container {/* jupyter's `normalize.less` sets `[hidden] { display: none; }` but bootstrap.min.css set `[hidden] { display: none !important; }` so we also need the `!important` here to be able to override the default hidden behavior on the sphinx rendered scikit-learn.org. See: https://github.com/scikit-learn/scikit-learn/issues/21755 */display: inline-block !important;position: relative;}#sk-container-id-1 div.sk-text-repr-fallback {display: none;}</style><div id=\"sk-container-id-1\" class=\"sk-top-container\"><div class=\"sk-text-repr-fallback\"><pre>GridSearchCV(cv=5,\n",
       "             estimator=Pipeline(steps=[(&#x27;preprocessor&#x27;,\n",
       "                                        ColumnTransformer(transformers=[(&#x27;num&#x27;,\n",
       "                                                                         Pipeline(steps=[(&#x27;imputer&#x27;,\n",
       "                                                                                          SimpleImputer()),\n",
       "                                                                                         (&#x27;scaler&#x27;,\n",
       "                                                                                          StandardScaler())]),\n",
       "                                                                         [&#x27;PassId_group&#x27;,\n",
       "                                                                          &#x27;Age&#x27;,\n",
       "                                                                          &#x27;RoomService&#x27;,\n",
       "                                                                          &#x27;FoodCourt&#x27;,\n",
       "                                                                          &#x27;Spa&#x27;,\n",
       "                                                                          &#x27;VRDeck&#x27;,\n",
       "                                                                          &#x27;cabin_num&#x27;]),\n",
       "                                                                        (&#x27;cat&#x27;,\n",
       "                                                                         Pipeline(steps=[(&#x27;imputer&#x27;,\n",
       "                                                                                          SimpleImputer(strategy=&#x27;most_frequent&#x27;)),\n",
       "                                                                                         (&#x27;onehot&#x27;,\n",
       "                                                                                          OneHotEncoder(d...\n",
       "                                        RandomForestClassifier(random_state=42))]),\n",
       "             n_jobs=-1,\n",
       "             param_grid={&#x27;classifier__bootstrap&#x27;: [True, False],\n",
       "                         &#x27;classifier__max_depth&#x27;: [10, 20, None],\n",
       "                         &#x27;classifier__min_samples_leaf&#x27;: [1, 2, 4],\n",
       "                         &#x27;classifier__min_samples_split&#x27;: [2, 5, 10],\n",
       "                         &#x27;classifier__n_estimators&#x27;: [100, 200, 300]},\n",
       "             refit=&#x27;accuracy&#x27;,\n",
       "             scoring={&#x27;accuracy&#x27;: &#x27;accuracy&#x27;,\n",
       "                      &#x27;f1&#x27;: make_scorer(f1_score, average=weighted)})</pre><b>In a Jupyter environment, please rerun this cell to show the HTML representation or trust the notebook. <br />On GitHub, the HTML representation is unable to render, please try loading this page with nbviewer.org.</b></div><div class=\"sk-container\" hidden><div class=\"sk-item sk-dashed-wrapped\"><div class=\"sk-label-container\"><div class=\"sk-label sk-toggleable\"><input class=\"sk-toggleable__control sk-hidden--visually\" id=\"sk-estimator-id-1\" type=\"checkbox\" ><label for=\"sk-estimator-id-1\" class=\"sk-toggleable__label sk-toggleable__label-arrow\">GridSearchCV</label><div class=\"sk-toggleable__content\"><pre>GridSearchCV(cv=5,\n",
       "             estimator=Pipeline(steps=[(&#x27;preprocessor&#x27;,\n",
       "                                        ColumnTransformer(transformers=[(&#x27;num&#x27;,\n",
       "                                                                         Pipeline(steps=[(&#x27;imputer&#x27;,\n",
       "                                                                                          SimpleImputer()),\n",
       "                                                                                         (&#x27;scaler&#x27;,\n",
       "                                                                                          StandardScaler())]),\n",
       "                                                                         [&#x27;PassId_group&#x27;,\n",
       "                                                                          &#x27;Age&#x27;,\n",
       "                                                                          &#x27;RoomService&#x27;,\n",
       "                                                                          &#x27;FoodCourt&#x27;,\n",
       "                                                                          &#x27;Spa&#x27;,\n",
       "                                                                          &#x27;VRDeck&#x27;,\n",
       "                                                                          &#x27;cabin_num&#x27;]),\n",
       "                                                                        (&#x27;cat&#x27;,\n",
       "                                                                         Pipeline(steps=[(&#x27;imputer&#x27;,\n",
       "                                                                                          SimpleImputer(strategy=&#x27;most_frequent&#x27;)),\n",
       "                                                                                         (&#x27;onehot&#x27;,\n",
       "                                                                                          OneHotEncoder(d...\n",
       "                                        RandomForestClassifier(random_state=42))]),\n",
       "             n_jobs=-1,\n",
       "             param_grid={&#x27;classifier__bootstrap&#x27;: [True, False],\n",
       "                         &#x27;classifier__max_depth&#x27;: [10, 20, None],\n",
       "                         &#x27;classifier__min_samples_leaf&#x27;: [1, 2, 4],\n",
       "                         &#x27;classifier__min_samples_split&#x27;: [2, 5, 10],\n",
       "                         &#x27;classifier__n_estimators&#x27;: [100, 200, 300]},\n",
       "             refit=&#x27;accuracy&#x27;,\n",
       "             scoring={&#x27;accuracy&#x27;: &#x27;accuracy&#x27;,\n",
       "                      &#x27;f1&#x27;: make_scorer(f1_score, average=weighted)})</pre></div></div></div><div class=\"sk-parallel\"><div class=\"sk-parallel-item\"><div class=\"sk-item\"><div class=\"sk-label-container\"><div class=\"sk-label sk-toggleable\"><input class=\"sk-toggleable__control sk-hidden--visually\" id=\"sk-estimator-id-2\" type=\"checkbox\" ><label for=\"sk-estimator-id-2\" class=\"sk-toggleable__label sk-toggleable__label-arrow\">estimator: Pipeline</label><div class=\"sk-toggleable__content\"><pre>Pipeline(steps=[(&#x27;preprocessor&#x27;,\n",
       "                 ColumnTransformer(transformers=[(&#x27;num&#x27;,\n",
       "                                                  Pipeline(steps=[(&#x27;imputer&#x27;,\n",
       "                                                                   SimpleImputer()),\n",
       "                                                                  (&#x27;scaler&#x27;,\n",
       "                                                                   StandardScaler())]),\n",
       "                                                  [&#x27;PassId_group&#x27;, &#x27;Age&#x27;,\n",
       "                                                   &#x27;RoomService&#x27;, &#x27;FoodCourt&#x27;,\n",
       "                                                   &#x27;Spa&#x27;, &#x27;VRDeck&#x27;,\n",
       "                                                   &#x27;cabin_num&#x27;]),\n",
       "                                                 (&#x27;cat&#x27;,\n",
       "                                                  Pipeline(steps=[(&#x27;imputer&#x27;,\n",
       "                                                                   SimpleImputer(strategy=&#x27;most_frequent&#x27;)),\n",
       "                                                                  (&#x27;onehot&#x27;,\n",
       "                                                                   OneHotEncoder(drop=&#x27;first&#x27;))]),\n",
       "                                                  [&#x27;HomePlanet&#x27;, &#x27;Destination&#x27;,\n",
       "                                                   &#x27;cabin_str1&#x27;,\n",
       "                                                   &#x27;cabin_str2&#x27;]),\n",
       "                                                 (&#x27;boo&#x27;,\n",
       "                                                  Pipeline(steps=[(&#x27;imputer&#x27;,\n",
       "                                                                   SimpleImputer(strategy=&#x27;most_frequent&#x27;))]),\n",
       "                                                  [&#x27;CryoSleep&#x27;, &#x27;VIP&#x27;])])),\n",
       "                (&#x27;classifier&#x27;, RandomForestClassifier(random_state=42))])</pre></div></div></div><div class=\"sk-serial\"><div class=\"sk-item\"><div class=\"sk-serial\"><div class=\"sk-item sk-dashed-wrapped\"><div class=\"sk-label-container\"><div class=\"sk-label sk-toggleable\"><input class=\"sk-toggleable__control sk-hidden--visually\" id=\"sk-estimator-id-3\" type=\"checkbox\" ><label for=\"sk-estimator-id-3\" class=\"sk-toggleable__label sk-toggleable__label-arrow\">preprocessor: ColumnTransformer</label><div class=\"sk-toggleable__content\"><pre>ColumnTransformer(transformers=[(&#x27;num&#x27;,\n",
       "                                 Pipeline(steps=[(&#x27;imputer&#x27;, SimpleImputer()),\n",
       "                                                 (&#x27;scaler&#x27;, StandardScaler())]),\n",
       "                                 [&#x27;PassId_group&#x27;, &#x27;Age&#x27;, &#x27;RoomService&#x27;,\n",
       "                                  &#x27;FoodCourt&#x27;, &#x27;Spa&#x27;, &#x27;VRDeck&#x27;, &#x27;cabin_num&#x27;]),\n",
       "                                (&#x27;cat&#x27;,\n",
       "                                 Pipeline(steps=[(&#x27;imputer&#x27;,\n",
       "                                                  SimpleImputer(strategy=&#x27;most_frequent&#x27;)),\n",
       "                                                 (&#x27;onehot&#x27;,\n",
       "                                                  OneHotEncoder(drop=&#x27;first&#x27;))]),\n",
       "                                 [&#x27;HomePlanet&#x27;, &#x27;Destination&#x27;, &#x27;cabin_str1&#x27;,\n",
       "                                  &#x27;cabin_str2&#x27;]),\n",
       "                                (&#x27;boo&#x27;,\n",
       "                                 Pipeline(steps=[(&#x27;imputer&#x27;,\n",
       "                                                  SimpleImputer(strategy=&#x27;most_frequent&#x27;))]),\n",
       "                                 [&#x27;CryoSleep&#x27;, &#x27;VIP&#x27;])])</pre></div></div></div><div class=\"sk-parallel\"><div class=\"sk-parallel-item\"><div class=\"sk-item\"><div class=\"sk-label-container\"><div class=\"sk-label sk-toggleable\"><input class=\"sk-toggleable__control sk-hidden--visually\" id=\"sk-estimator-id-4\" type=\"checkbox\" ><label for=\"sk-estimator-id-4\" class=\"sk-toggleable__label sk-toggleable__label-arrow\">num</label><div class=\"sk-toggleable__content\"><pre>[&#x27;PassId_group&#x27;, &#x27;Age&#x27;, &#x27;RoomService&#x27;, &#x27;FoodCourt&#x27;, &#x27;Spa&#x27;, &#x27;VRDeck&#x27;, &#x27;cabin_num&#x27;]</pre></div></div></div><div class=\"sk-serial\"><div class=\"sk-item\"><div class=\"sk-serial\"><div class=\"sk-item\"><div class=\"sk-estimator sk-toggleable\"><input class=\"sk-toggleable__control sk-hidden--visually\" id=\"sk-estimator-id-5\" type=\"checkbox\" ><label for=\"sk-estimator-id-5\" class=\"sk-toggleable__label sk-toggleable__label-arrow\">SimpleImputer</label><div class=\"sk-toggleable__content\"><pre>SimpleImputer()</pre></div></div></div><div class=\"sk-item\"><div class=\"sk-estimator sk-toggleable\"><input class=\"sk-toggleable__control sk-hidden--visually\" id=\"sk-estimator-id-6\" type=\"checkbox\" ><label for=\"sk-estimator-id-6\" class=\"sk-toggleable__label sk-toggleable__label-arrow\">StandardScaler</label><div class=\"sk-toggleable__content\"><pre>StandardScaler()</pre></div></div></div></div></div></div></div></div><div class=\"sk-parallel-item\"><div class=\"sk-item\"><div class=\"sk-label-container\"><div class=\"sk-label sk-toggleable\"><input class=\"sk-toggleable__control sk-hidden--visually\" id=\"sk-estimator-id-7\" type=\"checkbox\" ><label for=\"sk-estimator-id-7\" class=\"sk-toggleable__label sk-toggleable__label-arrow\">cat</label><div class=\"sk-toggleable__content\"><pre>[&#x27;HomePlanet&#x27;, &#x27;Destination&#x27;, &#x27;cabin_str1&#x27;, &#x27;cabin_str2&#x27;]</pre></div></div></div><div class=\"sk-serial\"><div class=\"sk-item\"><div class=\"sk-serial\"><div class=\"sk-item\"><div class=\"sk-estimator sk-toggleable\"><input class=\"sk-toggleable__control sk-hidden--visually\" id=\"sk-estimator-id-8\" type=\"checkbox\" ><label for=\"sk-estimator-id-8\" class=\"sk-toggleable__label sk-toggleable__label-arrow\">SimpleImputer</label><div class=\"sk-toggleable__content\"><pre>SimpleImputer(strategy=&#x27;most_frequent&#x27;)</pre></div></div></div><div class=\"sk-item\"><div class=\"sk-estimator sk-toggleable\"><input class=\"sk-toggleable__control sk-hidden--visually\" id=\"sk-estimator-id-9\" type=\"checkbox\" ><label for=\"sk-estimator-id-9\" class=\"sk-toggleable__label sk-toggleable__label-arrow\">OneHotEncoder</label><div class=\"sk-toggleable__content\"><pre>OneHotEncoder(drop=&#x27;first&#x27;)</pre></div></div></div></div></div></div></div></div><div class=\"sk-parallel-item\"><div class=\"sk-item\"><div class=\"sk-label-container\"><div class=\"sk-label sk-toggleable\"><input class=\"sk-toggleable__control sk-hidden--visually\" id=\"sk-estimator-id-10\" type=\"checkbox\" ><label for=\"sk-estimator-id-10\" class=\"sk-toggleable__label sk-toggleable__label-arrow\">boo</label><div class=\"sk-toggleable__content\"><pre>[&#x27;CryoSleep&#x27;, &#x27;VIP&#x27;]</pre></div></div></div><div class=\"sk-serial\"><div class=\"sk-item\"><div class=\"sk-serial\"><div class=\"sk-item\"><div class=\"sk-estimator sk-toggleable\"><input class=\"sk-toggleable__control sk-hidden--visually\" id=\"sk-estimator-id-11\" type=\"checkbox\" ><label for=\"sk-estimator-id-11\" class=\"sk-toggleable__label sk-toggleable__label-arrow\">SimpleImputer</label><div class=\"sk-toggleable__content\"><pre>SimpleImputer(strategy=&#x27;most_frequent&#x27;)</pre></div></div></div></div></div></div></div></div></div></div><div class=\"sk-item\"><div class=\"sk-estimator sk-toggleable\"><input class=\"sk-toggleable__control sk-hidden--visually\" id=\"sk-estimator-id-12\" type=\"checkbox\" ><label for=\"sk-estimator-id-12\" class=\"sk-toggleable__label sk-toggleable__label-arrow\">RandomForestClassifier</label><div class=\"sk-toggleable__content\"><pre>RandomForestClassifier(random_state=42)</pre></div></div></div></div></div></div></div></div></div></div></div></div>"
      ],
      "text/plain": [
       "GridSearchCV(cv=5,\n",
       "             estimator=Pipeline(steps=[('preprocessor',\n",
       "                                        ColumnTransformer(transformers=[('num',\n",
       "                                                                         Pipeline(steps=[('imputer',\n",
       "                                                                                          SimpleImputer()),\n",
       "                                                                                         ('scaler',\n",
       "                                                                                          StandardScaler())]),\n",
       "                                                                         ['PassId_group',\n",
       "                                                                          'Age',\n",
       "                                                                          'RoomService',\n",
       "                                                                          'FoodCourt',\n",
       "                                                                          'Spa',\n",
       "                                                                          'VRDeck',\n",
       "                                                                          'cabin_num']),\n",
       "                                                                        ('cat',\n",
       "                                                                         Pipeline(steps=[('imputer',\n",
       "                                                                                          SimpleImputer(strategy='most_frequent')),\n",
       "                                                                                         ('onehot',\n",
       "                                                                                          OneHotEncoder(d...\n",
       "                                        RandomForestClassifier(random_state=42))]),\n",
       "             n_jobs=-1,\n",
       "             param_grid={'classifier__bootstrap': [True, False],\n",
       "                         'classifier__max_depth': [10, 20, None],\n",
       "                         'classifier__min_samples_leaf': [1, 2, 4],\n",
       "                         'classifier__min_samples_split': [2, 5, 10],\n",
       "                         'classifier__n_estimators': [100, 200, 300]},\n",
       "             refit='accuracy',\n",
       "             scoring={'accuracy': 'accuracy',\n",
       "                      'f1': make_scorer(f1_score, average=weighted)})"
      ]
     },
     "execution_count": 20,
     "metadata": {},
     "output_type": "execute_result"
    }
   ],
   "source": [
    "# Set up the parameter grid\n",
    "param_grid = {\n",
    "    'classifier__n_estimators':[100,200,300],\n",
    "    'classifier__max_depth':[10,20,None],\n",
    "    'classifier__min_samples_split':[2,5,10],\n",
    "    'classifier__min_samples_leaf':[1,2,4],\n",
    "    'classifier__bootstrap':[True,False]\n",
    "}\n",
    "\n",
    "# Make a scoring dictionary for multiple scorin priorities\n",
    "multi_scoring = {\n",
    "    'accuracy':'accuracy',\n",
    "    'f1':make_scorer(f1_score,average='weighted')\n",
    "}\n",
    "\n",
    "# Setting up the GridSearchCV & Fit the model\n",
    "grid_search_rf1 = GridSearchCV(rf1_pipe,param_grid,cv=5,scoring=multi_scoring,refit='accuracy',n_jobs=-1,verbose=0)\n",
    "grid_search_rf1.fit(X_train,y_train)"
   ]
  },
  {
   "cell_type": "code",
   "execution_count": 21,
   "id": "7c71acb9",
   "metadata": {
    "execution": {
     "iopub.execute_input": "2024-10-24T01:19:09.854202Z",
     "iopub.status.busy": "2024-10-24T01:19:09.853771Z",
     "iopub.status.idle": "2024-10-24T01:19:10.000241Z",
     "shell.execute_reply": "2024-10-24T01:19:09.998711Z"
    },
    "papermill": {
     "duration": 0.167449,
     "end_time": "2024-10-24T01:19:10.002920",
     "exception": false,
     "start_time": "2024-10-24T01:19:09.835471",
     "status": "completed"
    },
    "tags": []
   },
   "outputs": [
    {
     "name": "stdout",
     "output_type": "stream",
     "text": [
      "accuracy: 81.00%\n",
      "precision: 0.82\n",
      "recall: 0.79\n",
      "f1: 0.80\n"
     ]
    }
   ],
   "source": [
    "# Once complete, make a prediction and then add the scoring metrics to th metrics dictionary\n",
    "grid_search_rf1_y_preds = grid_search_rf1.predict(X_valid)\n",
    "model_scoring_dict.update({'RandomForestClassifier GridSearchCV':evaluate_preds(y_valid,grid_search_rf1_y_preds)})"
   ]
  },
  {
   "cell_type": "markdown",
   "id": "62116325",
   "metadata": {
    "papermill": {
     "duration": 0.017919,
     "end_time": "2024-10-24T01:19:10.037797",
     "exception": false,
     "start_time": "2024-10-24T01:19:10.019878",
     "status": "completed"
    },
    "tags": []
   },
   "source": [
    "### 2.2 Alternative model testing & Advanced hypertuning <a class='anchor' id='chapter2_2'></a>"
   ]
  },
  {
   "cell_type": "code",
   "execution_count": 22,
   "id": "6e314905",
   "metadata": {
    "execution": {
     "iopub.execute_input": "2024-10-24T01:19:10.073507Z",
     "iopub.status.busy": "2024-10-24T01:19:10.073104Z",
     "iopub.status.idle": "2024-10-24T01:19:10.486858Z",
     "shell.execute_reply": "2024-10-24T01:19:10.485428Z"
    },
    "papermill": {
     "duration": 0.435004,
     "end_time": "2024-10-24T01:19:10.489795",
     "exception": false,
     "start_time": "2024-10-24T01:19:10.054791",
     "status": "completed"
    },
    "tags": []
   },
   "outputs": [],
   "source": [
    "from xgboost import XGBClassifier\n",
    "from catboost import CatBoostClassifier\n",
    "from sklearn.ensemble import StackingClassifier\n",
    "from sklearn.model_selection import RandomizedSearchCV"
   ]
  },
  {
   "cell_type": "code",
   "execution_count": 23,
   "id": "37e605ea",
   "metadata": {
    "execution": {
     "iopub.execute_input": "2024-10-24T01:19:10.525700Z",
     "iopub.status.busy": "2024-10-24T01:19:10.525249Z",
     "iopub.status.idle": "2024-10-24T01:19:10.841463Z",
     "shell.execute_reply": "2024-10-24T01:19:10.840057Z"
    },
    "papermill": {
     "duration": 0.33764,
     "end_time": "2024-10-24T01:19:10.844330",
     "exception": false,
     "start_time": "2024-10-24T01:19:10.506690",
     "status": "completed"
    },
    "tags": []
   },
   "outputs": [
    {
     "name": "stdout",
     "output_type": "stream",
     "text": [
      "accuracy: 81.00%\n",
      "precision: 0.82\n",
      "recall: 0.79\n",
      "f1: 0.80\n"
     ]
    }
   ],
   "source": [
    "# Train a baseline model for XGBClassifier and make a prediction\n",
    "xgb_pipe = make_pipeline(features_clean_orig,XGBClassifier(random_state=42))\n",
    "xgb_pipe.fit(X_train,y_train)\n",
    "xgb_y_preds = xgb_pipe.predict(X_valid)\n",
    "\n",
    "# Add metrics to the scoring dictionary\n",
    "model_scoring_dict.update({'XGBClassifier baseline':evaluate_preds(y_valid,xgb_y_preds)})"
   ]
  },
  {
   "cell_type": "code",
   "execution_count": 24,
   "id": "9b3d6700",
   "metadata": {
    "execution": {
     "iopub.execute_input": "2024-10-24T01:19:10.881696Z",
     "iopub.status.busy": "2024-10-24T01:19:10.880436Z",
     "iopub.status.idle": "2024-10-24T01:19:15.035823Z",
     "shell.execute_reply": "2024-10-24T01:19:15.034454Z"
    },
    "papermill": {
     "duration": 4.176718,
     "end_time": "2024-10-24T01:19:15.038478",
     "exception": false,
     "start_time": "2024-10-24T01:19:10.861760",
     "status": "completed"
    },
    "tags": []
   },
   "outputs": [
    {
     "name": "stdout",
     "output_type": "stream",
     "text": [
      "accuracy: 82.00%\n",
      "precision: 0.82\n",
      "recall: 0.82\n",
      "f1: 0.82\n"
     ]
    }
   ],
   "source": [
    "# Train a baseline model for CatBoost and make a prediction\n",
    "cat_pipe = make_pipeline(features_clean_orig,CatBoostClassifier(random_state=42,verbose=0))\n",
    "cat_pipe.fit(X_train,y_train)\n",
    "cat_y_preds = cat_pipe.predict(X_valid)\n",
    "\n",
    "# Add metrics to the scoring dictionary\n",
    "model_scoring_dict.update({'CatBoost baseline':evaluate_preds(y_valid,cat_y_preds)})"
   ]
  },
  {
   "cell_type": "code",
   "execution_count": 25,
   "id": "afda9796",
   "metadata": {
    "execution": {
     "iopub.execute_input": "2024-10-24T01:19:15.076361Z",
     "iopub.status.busy": "2024-10-24T01:19:15.075602Z",
     "iopub.status.idle": "2024-10-24T01:19:44.071980Z",
     "shell.execute_reply": "2024-10-24T01:19:44.070167Z"
    },
    "papermill": {
     "duration": 29.020206,
     "end_time": "2024-10-24T01:19:44.076277",
     "exception": false,
     "start_time": "2024-10-24T01:19:15.056071",
     "status": "completed"
    },
    "tags": []
   },
   "outputs": [
    {
     "name": "stdout",
     "output_type": "stream",
     "text": [
      "accuracy: 82.00%\n",
      "precision: 0.82\n",
      "recall: 0.81\n",
      "f1: 0.82\n"
     ]
    }
   ],
   "source": [
    "# Try making a baseline for stacking classifiers RandomForestClassifier and CatBoostClassifier using LogisticRegression as the final estimator\n",
    "# Stack the models\n",
    "rf_cat_model = StackingClassifier(estimators=[\n",
    "    ('rf',RandomForestClassifier(random_state=42)),\n",
    "    ('cat',CatBoostClassifier(verbose=0,random_state=42))\n",
    "],final_estimator=LogisticRegression(),passthrough=True)\n",
    "\n",
    "# Make a pipeline based on the stacked models, then fit and predict\n",
    "rf_cat_pipe = make_pipeline(features_clean_orig,rf_cat_model)\n",
    "rf_cat_pipe.fit(X_train,y_train)\n",
    "rf_cat_y_preds = rf_cat_pipe.predict(X_valid)\n",
    "\n",
    "# Add metrics to the scoring dictionary\n",
    "model_scoring_dict.update({'RandomForest and CatBoost baseline':evaluate_preds(y_valid,rf_cat_y_preds)})"
   ]
  },
  {
   "cell_type": "code",
   "execution_count": 26,
   "id": "761f936d",
   "metadata": {
    "execution": {
     "iopub.execute_input": "2024-10-24T01:19:44.152800Z",
     "iopub.status.busy": "2024-10-24T01:19:44.150965Z",
     "iopub.status.idle": "2024-10-24T01:19:44.588979Z",
     "shell.execute_reply": "2024-10-24T01:19:44.587803Z"
    },
    "papermill": {
     "duration": 0.478508,
     "end_time": "2024-10-24T01:19:44.591825",
     "exception": false,
     "start_time": "2024-10-24T01:19:44.113317",
     "status": "completed"
    },
    "tags": []
   },
   "outputs": [
    {
     "data": {
      "text/plain": [
       "<Axes: >"
      ]
     },
     "execution_count": 26,
     "metadata": {},
     "output_type": "execute_result"
    },
    {
     "data": {
      "image/png": "[encoded data removed]",
      "text/plain": [
       "<Figure size 640x480 with 1 Axes>"
      ]
     },
     "metadata": {},
     "output_type": "display_data"
    }
   ],
   "source": [
    "# Once all is said and done, once all the testing is complete plot the metrics for each model for a last comparison\n",
    "pd.DataFrame(model_scoring_dict).plot.bar()"
   ]
  },
  {
   "cell_type": "markdown",
   "id": "e3758baa",
   "metadata": {
    "papermill": {
     "duration": 0.01771,
     "end_time": "2024-10-24T01:19:44.628447",
     "exception": false,
     "start_time": "2024-10-24T01:19:44.610737",
     "status": "completed"
    },
    "tags": []
   },
   "source": [
    "## 3. Test data prediction & Submission <a class='Anchor' id='chapter3'></a>"
   ]
  },
  {
   "cell_type": "code",
   "execution_count": 27,
   "id": "7699f1d4",
   "metadata": {
    "execution": {
     "iopub.execute_input": "2024-10-24T01:19:44.666838Z",
     "iopub.status.busy": "2024-10-24T01:19:44.666373Z",
     "iopub.status.idle": "2024-10-24T01:19:44.768505Z",
     "shell.execute_reply": "2024-10-24T01:19:44.767427Z"
    },
    "papermill": {
     "duration": 0.124579,
     "end_time": "2024-10-24T01:19:44.771211",
     "exception": false,
     "start_time": "2024-10-24T01:19:44.646632",
     "status": "completed"
    },
    "tags": []
   },
   "outputs": [],
   "source": [
    "# Read the test data\n",
    "test_data = pd.read_csv('/kaggle/input/spaceship-titanic/test.csv')\n",
    "\n",
    "# Clean and process data and make prediciotns on the test data just like how it was done for the training data\n",
    "Predictions = cat_pipe.predict(clean_df(test_data))"
   ]
  },
  {
   "cell_type": "code",
   "execution_count": 28,
   "id": "e6535f0d",
   "metadata": {
    "execution": {
     "iopub.execute_input": "2024-10-24T01:19:44.809400Z",
     "iopub.status.busy": "2024-10-24T01:19:44.808973Z",
     "iopub.status.idle": "2024-10-24T01:19:44.825044Z",
     "shell.execute_reply": "2024-10-24T01:19:44.824024Z"
    },
    "papermill": {
     "duration": 0.038162,
     "end_time": "2024-10-24T01:19:44.827514",
     "exception": false,
     "start_time": "2024-10-24T01:19:44.789352",
     "status": "completed"
    },
    "tags": []
   },
   "outputs": [],
   "source": [
    "# Build out a dataframe from the predictions that matches the submission criteria\n",
    "submission = pd.DataFrame({\n",
    "    'PassengerId':test_data['PassengerId'],\n",
    "    'Transported':Predictions.flatten()\n",
    "})\n",
    "\n",
    "# Output the submission csv to the working folder\n",
    "submission.to_csv('submission.csv',index=False)"
   ]
  },
  {
   "cell_type": "code",
   "execution_count": null,
   "id": "004fdffb",
   "metadata": {
    "papermill": {
     "duration": 0.017788,
     "end_time": "2024-10-24T01:19:44.863328",
     "exception": false,
     "start_time": "2024-10-24T01:19:44.845540",
     "status": "completed"
    },
    "tags": []
   },
   "outputs": [],
   "source": []
  }
 ],
 "metadata": {
  "kaggle": {
   "accelerator": "none",
   "dataSources": [
    {
     "databundleVersionId": 3220602,
     "sourceId": 34377,
     "sourceType": "competition"
    }
   ],
   "dockerImageVersionId": 30786,
   "isGpuEnabled": false,
   "isInternetEnabled": true,
   "language": "python",
   "sourceType": "notebook"
  },
  "kernelspec": {
   "display_name": "Python 3",
   "language": "python",
   "name": "python3"
  },
  "language_info": {
   "codemirror_mode": {
    "name": "ipython",
    "version": 3
   },
   "file_extension": ".py",
   "mimetype": "text/x-python",
   "name": "python",
   "nbconvert_exporter": "python",
   "pygments_lexer": "ipython3",
   "version": "3.10.14"
  },
  "papermill": {
   "default_parameters": {},
   "duration": 644.310706,
   "end_time": "2024-10-24T01:19:47.503821",
   "environment_variables": {},
   "exception": null,
   "input_path": "__notebook__.ipynb",
   "output_path": "__notebook__.ipynb",
   "parameters": {},
   "start_time": "2024-10-24T01:09:03.193115",
   "version": "2.6.0"
  }
 },
 "nbformat": 4,
 "nbformat_minor": 5
}
