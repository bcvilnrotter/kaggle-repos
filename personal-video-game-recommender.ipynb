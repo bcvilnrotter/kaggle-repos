{
 "cells": [
  {
   "cell_type": "code",
   "execution_count": 1,
   "id": "2a1914ec",
   "metadata": {
    "_cell_guid": "b1076dfc-b9ad-4769-8c92-a6c4dae69d19",
    "_uuid": "8f2839f25d086af736a60e9eeb907d3b93b6e0e5",
    "execution": {
     "iopub.execute_input": "2025-04-08T19:14:54.512216Z",
     "iopub.status.busy": "2025-04-08T19:14:54.511760Z",
     "iopub.status.idle": "2025-04-08T19:14:55.471912Z",
     "shell.execute_reply": "2025-04-08T19:14:55.470483Z"
    },
    "papermill": {
     "duration": 0.966348,
     "end_time": "2025-04-08T19:14:55.473646",
     "exception": false,
     "start_time": "2025-04-08T19:14:54.507298",
     "status": "completed"
    },
    "tags": []
   },
   "outputs": [
    {
     "name": "stdout",
     "output_type": "stream",
     "text": [
      "/kaggle/input/video-game-stats-04082025/Video Game Stats 11686ad8f53480e78715ebabdf6f3002_all.csv\n"
     ]
    }
   ],
   "source": [
    "# This Python 3 environment comes with many helpful analytics libraries installed\n",
    "# It is defined by the kaggle/python Docker image: https://github.com/kaggle/docker-python\n",
    "# For example, here's several helpful packages to load\n",
    "\n",
    "import numpy as np # linear algebra\n",
    "import pandas as pd # data processing, CSV file I/O (e.g. pd.read_csv)\n",
    "\n",
    "# Input data files are available in the read-only \"../input/\" directory\n",
    "# For example, running this (by clicking run or pressing Shift+Enter) will list all files under the input directory\n",
    "\n",
    "import os\n",
    "for dirname, _, filenames in os.walk('/kaggle/input'):\n",
    "    for filename in filenames:\n",
    "        print(os.path.join(dirname, filename))\n",
    "\n",
    "# You can write up to 20GB to the current directory (/kaggle/working/) that gets preserved as output when you create a version using \"Save & Run All\" \n",
    "# You can also write temporary files to /kaggle/temp/, but they won't be saved outside of the current session"
   ]
  },
  {
   "cell_type": "markdown",
   "id": "4eb7d188",
   "metadata": {
    "papermill": {
     "duration": 0.002289,
     "end_time": "2025-04-08T19:14:55.478871",
     "exception": false,
     "start_time": "2025-04-08T19:14:55.476582",
     "status": "completed"
    },
    "tags": []
   },
   "source": [
    "# Objectives\n",
    "* Ultimate goal is to build out a good predictive model for game recommender based on my personal metrics\n",
    "    * Identify patterns in the data\n",
    "    * Identify if the data can be used to build out a predictive model,\n",
    "        * If it cannot, identify recommendations to improve data predictability\n",
    "    * Once predictive model looks good,\n",
    "        * host it (huggingface)\n",
    "        * identify ways to monitor and train predictive model to keep it accurate"
   ]
  },
  {
   "cell_type": "code",
   "execution_count": 2,
   "id": "c8cf1d46",
   "metadata": {
    "execution": {
     "iopub.execute_input": "2025-04-08T19:14:55.485099Z",
     "iopub.status.busy": "2025-04-08T19:14:55.484580Z",
     "iopub.status.idle": "2025-04-08T19:14:55.551030Z",
     "shell.execute_reply": "2025-04-08T19:14:55.549882Z"
    },
    "papermill": {
     "duration": 0.07128,
     "end_time": "2025-04-08T19:14:55.552593",
     "exception": false,
     "start_time": "2025-04-08T19:14:55.481313",
     "status": "completed"
    },
    "tags": []
   },
   "outputs": [
    {
     "name": "stderr",
     "output_type": "stream",
     "text": [
      "/usr/local/lib/python3.10/dist-packages/pandas/io/formats/format.py:1458: RuntimeWarning: invalid value encountered in greater\n",
      "  has_large_values = (abs_vals > 1e6).any()\n",
      "/usr/local/lib/python3.10/dist-packages/pandas/io/formats/format.py:1459: RuntimeWarning: invalid value encountered in less\n",
      "  has_small_values = ((abs_vals < 10 ** (-self.digits)) & (abs_vals > 0)).any()\n",
      "/usr/local/lib/python3.10/dist-packages/pandas/io/formats/format.py:1459: RuntimeWarning: invalid value encountered in greater\n",
      "  has_small_values = ((abs_vals < 10 ** (-self.digits)) & (abs_vals > 0)).any()\n",
      "/usr/local/lib/python3.10/dist-packages/pandas/io/formats/format.py:1458: RuntimeWarning: invalid value encountered in greater\n",
      "  has_large_values = (abs_vals > 1e6).any()\n",
      "/usr/local/lib/python3.10/dist-packages/pandas/io/formats/format.py:1459: RuntimeWarning: invalid value encountered in less\n",
      "  has_small_values = ((abs_vals < 10 ** (-self.digits)) & (abs_vals > 0)).any()\n",
      "/usr/local/lib/python3.10/dist-packages/pandas/io/formats/format.py:1459: RuntimeWarning: invalid value encountered in greater\n",
      "  has_small_values = ((abs_vals < 10 ** (-self.digits)) & (abs_vals > 0)).any()\n"
     ]
    },
    {
     "data": {
      "text/html": [
       "<div>\n",
       "<style scoped>\n",
       "    .dataframe tbody tr th:only-of-type {\n",
       "        vertical-align: middle;\n",
       "    }\n",
       "\n",
       "    .dataframe tbody tr th {\n",
       "        vertical-align: top;\n",
       "    }\n",
       "\n",
       "    .dataframe thead th {\n",
       "        text-align: right;\n",
       "    }\n",
       "</style>\n",
       "<table border=\"1\" class=\"dataframe\">\n",
       "  <thead>\n",
       "    <tr style=\"text-align: right;\">\n",
       "      <th></th>\n",
       "      <th>Name</th>\n",
       "      <th>🎳 Raw Playtime</th>\n",
       "      <th>Playtime 2-week</th>\n",
       "      <th>appId</th>\n",
       "      <th>Event</th>\n",
       "      <th>Total playtime (hrs)</th>\n",
       "      <th>Raw Genres</th>\n",
       "      <th>Raw Categories</th>\n",
       "      <th>Raw Developers</th>\n",
       "      <th>Raw Publishers</th>\n",
       "      <th>...</th>\n",
       "      <th>playtime_deck_forever (hr)</th>\n",
       "      <th>playtime_forever</th>\n",
       "      <th>playtime_forever (hr)</th>\n",
       "      <th>playtime_linux_forever</th>\n",
       "      <th>playtime_linux_forever (hr)</th>\n",
       "      <th>playtime_mac_forever</th>\n",
       "      <th>playtime_mac_forever (hr)</th>\n",
       "      <th>playtime_windows_forever</th>\n",
       "      <th>playtime_windows_forever (hr)</th>\n",
       "      <th>price_overview_initial</th>\n",
       "    </tr>\n",
       "  </thead>\n",
       "  <tbody>\n",
       "    <tr>\n",
       "      <th>0</th>\n",
       "      <td>Another Crab's Treasure</td>\n",
       "      <td>Another Crab's Treasure (https://www.notion.so...</td>\n",
       "      <td>NaN</td>\n",
       "      <td>1887840.0</td>\n",
       "      <td>Indie Video Game Book Club - Toronto</td>\n",
       "      <td>25.61</td>\n",
       "      <td>Action, Adventure, Indie</td>\n",
       "      <td>Family Sharing, Full controller support, Singl...</td>\n",
       "      <td>Aggro Crab</td>\n",
       "      <td>Aggro Crab</td>\n",
       "      <td>...</td>\n",
       "      <td>0.0</td>\n",
       "      <td>NaN</td>\n",
       "      <td>0.0</td>\n",
       "      <td>NaN</td>\n",
       "      <td>0.0</td>\n",
       "      <td>NaN</td>\n",
       "      <td>0</td>\n",
       "      <td>NaN</td>\n",
       "      <td>0.0</td>\n",
       "      <td>2999.0</td>\n",
       "    </tr>\n",
       "  </tbody>\n",
       "</table>\n",
       "<p>1 rows × 32 columns</p>\n",
       "</div>"
      ],
      "text/plain": [
       "                      Name                                     🎳 Raw Playtime  \\\n",
       "0  Another Crab's Treasure  Another Crab's Treasure (https://www.notion.so...   \n",
       "\n",
       "  Playtime 2-week      appId                                 Event  \\\n",
       "0             NaN  1887840.0  Indie Video Game Book Club - Toronto   \n",
       "\n",
       "   Total playtime (hrs)                Raw Genres  \\\n",
       "0                 25.61  Action, Adventure, Indie   \n",
       "\n",
       "                                      Raw Categories Raw Developers  \\\n",
       "0  Family Sharing, Full controller support, Singl...     Aggro Crab   \n",
       "\n",
       "  Raw Publishers  ...  playtime_deck_forever (hr) playtime_forever  \\\n",
       "0     Aggro Crab  ...                         0.0              NaN   \n",
       "\n",
       "   playtime_forever (hr) playtime_linux_forever playtime_linux_forever (hr)  \\\n",
       "0                    0.0                    NaN                         0.0   \n",
       "\n",
       "  playtime_mac_forever  playtime_mac_forever (hr) playtime_windows_forever  \\\n",
       "0                  NaN                          0                      NaN   \n",
       "\n",
       "  playtime_windows_forever (hr) price_overview_initial  \n",
       "0                           0.0                 2999.0  \n",
       "\n",
       "[1 rows x 32 columns]"
      ]
     },
     "execution_count": 2,
     "metadata": {},
     "output_type": "execute_result"
    }
   ],
   "source": [
    "df = pd.read_csv(\"/kaggle/input/video-game-stats-04082025/Video Game Stats 11686ad8f53480e78715ebabdf6f3002_all.csv\")\n",
    "df.head(1)"
   ]
  },
  {
   "cell_type": "code",
   "execution_count": 3,
   "id": "61275a3b",
   "metadata": {
    "execution": {
     "iopub.execute_input": "2025-04-08T19:14:55.559675Z",
     "iopub.status.busy": "2025-04-08T19:14:55.559332Z",
     "iopub.status.idle": "2025-04-08T19:14:55.609236Z",
     "shell.execute_reply": "2025-04-08T19:14:55.608107Z"
    },
    "papermill": {
     "duration": 0.055514,
     "end_time": "2025-04-08T19:14:55.611134",
     "exception": false,
     "start_time": "2025-04-08T19:14:55.555620",
     "status": "completed"
    },
    "tags": []
   },
   "outputs": [
    {
     "name": "stderr",
     "output_type": "stream",
     "text": [
      "/usr/local/lib/python3.10/dist-packages/pandas/io/formats/format.py:1458: RuntimeWarning: invalid value encountered in greater\n",
      "  has_large_values = (abs_vals > 1e6).any()\n",
      "/usr/local/lib/python3.10/dist-packages/pandas/io/formats/format.py:1459: RuntimeWarning: invalid value encountered in less\n",
      "  has_small_values = ((abs_vals < 10 ** (-self.digits)) & (abs_vals > 0)).any()\n",
      "/usr/local/lib/python3.10/dist-packages/pandas/io/formats/format.py:1459: RuntimeWarning: invalid value encountered in greater\n",
      "  has_small_values = ((abs_vals < 10 ** (-self.digits)) & (abs_vals > 0)).any()\n"
     ]
    },
    {
     "data": {
      "text/html": [
       "<div>\n",
       "<style scoped>\n",
       "    .dataframe tbody tr th:only-of-type {\n",
       "        vertical-align: middle;\n",
       "    }\n",
       "\n",
       "    .dataframe tbody tr th {\n",
       "        vertical-align: top;\n",
       "    }\n",
       "\n",
       "    .dataframe thead th {\n",
       "        text-align: right;\n",
       "    }\n",
       "</style>\n",
       "<table border=\"1\" class=\"dataframe\">\n",
       "  <thead>\n",
       "    <tr style=\"text-align: right;\">\n",
       "      <th></th>\n",
       "      <th>count</th>\n",
       "      <th>mean</th>\n",
       "      <th>std</th>\n",
       "      <th>min</th>\n",
       "      <th>25%</th>\n",
       "      <th>50%</th>\n",
       "      <th>75%</th>\n",
       "      <th>max</th>\n",
       "    </tr>\n",
       "  </thead>\n",
       "  <tbody>\n",
       "    <tr>\n",
       "      <th>appId</th>\n",
       "      <td>70.0</td>\n",
       "      <td>2.072808e+06</td>\n",
       "      <td>960008.641789</td>\n",
       "      <td>620.00</td>\n",
       "      <td>1450160.00</td>\n",
       "      <td>2310260.000</td>\n",
       "      <td>2947342.500</td>\n",
       "      <td>3.481170e+06</td>\n",
       "    </tr>\n",
       "    <tr>\n",
       "      <th>Total playtime (hrs)</th>\n",
       "      <td>74.0</td>\n",
       "      <td>7.597432e+00</td>\n",
       "      <td>17.453950</td>\n",
       "      <td>0.02</td>\n",
       "      <td>0.39</td>\n",
       "      <td>1.500</td>\n",
       "      <td>7.675</td>\n",
       "      <td>1.277100e+02</td>\n",
       "    </tr>\n",
       "    <tr>\n",
       "      <th>Personal Rating (1-5)</th>\n",
       "      <td>46.0</td>\n",
       "      <td>3.336957e+00</td>\n",
       "      <td>0.603732</td>\n",
       "      <td>2.00</td>\n",
       "      <td>3.00</td>\n",
       "      <td>3.375</td>\n",
       "      <td>3.500</td>\n",
       "      <td>4.500000e+00</td>\n",
       "    </tr>\n",
       "    <tr>\n",
       "      <th>Publishers</th>\n",
       "      <td>0.0</td>\n",
       "      <td>NaN</td>\n",
       "      <td>NaN</td>\n",
       "      <td>NaN</td>\n",
       "      <td>NaN</td>\n",
       "      <td>NaN</td>\n",
       "      <td>NaN</td>\n",
       "      <td>NaN</td>\n",
       "    </tr>\n",
       "    <tr>\n",
       "      <th>Developers</th>\n",
       "      <td>0.0</td>\n",
       "      <td>NaN</td>\n",
       "      <td>NaN</td>\n",
       "      <td>NaN</td>\n",
       "      <td>NaN</td>\n",
       "      <td>NaN</td>\n",
       "      <td>NaN</td>\n",
       "      <td>NaN</td>\n",
       "    </tr>\n",
       "    <tr>\n",
       "      <th>metacritic_score</th>\n",
       "      <td>20.0</td>\n",
       "      <td>8.310000e+01</td>\n",
       "      <td>6.632456</td>\n",
       "      <td>70.00</td>\n",
       "      <td>79.75</td>\n",
       "      <td>82.000</td>\n",
       "      <td>87.500</td>\n",
       "      <td>9.600000e+01</td>\n",
       "    </tr>\n",
       "    <tr>\n",
       "      <th>playtime_deck_forever</th>\n",
       "      <td>5.0</td>\n",
       "      <td>6.868000e+02</td>\n",
       "      <td>828.216578</td>\n",
       "      <td>75.00</td>\n",
       "      <td>223.00</td>\n",
       "      <td>328.000</td>\n",
       "      <td>698.000</td>\n",
       "      <td>2.110000e+03</td>\n",
       "    </tr>\n",
       "    <tr>\n",
       "      <th>playtime_deck_forever (hr)</th>\n",
       "      <td>74.0</td>\n",
       "      <td>7.734234e-01</td>\n",
       "      <td>4.336882</td>\n",
       "      <td>0.00</td>\n",
       "      <td>0.00</td>\n",
       "      <td>0.000</td>\n",
       "      <td>0.000</td>\n",
       "      <td>3.516667e+01</td>\n",
       "    </tr>\n",
       "    <tr>\n",
       "      <th>playtime_forever</th>\n",
       "      <td>14.0</td>\n",
       "      <td>1.640071e+03</td>\n",
       "      <td>2566.864698</td>\n",
       "      <td>2.00</td>\n",
       "      <td>62.25</td>\n",
       "      <td>385.000</td>\n",
       "      <td>1958.500</td>\n",
       "      <td>7.840000e+03</td>\n",
       "    </tr>\n",
       "    <tr>\n",
       "      <th>playtime_forever (hr)</th>\n",
       "      <td>74.0</td>\n",
       "      <td>5.171396e+00</td>\n",
       "      <td>21.026509</td>\n",
       "      <td>0.00</td>\n",
       "      <td>0.00</td>\n",
       "      <td>0.000</td>\n",
       "      <td>0.000</td>\n",
       "      <td>1.306667e+02</td>\n",
       "    </tr>\n",
       "    <tr>\n",
       "      <th>playtime_linux_forever</th>\n",
       "      <td>5.0</td>\n",
       "      <td>6.868000e+02</td>\n",
       "      <td>828.216578</td>\n",
       "      <td>75.00</td>\n",
       "      <td>223.00</td>\n",
       "      <td>328.000</td>\n",
       "      <td>698.000</td>\n",
       "      <td>2.110000e+03</td>\n",
       "    </tr>\n",
       "    <tr>\n",
       "      <th>playtime_linux_forever (hr)</th>\n",
       "      <td>74.0</td>\n",
       "      <td>7.734234e-01</td>\n",
       "      <td>4.336882</td>\n",
       "      <td>0.00</td>\n",
       "      <td>0.00</td>\n",
       "      <td>0.000</td>\n",
       "      <td>0.000</td>\n",
       "      <td>3.516667e+01</td>\n",
       "    </tr>\n",
       "    <tr>\n",
       "      <th>playtime_mac_forever</th>\n",
       "      <td>0.0</td>\n",
       "      <td>NaN</td>\n",
       "      <td>NaN</td>\n",
       "      <td>NaN</td>\n",
       "      <td>NaN</td>\n",
       "      <td>NaN</td>\n",
       "      <td>NaN</td>\n",
       "      <td>NaN</td>\n",
       "    </tr>\n",
       "    <tr>\n",
       "      <th>playtime_mac_forever (hr)</th>\n",
       "      <td>74.0</td>\n",
       "      <td>0.000000e+00</td>\n",
       "      <td>0.000000</td>\n",
       "      <td>0.00</td>\n",
       "      <td>0.00</td>\n",
       "      <td>0.000</td>\n",
       "      <td>0.000</td>\n",
       "      <td>0.000000e+00</td>\n",
       "    </tr>\n",
       "    <tr>\n",
       "      <th>playtime_windows_forever</th>\n",
       "      <td>12.0</td>\n",
       "      <td>1.280500e+03</td>\n",
       "      <td>2410.143583</td>\n",
       "      <td>1.00</td>\n",
       "      <td>10.25</td>\n",
       "      <td>101.000</td>\n",
       "      <td>1108.750</td>\n",
       "      <td>7.840000e+03</td>\n",
       "    </tr>\n",
       "    <tr>\n",
       "      <th>playtime_windows_forever (hr)</th>\n",
       "      <td>74.0</td>\n",
       "      <td>3.460811e+00</td>\n",
       "      <td>17.489086</td>\n",
       "      <td>0.00</td>\n",
       "      <td>0.00</td>\n",
       "      <td>0.000</td>\n",
       "      <td>0.000</td>\n",
       "      <td>1.306667e+02</td>\n",
       "    </tr>\n",
       "    <tr>\n",
       "      <th>price_overview_initial</th>\n",
       "      <td>40.0</td>\n",
       "      <td>2.437750e+03</td>\n",
       "      <td>1316.974364</td>\n",
       "      <td>499.00</td>\n",
       "      <td>1574.00</td>\n",
       "      <td>1999.000</td>\n",
       "      <td>2999.000</td>\n",
       "      <td>5.999000e+03</td>\n",
       "    </tr>\n",
       "  </tbody>\n",
       "</table>\n",
       "</div>"
      ],
      "text/plain": [
       "                               count          mean            std     min  \\\n",
       "appId                           70.0  2.072808e+06  960008.641789  620.00   \n",
       "Total playtime (hrs)            74.0  7.597432e+00      17.453950    0.02   \n",
       "Personal Rating (1-5)           46.0  3.336957e+00       0.603732    2.00   \n",
       "Publishers                       0.0           NaN            NaN     NaN   \n",
       "Developers                       0.0           NaN            NaN     NaN   \n",
       "metacritic_score                20.0  8.310000e+01       6.632456   70.00   \n",
       "playtime_deck_forever            5.0  6.868000e+02     828.216578   75.00   \n",
       "playtime_deck_forever (hr)      74.0  7.734234e-01       4.336882    0.00   \n",
       "playtime_forever                14.0  1.640071e+03    2566.864698    2.00   \n",
       "playtime_forever (hr)           74.0  5.171396e+00      21.026509    0.00   \n",
       "playtime_linux_forever           5.0  6.868000e+02     828.216578   75.00   \n",
       "playtime_linux_forever (hr)     74.0  7.734234e-01       4.336882    0.00   \n",
       "playtime_mac_forever             0.0           NaN            NaN     NaN   \n",
       "playtime_mac_forever (hr)       74.0  0.000000e+00       0.000000    0.00   \n",
       "playtime_windows_forever        12.0  1.280500e+03    2410.143583    1.00   \n",
       "playtime_windows_forever (hr)   74.0  3.460811e+00      17.489086    0.00   \n",
       "price_overview_initial          40.0  2.437750e+03    1316.974364  499.00   \n",
       "\n",
       "                                      25%          50%          75%  \\\n",
       "appId                          1450160.00  2310260.000  2947342.500   \n",
       "Total playtime (hrs)                 0.39        1.500        7.675   \n",
       "Personal Rating (1-5)                3.00        3.375        3.500   \n",
       "Publishers                            NaN          NaN          NaN   \n",
       "Developers                            NaN          NaN          NaN   \n",
       "metacritic_score                    79.75       82.000       87.500   \n",
       "playtime_deck_forever              223.00      328.000      698.000   \n",
       "playtime_deck_forever (hr)           0.00        0.000        0.000   \n",
       "playtime_forever                    62.25      385.000     1958.500   \n",
       "playtime_forever (hr)                0.00        0.000        0.000   \n",
       "playtime_linux_forever             223.00      328.000      698.000   \n",
       "playtime_linux_forever (hr)          0.00        0.000        0.000   \n",
       "playtime_mac_forever                  NaN          NaN          NaN   \n",
       "playtime_mac_forever (hr)            0.00        0.000        0.000   \n",
       "playtime_windows_forever            10.25      101.000     1108.750   \n",
       "playtime_windows_forever (hr)        0.00        0.000        0.000   \n",
       "price_overview_initial            1574.00     1999.000     2999.000   \n",
       "\n",
       "                                        max  \n",
       "appId                          3.481170e+06  \n",
       "Total playtime (hrs)           1.277100e+02  \n",
       "Personal Rating (1-5)          4.500000e+00  \n",
       "Publishers                              NaN  \n",
       "Developers                              NaN  \n",
       "metacritic_score               9.600000e+01  \n",
       "playtime_deck_forever          2.110000e+03  \n",
       "playtime_deck_forever (hr)     3.516667e+01  \n",
       "playtime_forever               7.840000e+03  \n",
       "playtime_forever (hr)          1.306667e+02  \n",
       "playtime_linux_forever         2.110000e+03  \n",
       "playtime_linux_forever (hr)    3.516667e+01  \n",
       "playtime_mac_forever                    NaN  \n",
       "playtime_mac_forever (hr)      0.000000e+00  \n",
       "playtime_windows_forever       7.840000e+03  \n",
       "playtime_windows_forever (hr)  1.306667e+02  \n",
       "price_overview_initial         5.999000e+03  "
      ]
     },
     "execution_count": 3,
     "metadata": {},
     "output_type": "execute_result"
    }
   ],
   "source": [
    "df.describe().T"
   ]
  },
  {
   "cell_type": "code",
   "execution_count": 4,
   "id": "b1a58578",
   "metadata": {
    "execution": {
     "iopub.execute_input": "2025-04-08T19:14:55.619008Z",
     "iopub.status.busy": "2025-04-08T19:14:55.618668Z",
     "iopub.status.idle": "2025-04-08T19:14:57.350307Z",
     "shell.execute_reply": "2025-04-08T19:14:57.349268Z"
    },
    "papermill": {
     "duration": 1.737586,
     "end_time": "2025-04-08T19:14:57.352105",
     "exception": false,
     "start_time": "2025-04-08T19:14:55.614519",
     "status": "completed"
    },
    "tags": []
   },
   "outputs": [],
   "source": [
    "import seaborn as sns\n",
    "import matplotlib.pyplot as plt"
   ]
  },
  {
   "cell_type": "code",
   "execution_count": 5,
   "id": "1e0ae744",
   "metadata": {
    "execution": {
     "iopub.execute_input": "2025-04-08T19:14:57.360289Z",
     "iopub.status.busy": "2025-04-08T19:14:57.359784Z",
     "iopub.status.idle": "2025-04-08T19:14:57.867366Z",
     "shell.execute_reply": "2025-04-08T19:14:57.866241Z"
    },
    "papermill": {
     "duration": 0.513883,
     "end_time": "2025-04-08T19:14:57.869453",
     "exception": false,
     "start_time": "2025-04-08T19:14:57.355570",
     "status": "completed"
    },
    "tags": []
   },
   "outputs": [
    {
     "name": "stderr",
     "output_type": "stream",
     "text": [
      "/usr/local/lib/python3.10/dist-packages/matplotlib/colors.py:721: RuntimeWarning: invalid value encountered in less\n",
      "  xa[xa < 0] = -1\n"
     ]
    },
    {
     "data": {
      "text/plain": [
       "<Axes: >"
      ]
     },
     "execution_count": 5,
     "metadata": {},
     "output_type": "execute_result"
    },
    {
     "data": {
      "image/png": "[encoded data removed]",
      "text/plain": [
       "<Figure size 640x480 with 2 Axes>"
      ]
     },
     "metadata": {},
     "output_type": "display_data"
    }
   ],
   "source": [
    "sns.heatmap(\n",
    "    df.corr(numeric_only=True)[['Personal Rating (1-5)']].sort_values(by='Personal Rating (1-5)',ascending=False),\n",
    "    annot=True\n",
    ")"
   ]
  },
  {
   "cell_type": "markdown",
   "id": "cc8810b7",
   "metadata": {
    "papermill": {
     "duration": 0.004775,
     "end_time": "2025-04-08T19:14:57.880352",
     "exception": false,
     "start_time": "2025-04-08T19:14:57.875577",
     "status": "completed"
    },
    "tags": []
   },
   "source": [
    "It appears that the highest correlation for numeric features looks to be associated with SteamDeck usage."
   ]
  },
  {
   "cell_type": "code",
   "execution_count": null,
   "id": "7f6217b3",
   "metadata": {
    "papermill": {
     "duration": 0.004651,
     "end_time": "2025-04-08T19:14:57.889917",
     "exception": false,
     "start_time": "2025-04-08T19:14:57.885266",
     "status": "completed"
    },
    "tags": []
   },
   "outputs": [],
   "source": []
  }
 ],
 "metadata": {
  "kaggle": {
   "accelerator": "none",
   "dataSources": [
    {
     "datasetId": 7086425,
     "sourceId": 11328531,
     "sourceType": "datasetVersion"
    }
   ],
   "dockerImageVersionId": 30918,
   "isGpuEnabled": false,
   "isInternetEnabled": true,
   "language": "python",
   "sourceType": "notebook"
  },
  "kernelspec": {
   "display_name": "Python 3",
   "language": "python",
   "name": "python3"
  },
  "language_info": {
   "codemirror_mode": {
    "name": "ipython",
    "version": 3
   },
   "file_extension": ".py",
   "mimetype": "text/x-python",
   "name": "python",
   "nbconvert_exporter": "python",
   "pygments_lexer": "ipython3",
   "version": "3.10.12"
  },
  "papermill": {
   "default_parameters": {},
   "duration": 6.966885,
   "end_time": "2025-04-08T19:14:58.615200",
   "environment_variables": {},
   "exception": null,
   "input_path": "__notebook__.ipynb",
   "output_path": "__notebook__.ipynb",
   "parameters": {},
   "start_time": "2025-04-08T19:14:51.648315",
   "version": "2.6.0"
  }
 },
 "nbformat": 4,
 "nbformat_minor": 5
}
