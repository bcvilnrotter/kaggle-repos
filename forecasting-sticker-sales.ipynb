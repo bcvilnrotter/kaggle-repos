{
 "cells": [
  {
   "cell_type": "code",
   "execution_count": 1,
   "id": "8f5894dd",
   "metadata": {
    "_cell_guid": "b1076dfc-b9ad-4769-8c92-a6c4dae69d19",
    "_uuid": "8f2839f25d086af736a60e9eeb907d3b93b6e0e5",
    "execution": {
     "iopub.execute_input": "2025-01-19T18:22:37.587945Z",
     "iopub.status.busy": "2025-01-19T18:22:37.587448Z",
     "iopub.status.idle": "2025-01-19T18:22:38.562702Z",
     "shell.execute_reply": "2025-01-19T18:22:38.561397Z"
    },
    "papermill": {
     "duration": 0.986359,
     "end_time": "2025-01-19T18:22:38.565004",
     "exception": false,
     "start_time": "2025-01-19T18:22:37.578645",
     "status": "completed"
    },
    "tags": []
   },
   "outputs": [
    {
     "name": "stdout",
     "output_type": "stream",
     "text": [
      "/kaggle/input/playground-series-s5e1/sample_submission.csv\n",
      "/kaggle/input/playground-series-s5e1/train.csv\n",
      "/kaggle/input/playground-series-s5e1/test.csv\n"
     ]
    }
   ],
   "source": [
    "# This Python 3 environment comes with many helpful analytics libraries installed\n",
    "# It is defined by the kaggle/python Docker image: https://github.com/kaggle/docker-python\n",
    "# For example, here's several helpful packages to load\n",
    "\n",
    "import numpy as np # linear algebra\n",
    "import pandas as pd # data processing, CSV file I/O (e.g. pd.read_csv)\n",
    "\n",
    "# Input data files are available in the read-only \"../input/\" directory\n",
    "# For example, running this (by clicking run or pressing Shift+Enter) will list all files under the input directory\n",
    "\n",
    "import os\n",
    "for dirname, _, filenames in os.walk('/kaggle/input'):\n",
    "    for filename in filenames:\n",
    "        print(os.path.join(dirname, filename))\n",
    "\n",
    "# You can write up to 20GB to the current directory (/kaggle/working/) that gets preserved as output when you create a version using \"Save & Run All\" \n",
    "# You can also write temporary files to /kaggle/temp/, but they won't be saved outside of the current session"
   ]
  },
  {
   "cell_type": "code",
   "execution_count": 2,
   "id": "f732c098",
   "metadata": {
    "execution": {
     "iopub.execute_input": "2025-01-19T18:22:38.578317Z",
     "iopub.status.busy": "2025-01-19T18:22:38.577854Z",
     "iopub.status.idle": "2025-01-19T18:22:38.582057Z",
     "shell.execute_reply": "2025-01-19T18:22:38.580964Z"
    },
    "papermill": {
     "duration": 0.0125,
     "end_time": "2025-01-19T18:22:38.583737",
     "exception": false,
     "start_time": "2025-01-19T18:22:38.571237",
     "status": "completed"
    },
    "tags": []
   },
   "outputs": [],
   "source": [
    "np.random.seed(42)"
   ]
  },
  {
   "cell_type": "markdown",
   "id": "163b8dea",
   "metadata": {
    "papermill": {
     "duration": 0.00528,
     "end_time": "2025-01-19T18:22:38.594931",
     "exception": false,
     "start_time": "2025-01-19T18:22:38.589651",
     "status": "completed"
    },
    "tags": []
   },
   "source": [
    "# Table of Contents\n",
    "\n",
    "* [0. Data Collection & Feature Definitions](#chapter0)\n",
    "    * [0.1 Initial Descriptions & Metrics of Data](#chapter0_1)\n",
    "    * [0.2 Initial Observations of Features](#chapter0_2)\n",
    "* [1. Initial Predictions & Model Testing](#chapter1)\n",
    "    * [1.1 Build Lists for Features](#chapter1_1)\n",
    "    * [1.2 Build out Initial Functions to Fit and Score Models](#chapter1_2)"
   ]
  },
  {
   "cell_type": "markdown",
   "id": "bf72ec38",
   "metadata": {
    "papermill": {
     "duration": 0.005168,
     "end_time": "2025-01-19T18:22:38.605694",
     "exception": false,
     "start_time": "2025-01-19T18:22:38.600526",
     "status": "completed"
    },
    "tags": []
   },
   "source": [
    "## 0. Data Collection & Feature Definitions <a class=\"anchor\" id=\"chapter0\"></a>"
   ]
  },
  {
   "cell_type": "markdown",
   "id": "795b55cd",
   "metadata": {
    "papermill": {
     "duration": 0.005228,
     "end_time": "2025-01-19T18:22:38.616363",
     "exception": false,
     "start_time": "2025-01-19T18:22:38.611135",
     "status": "completed"
    },
    "tags": []
   },
   "source": [
    "|Columns|Definition|\n",
    "|----------|----------|\n",
    "|id|Unique Identifier|\n",
    "|date|Date string in YYYY-MM-DD format|\n",
    "|country|String of countries|\n",
    "|store|String of store names|\n",
    "|product|String Product name being bought|\n",
    "|num_sold|Number values for the count of product sold|"
   ]
  },
  {
   "cell_type": "markdown",
   "id": "8afa2f95",
   "metadata": {
    "papermill": {
     "duration": 0.005294,
     "end_time": "2025-01-19T18:22:38.627221",
     "exception": false,
     "start_time": "2025-01-19T18:22:38.621927",
     "status": "completed"
    },
    "tags": []
   },
   "source": [
    "### 0.1 Initial Descriptions & Metrics of Data <a class=\"anchor\" id=\"chapter0_1\"></a>"
   ]
  },
  {
   "cell_type": "code",
   "execution_count": 3,
   "id": "d97263a1",
   "metadata": {
    "execution": {
     "iopub.execute_input": "2025-01-19T18:22:38.639754Z",
     "iopub.status.busy": "2025-01-19T18:22:38.639366Z",
     "iopub.status.idle": "2025-01-19T18:22:39.087766Z",
     "shell.execute_reply": "2025-01-19T18:22:39.086497Z"
    },
    "papermill": {
     "duration": 0.456817,
     "end_time": "2025-01-19T18:22:39.089682",
     "exception": false,
     "start_time": "2025-01-19T18:22:38.632865",
     "status": "completed"
    },
    "tags": []
   },
   "outputs": [
    {
     "data": {
      "text/html": [
       "<div>\n",
       "<style scoped>\n",
       "    .dataframe tbody tr th:only-of-type {\n",
       "        vertical-align: middle;\n",
       "    }\n",
       "\n",
       "    .dataframe tbody tr th {\n",
       "        vertical-align: top;\n",
       "    }\n",
       "\n",
       "    .dataframe thead th {\n",
       "        text-align: right;\n",
       "    }\n",
       "</style>\n",
       "<table border=\"1\" class=\"dataframe\">\n",
       "  <thead>\n",
       "    <tr style=\"text-align: right;\">\n",
       "      <th></th>\n",
       "      <th>count</th>\n",
       "      <th>mean</th>\n",
       "      <th>std</th>\n",
       "      <th>min</th>\n",
       "      <th>25%</th>\n",
       "      <th>50%</th>\n",
       "      <th>75%</th>\n",
       "      <th>max</th>\n",
       "    </tr>\n",
       "  </thead>\n",
       "  <tbody>\n",
       "    <tr>\n",
       "      <th>id</th>\n",
       "      <td>230130.0</td>\n",
       "      <td>115064.500000</td>\n",
       "      <td>66432.953062</td>\n",
       "      <td>0.0</td>\n",
       "      <td>57532.25</td>\n",
       "      <td>115064.5</td>\n",
       "      <td>172596.75</td>\n",
       "      <td>230129.0</td>\n",
       "    </tr>\n",
       "    <tr>\n",
       "      <th>num_sold</th>\n",
       "      <td>221259.0</td>\n",
       "      <td>752.527382</td>\n",
       "      <td>690.165445</td>\n",
       "      <td>5.0</td>\n",
       "      <td>219.00</td>\n",
       "      <td>605.0</td>\n",
       "      <td>1114.00</td>\n",
       "      <td>5939.0</td>\n",
       "    </tr>\n",
       "  </tbody>\n",
       "</table>\n",
       "</div>"
      ],
      "text/plain": [
       "             count           mean           std  min       25%       50%  \\\n",
       "id        230130.0  115064.500000  66432.953062  0.0  57532.25  115064.5   \n",
       "num_sold  221259.0     752.527382    690.165445  5.0    219.00     605.0   \n",
       "\n",
       "                75%       max  \n",
       "id        172596.75  230129.0  \n",
       "num_sold    1114.00    5939.0  "
      ]
     },
     "execution_count": 3,
     "metadata": {},
     "output_type": "execute_result"
    }
   ],
   "source": [
    "df = pd.read_csv('/kaggle/input/playground-series-s5e1/train.csv')\n",
    "df.describe().T"
   ]
  },
  {
   "cell_type": "code",
   "execution_count": 4,
   "id": "8d8b3369",
   "metadata": {
    "execution": {
     "iopub.execute_input": "2025-01-19T18:22:39.103660Z",
     "iopub.status.busy": "2025-01-19T18:22:39.103246Z",
     "iopub.status.idle": "2025-01-19T18:22:39.118619Z",
     "shell.execute_reply": "2025-01-19T18:22:39.117315Z"
    },
    "papermill": {
     "duration": 0.024059,
     "end_time": "2025-01-19T18:22:39.120319",
     "exception": false,
     "start_time": "2025-01-19T18:22:39.096260",
     "status": "completed"
    },
    "tags": []
   },
   "outputs": [
    {
     "name": "stderr",
     "output_type": "stream",
     "text": [
      "/usr/local/lib/python3.10/dist-packages/pandas/io/formats/format.py:1458: RuntimeWarning: invalid value encountered in greater\n",
      "  has_large_values = (abs_vals > 1e6).any()\n",
      "/usr/local/lib/python3.10/dist-packages/pandas/io/formats/format.py:1459: RuntimeWarning: invalid value encountered in less\n",
      "  has_small_values = ((abs_vals < 10 ** (-self.digits)) & (abs_vals > 0)).any()\n",
      "/usr/local/lib/python3.10/dist-packages/pandas/io/formats/format.py:1459: RuntimeWarning: invalid value encountered in greater\n",
      "  has_small_values = ((abs_vals < 10 ** (-self.digits)) & (abs_vals > 0)).any()\n"
     ]
    },
    {
     "data": {
      "text/html": [
       "<div>\n",
       "<style scoped>\n",
       "    .dataframe tbody tr th:only-of-type {\n",
       "        vertical-align: middle;\n",
       "    }\n",
       "\n",
       "    .dataframe tbody tr th {\n",
       "        vertical-align: top;\n",
       "    }\n",
       "\n",
       "    .dataframe thead th {\n",
       "        text-align: right;\n",
       "    }\n",
       "</style>\n",
       "<table border=\"1\" class=\"dataframe\">\n",
       "  <thead>\n",
       "    <tr style=\"text-align: right;\">\n",
       "      <th></th>\n",
       "      <th>id</th>\n",
       "      <th>date</th>\n",
       "      <th>country</th>\n",
       "      <th>store</th>\n",
       "      <th>product</th>\n",
       "      <th>num_sold</th>\n",
       "    </tr>\n",
       "  </thead>\n",
       "  <tbody>\n",
       "    <tr>\n",
       "      <th>0</th>\n",
       "      <td>0</td>\n",
       "      <td>2010-01-01</td>\n",
       "      <td>Canada</td>\n",
       "      <td>Discount Stickers</td>\n",
       "      <td>Holographic Goose</td>\n",
       "      <td>NaN</td>\n",
       "    </tr>\n",
       "    <tr>\n",
       "      <th>1</th>\n",
       "      <td>1</td>\n",
       "      <td>2010-01-01</td>\n",
       "      <td>Canada</td>\n",
       "      <td>Discount Stickers</td>\n",
       "      <td>Kaggle</td>\n",
       "      <td>973.0</td>\n",
       "    </tr>\n",
       "    <tr>\n",
       "      <th>2</th>\n",
       "      <td>2</td>\n",
       "      <td>2010-01-01</td>\n",
       "      <td>Canada</td>\n",
       "      <td>Discount Stickers</td>\n",
       "      <td>Kaggle Tiers</td>\n",
       "      <td>906.0</td>\n",
       "    </tr>\n",
       "    <tr>\n",
       "      <th>3</th>\n",
       "      <td>3</td>\n",
       "      <td>2010-01-01</td>\n",
       "      <td>Canada</td>\n",
       "      <td>Discount Stickers</td>\n",
       "      <td>Kerneler</td>\n",
       "      <td>423.0</td>\n",
       "    </tr>\n",
       "    <tr>\n",
       "      <th>4</th>\n",
       "      <td>4</td>\n",
       "      <td>2010-01-01</td>\n",
       "      <td>Canada</td>\n",
       "      <td>Discount Stickers</td>\n",
       "      <td>Kerneler Dark Mode</td>\n",
       "      <td>491.0</td>\n",
       "    </tr>\n",
       "  </tbody>\n",
       "</table>\n",
       "</div>"
      ],
      "text/plain": [
       "   id        date country              store             product  num_sold\n",
       "0   0  2010-01-01  Canada  Discount Stickers   Holographic Goose       NaN\n",
       "1   1  2010-01-01  Canada  Discount Stickers              Kaggle     973.0\n",
       "2   2  2010-01-01  Canada  Discount Stickers        Kaggle Tiers     906.0\n",
       "3   3  2010-01-01  Canada  Discount Stickers            Kerneler     423.0\n",
       "4   4  2010-01-01  Canada  Discount Stickers  Kerneler Dark Mode     491.0"
      ]
     },
     "execution_count": 4,
     "metadata": {},
     "output_type": "execute_result"
    }
   ],
   "source": [
    "df.head()"
   ]
  },
  {
   "cell_type": "markdown",
   "id": "ed964d25",
   "metadata": {
    "papermill": {
     "duration": 0.006577,
     "end_time": "2025-01-19T18:22:39.133592",
     "exception": false,
     "start_time": "2025-01-19T18:22:39.127015",
     "status": "completed"
    },
    "tags": []
   },
   "source": [
    "The above shows that the majority of the columns used for analysis is categorical functions."
   ]
  },
  {
   "cell_type": "code",
   "execution_count": 5,
   "id": "c31a3dfb",
   "metadata": {
    "execution": {
     "iopub.execute_input": "2025-01-19T18:22:39.147390Z",
     "iopub.status.busy": "2025-01-19T18:22:39.146979Z",
     "iopub.status.idle": "2025-01-19T18:22:39.331210Z",
     "shell.execute_reply": "2025-01-19T18:22:39.329997Z"
    },
    "papermill": {
     "duration": 0.193303,
     "end_time": "2025-01-19T18:22:39.333155",
     "exception": false,
     "start_time": "2025-01-19T18:22:39.139852",
     "status": "completed"
    },
    "tags": []
   },
   "outputs": [
    {
     "name": "stdout",
     "output_type": "stream",
     "text": [
      "         Data Type  Missing Values  Unique Values\n",
      "id           int64               0         230130\n",
      "date           str               0           2557\n",
      "country        str               0              6\n",
      "store          str               0              3\n",
      "product        str               0              5\n",
      "num_sold   float64            8871           4037\n"
     ]
    }
   ],
   "source": [
    "def get_inferred_type(column):\n",
    "    if pd.api.types.is_object_dtype(column):\n",
    "        sample_value = column.dropna().iloc[0]\n",
    "        return type(sample_value).__name__\n",
    "    else:\n",
    "        return column.dtype\n",
    "\n",
    "def comparison_table(df):\n",
    "    return pd.DataFrame({\n",
    "        'Data Type':df.apply(get_inferred_type),\n",
    "        'Missing Values':df.isna().sum(),\n",
    "        'Unique Values':df.nunique()\n",
    "    })\n",
    "\n",
    "comp_table = comparison_table(df) # the variable will be used later\n",
    "\n",
    "with pd.option_context('display.max_rows',None,'display.max_columns',None):\n",
    "    print(comp_table)"
   ]
  },
  {
   "cell_type": "code",
   "execution_count": 6,
   "id": "3e9edc6c",
   "metadata": {
    "execution": {
     "iopub.execute_input": "2025-01-19T18:22:39.347142Z",
     "iopub.status.busy": "2025-01-19T18:22:39.346767Z",
     "iopub.status.idle": "2025-01-19T18:22:39.352612Z",
     "shell.execute_reply": "2025-01-19T18:22:39.351544Z"
    },
    "papermill": {
     "duration": 0.01446,
     "end_time": "2025-01-19T18:22:39.354088",
     "exception": false,
     "start_time": "2025-01-19T18:22:39.339628",
     "status": "completed"
    },
    "tags": []
   },
   "outputs": [
    {
     "data": {
      "text/plain": [
       "230130"
      ]
     },
     "execution_count": 6,
     "metadata": {},
     "output_type": "execute_result"
    }
   ],
   "source": [
    "len(df)"
   ]
  },
  {
   "cell_type": "markdown",
   "id": "907b3fcb",
   "metadata": {
    "papermill": {
     "duration": 0.006133,
     "end_time": "2025-01-19T18:22:39.366499",
     "exception": false,
     "start_time": "2025-01-19T18:22:39.360366",
     "status": "completed"
    },
    "tags": []
   },
   "source": [
    "the main label `num_sold` is the only column that have missing values, which means it would probably be better to just remove the data from the dataset as without label data the rows will not have any benefit for training. Since the training data has 230,130 rows of data, removing 8,871 rows (less than 10% of the total number) the training data should not be impacted too badly."
   ]
  },
  {
   "cell_type": "code",
   "execution_count": 7,
   "id": "77ef4284",
   "metadata": {
    "execution": {
     "iopub.execute_input": "2025-01-19T18:22:39.380328Z",
     "iopub.status.busy": "2025-01-19T18:22:39.379961Z",
     "iopub.status.idle": "2025-01-19T18:22:39.567725Z",
     "shell.execute_reply": "2025-01-19T18:22:39.566674Z"
    },
    "papermill": {
     "duration": 0.196824,
     "end_time": "2025-01-19T18:22:39.569570",
     "exception": false,
     "start_time": "2025-01-19T18:22:39.372746",
     "status": "completed"
    },
    "tags": []
   },
   "outputs": [
    {
     "data": {
      "text/html": [
       "<div>\n",
       "<style scoped>\n",
       "    .dataframe tbody tr th:only-of-type {\n",
       "        vertical-align: middle;\n",
       "    }\n",
       "\n",
       "    .dataframe tbody tr th {\n",
       "        vertical-align: top;\n",
       "    }\n",
       "\n",
       "    .dataframe thead th {\n",
       "        text-align: right;\n",
       "    }\n",
       "</style>\n",
       "<table border=\"1\" class=\"dataframe\">\n",
       "  <thead>\n",
       "    <tr style=\"text-align: right;\">\n",
       "      <th></th>\n",
       "      <th>Data Type</th>\n",
       "      <th>Missing Values</th>\n",
       "      <th>Unique Values</th>\n",
       "    </tr>\n",
       "  </thead>\n",
       "  <tbody>\n",
       "    <tr>\n",
       "      <th>id</th>\n",
       "      <td>int64</td>\n",
       "      <td>0</td>\n",
       "      <td>221259</td>\n",
       "    </tr>\n",
       "    <tr>\n",
       "      <th>date</th>\n",
       "      <td>str</td>\n",
       "      <td>0</td>\n",
       "      <td>2557</td>\n",
       "    </tr>\n",
       "    <tr>\n",
       "      <th>country</th>\n",
       "      <td>str</td>\n",
       "      <td>0</td>\n",
       "      <td>6</td>\n",
       "    </tr>\n",
       "    <tr>\n",
       "      <th>store</th>\n",
       "      <td>str</td>\n",
       "      <td>0</td>\n",
       "      <td>3</td>\n",
       "    </tr>\n",
       "    <tr>\n",
       "      <th>product</th>\n",
       "      <td>str</td>\n",
       "      <td>0</td>\n",
       "      <td>5</td>\n",
       "    </tr>\n",
       "    <tr>\n",
       "      <th>num_sold</th>\n",
       "      <td>float64</td>\n",
       "      <td>0</td>\n",
       "      <td>4037</td>\n",
       "    </tr>\n",
       "  </tbody>\n",
       "</table>\n",
       "</div>"
      ],
      "text/plain": [
       "         Data Type  Missing Values  Unique Values\n",
       "id           int64               0         221259\n",
       "date           str               0           2557\n",
       "country        str               0              6\n",
       "store          str               0              3\n",
       "product        str               0              5\n",
       "num_sold   float64               0           4037"
      ]
     },
     "execution_count": 7,
     "metadata": {},
     "output_type": "execute_result"
    }
   ],
   "source": [
    "df = df.dropna(subset=['num_sold'])\n",
    "comp_table = comparison_table(df)\n",
    "comp_table"
   ]
  },
  {
   "cell_type": "markdown",
   "id": "53838eb5",
   "metadata": {
    "papermill": {
     "duration": 0.006272,
     "end_time": "2025-01-19T18:22:39.582553",
     "exception": false,
     "start_time": "2025-01-19T18:22:39.576281",
     "status": "completed"
    },
    "tags": []
   },
   "source": [
    "Also, it is important to recognize that there is a date variable that needs to be split up by year, month, and date to get more representative data."
   ]
  },
  {
   "cell_type": "code",
   "execution_count": 8,
   "id": "8c3dd124",
   "metadata": {
    "execution": {
     "iopub.execute_input": "2025-01-19T18:22:39.596723Z",
     "iopub.status.busy": "2025-01-19T18:22:39.596319Z",
     "iopub.status.idle": "2025-01-19T18:22:40.539754Z",
     "shell.execute_reply": "2025-01-19T18:22:40.538589Z"
    },
    "papermill": {
     "duration": 0.953026,
     "end_time": "2025-01-19T18:22:40.541923",
     "exception": false,
     "start_time": "2025-01-19T18:22:39.588897",
     "status": "completed"
    },
    "tags": []
   },
   "outputs": [
    {
     "data": {
      "text/html": [
       "<div>\n",
       "<style scoped>\n",
       "    .dataframe tbody tr th:only-of-type {\n",
       "        vertical-align: middle;\n",
       "    }\n",
       "\n",
       "    .dataframe tbody tr th {\n",
       "        vertical-align: top;\n",
       "    }\n",
       "\n",
       "    .dataframe thead th {\n",
       "        text-align: right;\n",
       "    }\n",
       "</style>\n",
       "<table border=\"1\" class=\"dataframe\">\n",
       "  <thead>\n",
       "    <tr style=\"text-align: right;\">\n",
       "      <th></th>\n",
       "      <th>Data Type</th>\n",
       "      <th>Missing Values</th>\n",
       "      <th>Unique Values</th>\n",
       "    </tr>\n",
       "  </thead>\n",
       "  <tbody>\n",
       "    <tr>\n",
       "      <th>id</th>\n",
       "      <td>int64</td>\n",
       "      <td>0</td>\n",
       "      <td>221259</td>\n",
       "    </tr>\n",
       "    <tr>\n",
       "      <th>country</th>\n",
       "      <td>str</td>\n",
       "      <td>0</td>\n",
       "      <td>6</td>\n",
       "    </tr>\n",
       "    <tr>\n",
       "      <th>store</th>\n",
       "      <td>str</td>\n",
       "      <td>0</td>\n",
       "      <td>3</td>\n",
       "    </tr>\n",
       "    <tr>\n",
       "      <th>product</th>\n",
       "      <td>str</td>\n",
       "      <td>0</td>\n",
       "      <td>5</td>\n",
       "    </tr>\n",
       "    <tr>\n",
       "      <th>num_sold</th>\n",
       "      <td>float64</td>\n",
       "      <td>0</td>\n",
       "      <td>4037</td>\n",
       "    </tr>\n",
       "    <tr>\n",
       "      <th>Year</th>\n",
       "      <td>str</td>\n",
       "      <td>0</td>\n",
       "      <td>7</td>\n",
       "    </tr>\n",
       "    <tr>\n",
       "      <th>Month</th>\n",
       "      <td>str</td>\n",
       "      <td>0</td>\n",
       "      <td>12</td>\n",
       "    </tr>\n",
       "    <tr>\n",
       "      <th>Day</th>\n",
       "      <td>str</td>\n",
       "      <td>0</td>\n",
       "      <td>31</td>\n",
       "    </tr>\n",
       "  </tbody>\n",
       "</table>\n",
       "</div>"
      ],
      "text/plain": [
       "         Data Type  Missing Values  Unique Values\n",
       "id           int64               0         221259\n",
       "country        str               0              6\n",
       "store          str               0              3\n",
       "product        str               0              5\n",
       "num_sold   float64               0           4037\n",
       "Year           str               0              7\n",
       "Month          str               0             12\n",
       "Day            str               0             31"
      ]
     },
     "execution_count": 8,
     "metadata": {},
     "output_type": "execute_result"
    }
   ],
   "source": [
    "df[['Year','Month','Day']] = df['date'].str.split('-',expand=True)\n",
    "df = df.drop('date',axis=1)\n",
    "comp_table = comparison_table(df)\n",
    "comp_table"
   ]
  },
  {
   "cell_type": "markdown",
   "id": "da1d863d",
   "metadata": {
    "papermill": {
     "duration": 0.006411,
     "end_time": "2025-01-19T18:22:40.560253",
     "exception": false,
     "start_time": "2025-01-19T18:22:40.553842",
     "status": "completed"
    },
    "tags": []
   },
   "source": [
    "### 0.2 Initial Observations of Features <a class=\"anchor\" id=\"chapter0_2\"></a>"
   ]
  },
  {
   "cell_type": "code",
   "execution_count": 9,
   "id": "6d970d16",
   "metadata": {
    "execution": {
     "iopub.execute_input": "2025-01-19T18:22:40.575417Z",
     "iopub.status.busy": "2025-01-19T18:22:40.574862Z",
     "iopub.status.idle": "2025-01-19T18:22:42.395356Z",
     "shell.execute_reply": "2025-01-19T18:22:42.394254Z"
    },
    "papermill": {
     "duration": 1.830347,
     "end_time": "2025-01-19T18:22:42.397359",
     "exception": false,
     "start_time": "2025-01-19T18:22:40.567012",
     "status": "completed"
    },
    "tags": []
   },
   "outputs": [],
   "source": [
    "import math\n",
    "import seaborn as sns\n",
    "import matplotlib.pyplot as plt"
   ]
  },
  {
   "cell_type": "markdown",
   "id": "9c433042",
   "metadata": {
    "papermill": {
     "duration": 0.006229,
     "end_time": "2025-01-19T18:22:42.410555",
     "exception": false,
     "start_time": "2025-01-19T18:22:42.404326",
     "status": "completed"
    },
    "tags": []
   },
   "source": [
    "Since there are really no viable numerical features, we will have to rely on other ways to determine correlation patterns."
   ]
  },
  {
   "cell_type": "code",
   "execution_count": 10,
   "id": "41c4c1fd",
   "metadata": {
    "execution": {
     "iopub.execute_input": "2025-01-19T18:22:42.424993Z",
     "iopub.status.busy": "2025-01-19T18:22:42.424497Z",
     "iopub.status.idle": "2025-01-19T18:22:45.461157Z",
     "shell.execute_reply": "2025-01-19T18:22:45.459942Z"
    },
    "papermill": {
     "duration": 3.046506,
     "end_time": "2025-01-19T18:22:45.463555",
     "exception": false,
     "start_time": "2025-01-19T18:22:42.417049",
     "status": "completed"
    },
    "tags": []
   },
   "outputs": [
    {
     "data": {
      "image/png": "[encoded data removed]",
      "text/plain": [
       "<Figure size 1200x800 with 6 Axes>"
      ]
     },
     "metadata": {},
     "output_type": "display_data"
    }
   ],
   "source": [
    "categorical_features = df.select_dtypes(include=['object']).columns\n",
    "cols = 3\n",
    "rows = math.ceil(len(categorical_features)/cols)\n",
    "\n",
    "fig,axes = plt.subplots(rows,cols,figsize=(12,rows*4))\n",
    "axes = axes.flatten()\n",
    "\n",
    "for i,feature in enumerate(categorical_features):\n",
    "    sns.boxplot(x=df[feature],y=df['num_sold'],ax=axes[i])\n",
    "    axes[i].set_title(f\"Distribution of num_sold by {feature}\")\n",
    "    axes[i].set_xlabel(feature)\n",
    "    axes[i].set_ylabel('num_sold')\n",
    "    axes[i].set_xticklabels(axes[i].get_xticklabels(),rotation=45,ha='right',wrap=True)\n",
    "\n",
    "for j in range(i+1,len(axes)):\n",
    "    fig.delaxes(axes[j])\n",
    "\n",
    "plt.tight_layout()\n",
    "plt.show()"
   ]
  },
  {
   "cell_type": "markdown",
   "id": "7bc77d86",
   "metadata": {
    "papermill": {
     "duration": 0.009308,
     "end_time": "2025-01-19T18:22:45.482715",
     "exception": false,
     "start_time": "2025-01-19T18:22:45.473407",
     "status": "completed"
    },
    "tags": []
   },
   "source": [
    "## 1. Initial Predictions & Model Testing <a class=\"anchor\" id=\"chapter1\"></a>"
   ]
  },
  {
   "cell_type": "code",
   "execution_count": 11,
   "id": "dbb95fc8",
   "metadata": {
    "execution": {
     "iopub.execute_input": "2025-01-19T18:22:45.503148Z",
     "iopub.status.busy": "2025-01-19T18:22:45.502747Z",
     "iopub.status.idle": "2025-01-19T18:22:46.611148Z",
     "shell.execute_reply": "2025-01-19T18:22:46.609965Z"
    },
    "papermill": {
     "duration": 1.120941,
     "end_time": "2025-01-19T18:22:46.613111",
     "exception": false,
     "start_time": "2025-01-19T18:22:45.492170",
     "status": "completed"
    },
    "tags": []
   },
   "outputs": [],
   "source": [
    "from xgboost import XGBRegressor\n",
    "from sklearn.ensemble import RandomForestRegressor\n",
    "from sklearn.linear_model import SGDRegressor\n",
    "from sklearn.compose import ColumnTransformer\n",
    "from sklearn.impute import SimpleImputer\n",
    "from sklearn.pipeline import Pipeline\n",
    "from sklearn.preprocessing import StandardScaler,OneHotEncoder,FunctionTransformer,PolynomialFeatures\n",
    "from sklearn.metrics import mean_absolute_percentage_error\n",
    "from sklearn.model_selection import train_test_split"
   ]
  },
  {
   "cell_type": "markdown",
   "id": "510e7bf4",
   "metadata": {
    "papermill": {
     "duration": 0.009757,
     "end_time": "2025-01-19T18:22:46.632794",
     "exception": false,
     "start_time": "2025-01-19T18:22:46.623037",
     "status": "completed"
    },
    "tags": []
   },
   "source": [
    "### 1.1 Build Initial Lists for Features <a class=\"anchor\" id=\"chapter1_1\"></a>"
   ]
  },
  {
   "cell_type": "code",
   "execution_count": 12,
   "id": "e36e4672",
   "metadata": {
    "execution": {
     "iopub.execute_input": "2025-01-19T18:22:46.653792Z",
     "iopub.status.busy": "2025-01-19T18:22:46.653379Z",
     "iopub.status.idle": "2025-01-19T18:22:46.661770Z",
     "shell.execute_reply": "2025-01-19T18:22:46.660603Z"
    },
    "papermill": {
     "duration": 0.020985,
     "end_time": "2025-01-19T18:22:46.663555",
     "exception": false,
     "start_time": "2025-01-19T18:22:46.642570",
     "status": "completed"
    },
    "tags": []
   },
   "outputs": [
    {
     "data": {
      "text/plain": [
       "{'Categorical Features': ['country',\n",
       "  'store',\n",
       "  'product',\n",
       "  'Year',\n",
       "  'Month',\n",
       "  'Day']}"
      ]
     },
     "execution_count": 12,
     "metadata": {},
     "output_type": "execute_result"
    }
   ],
   "source": [
    "# since there are no numerical values we will be testing, \\\n",
    "# at first at least we should just build out the categorical features list and pass that along\n",
    "categorical_features = []\n",
    "\n",
    "for feature in comp_table.index:\n",
    "    if feature != 'id' and feature != 'num_sold':\n",
    "        row = comp_table.loc[feature]\n",
    "        if row['Data Type'] in ['str']:\n",
    "            categorical_features.append(feature)\n",
    "\n",
    "features = {\n",
    "    'Categorical Features':categorical_features\n",
    "}\n",
    "\n",
    "features"
   ]
  },
  {
   "cell_type": "markdown",
   "id": "ea56d365",
   "metadata": {
    "papermill": {
     "duration": 0.009695,
     "end_time": "2025-01-19T18:22:46.683134",
     "exception": false,
     "start_time": "2025-01-19T18:22:46.673439",
     "status": "completed"
    },
    "tags": []
   },
   "source": [
    "### 1.2 Build out Functions to Fit and Score Models <a class=\"anchor\" id=\"chapter1_2\"></a>"
   ]
  },
  {
   "cell_type": "code",
   "execution_count": 13,
   "id": "5c77e20f",
   "metadata": {
    "execution": {
     "iopub.execute_input": "2025-01-19T18:22:46.704374Z",
     "iopub.status.busy": "2025-01-19T18:22:46.704004Z",
     "iopub.status.idle": "2025-01-19T18:22:46.709727Z",
     "shell.execute_reply": "2025-01-19T18:22:46.708290Z"
    },
    "papermill": {
     "duration": 0.018385,
     "end_time": "2025-01-19T18:22:46.711558",
     "exception": false,
     "start_time": "2025-01-19T18:22:46.693173",
     "status": "completed"
    },
    "tags": []
   },
   "outputs": [],
   "source": [
    "def make_pipeline(features,model_object):\n",
    "    preprocessor = ColumnTransformer(transformers=[\n",
    "        ('cat',Pipeline([\n",
    "            ('imputer',SimpleImputer(strategy='most_frequent')),\n",
    "            ('onehot',OneHotEncoder(drop='first',handle_unknown='ignore'))\n",
    "        ]),features['Categorical Features'])\n",
    "    ])\n",
    "    return Pipeline(steps=[\n",
    "        ('preprocessor',preprocessor),\n",
    "        ('estimator',model_object)\n",
    "    ])"
   ]
  },
  {
   "cell_type": "code",
   "execution_count": 14,
   "id": "cfc4023e",
   "metadata": {
    "execution": {
     "iopub.execute_input": "2025-01-19T18:22:46.732647Z",
     "iopub.status.busy": "2025-01-19T18:22:46.732233Z",
     "iopub.status.idle": "2025-01-19T18:22:46.746303Z",
     "shell.execute_reply": "2025-01-19T18:22:46.745319Z"
    },
    "papermill": {
     "duration": 0.026582,
     "end_time": "2025-01-19T18:22:46.748084",
     "exception": false,
     "start_time": "2025-01-19T18:22:46.721502",
     "status": "completed"
    },
    "tags": []
   },
   "outputs": [
    {
     "data": {
      "text/plain": [
       "{'RandomForestRegressor_page': {'model': RandomForestRegressor(random_state=42)},\n",
       " 'SGDRegressor_page': {'model': SGDRegressor(random_state=42)},\n",
       " 'XGBRegressor_page': {'model': XGBRegressor(base_score=None, booster=None, callbacks=None,\n",
       "               colsample_bylevel=None, colsample_bynode=None,\n",
       "               colsample_bytree=None, device=None, early_stopping_rounds=None,\n",
       "               enable_categorical=False, eval_metric=None, feature_types=None,\n",
       "               gamma=None, grow_policy=None, importance_type=None,\n",
       "               interaction_constraints=None, learning_rate=None, max_bin=None,\n",
       "               max_cat_threshold=None, max_cat_to_onehot=None,\n",
       "               max_delta_step=None, max_depth=None, max_leaves=None,\n",
       "               min_child_weight=None, missing=nan, monotone_constraints=None,\n",
       "               multi_strategy=None, n_estimators=None, n_jobs=None,\n",
       "               num_parallel_tree=None, random_state=42, ...)}}"
      ]
     },
     "execution_count": 14,
     "metadata": {},
     "output_type": "execute_result"
    }
   ],
   "source": [
    "abacuss = {\n",
    "    'RandomForestRegressor_page':{\n",
    "        'model':RandomForestRegressor(random_state=42)\n",
    "    },\n",
    "    'SGDRegressor_page':{\n",
    "        'model':SGDRegressor(random_state=42)\n",
    "    },\n",
    "    'XGBRegressor_page':{\n",
    "        'model':XGBRegressor(random_state=42)\n",
    "    }\n",
    "}\n",
    "\n",
    "abacuss"
   ]
  },
  {
   "cell_type": "code",
   "execution_count": 15,
   "id": "1a3cf333",
   "metadata": {
    "execution": {
     "iopub.execute_input": "2025-01-19T18:22:46.769082Z",
     "iopub.status.busy": "2025-01-19T18:22:46.768736Z",
     "iopub.status.idle": "2025-01-19T18:22:46.917869Z",
     "shell.execute_reply": "2025-01-19T18:22:46.916702Z"
    },
    "papermill": {
     "duration": 0.162025,
     "end_time": "2025-01-19T18:22:46.919990",
     "exception": false,
     "start_time": "2025-01-19T18:22:46.757965",
     "status": "completed"
    },
    "tags": []
   },
   "outputs": [
    {
     "data": {
      "text/plain": [
       "((177007, 7), (44252, 7), (177007,), (44252,))"
      ]
     },
     "execution_count": 15,
     "metadata": {},
     "output_type": "execute_result"
    }
   ],
   "source": [
    "X = df.drop('num_sold',axis=1)\n",
    "y = df['num_sold']\n",
    "\n",
    "X_train,X_val,y_train,y_val = train_test_split(X,y,test_size=0.2)\n",
    "\n",
    "(X_train.shape,X_val.shape,y_train.shape,y_val.shape)"
   ]
  },
  {
   "cell_type": "code",
   "execution_count": 16,
   "id": "0a098586",
   "metadata": {
    "execution": {
     "iopub.execute_input": "2025-01-19T18:22:46.942339Z",
     "iopub.status.busy": "2025-01-19T18:22:46.941936Z",
     "iopub.status.idle": "2025-01-19T18:22:46.947815Z",
     "shell.execute_reply": "2025-01-19T18:22:46.946586Z"
    },
    "papermill": {
     "duration": 0.018879,
     "end_time": "2025-01-19T18:22:46.949565",
     "exception": false,
     "start_time": "2025-01-19T18:22:46.930686",
     "status": "completed"
    },
    "tags": []
   },
   "outputs": [],
   "source": [
    "model_scores = {}\n",
    "\n",
    "def update_model_scores(\n",
    "    pipeline,\n",
    "    X_train,\n",
    "    X_val,\n",
    "    model_tag,\n",
    "    model_scores=model_scores,\n",
    "    tuned_tag='baseline'\n",
    "):\n",
    "    preds = pipeline.predict(X_val)\n",
    "    model_scores.update({\n",
    "        f'{model_tag} {tuned_tag}':{\n",
    "            'accuracy':pipeline.score(X_val,y_val),\n",
    "            'MAPE':mean_absolute_percentage_error(y_val,preds),\n",
    "            'pipeline':pipeline\n",
    "        }\n",
    "    })\n",
    "    return model_scores"
   ]
  },
  {
   "cell_type": "code",
   "execution_count": 17,
   "id": "2c887b7f",
   "metadata": {
    "execution": {
     "iopub.execute_input": "2025-01-19T18:22:46.971074Z",
     "iopub.status.busy": "2025-01-19T18:22:46.970655Z",
     "iopub.status.idle": "2025-01-19T18:50:20.424550Z",
     "shell.execute_reply": "2025-01-19T18:50:20.423427Z"
    },
    "papermill": {
     "duration": 1653.467696,
     "end_time": "2025-01-19T18:50:20.427387",
     "exception": false,
     "start_time": "2025-01-19T18:22:46.959691",
     "status": "completed"
    },
    "tags": []
   },
   "outputs": [],
   "source": [
    "for page in abacuss:\n",
    "    pipeline = make_pipeline(features,abacuss[page]['model'])\n",
    "    pipeline.fit(X_train,y_train)\n",
    "    model_scores = update_model_scores(pipeline,X_train,X_val,page)"
   ]
  },
  {
   "cell_type": "code",
   "execution_count": 18,
   "id": "1d8aac88",
   "metadata": {
    "execution": {
     "iopub.execute_input": "2025-01-19T18:50:20.453276Z",
     "iopub.status.busy": "2025-01-19T18:50:20.452912Z",
     "iopub.status.idle": "2025-01-19T18:50:20.690941Z",
     "shell.execute_reply": "2025-01-19T18:50:20.689807Z"
    },
    "papermill": {
     "duration": 0.251341,
     "end_time": "2025-01-19T18:50:20.692604",
     "exception": false,
     "start_time": "2025-01-19T18:50:20.441263",
     "status": "completed"
    },
    "tags": []
   },
   "outputs": [
    {
     "data": {
      "text/plain": [
       "<Axes: >"
      ]
     },
     "execution_count": 18,
     "metadata": {},
     "output_type": "execute_result"
    },
    {
     "data": {
      "image/png": "[encoded data removed]",
      "text/plain": [
       "<Figure size 640x480 with 1 Axes>"
      ]
     },
     "metadata": {},
     "output_type": "display_data"
    }
   ],
   "source": [
    "stat_to_map = 'MAPE'\n",
    "model_compare = pd.DataFrame(model_scores,index=[stat_to_map])\n",
    "model_compare.T.sort_values(stat_to_map,ascending=False).plot.bar()"
   ]
  },
  {
   "cell_type": "code",
   "execution_count": null,
   "id": "8fa534fc",
   "metadata": {
    "papermill": {
     "duration": 0.010342,
     "end_time": "2025-01-19T18:50:20.713551",
     "exception": false,
     "start_time": "2025-01-19T18:50:20.703209",
     "status": "completed"
    },
    "tags": []
   },
   "outputs": [],
   "source": []
  }
 ],
 "metadata": {
  "kaggle": {
   "accelerator": "none",
   "dataSources": [
    {
     "databundleVersionId": 10652996,
     "sourceId": 85723,
     "sourceType": "competition"
    }
   ],
   "dockerImageVersionId": 30839,
   "isGpuEnabled": false,
   "isInternetEnabled": true,
   "language": "python",
   "sourceType": "notebook"
  },
  "kernelspec": {
   "display_name": "Python 3",
   "language": "python",
   "name": "python3"
  },
  "language_info": {
   "codemirror_mode": {
    "name": "ipython",
    "version": 3
   },
   "file_extension": ".py",
   "mimetype": "text/x-python",
   "name": "python",
   "nbconvert_exporter": "python",
   "pygments_lexer": "ipython3",
   "version": "3.10.12"
  },
  "papermill": {
   "default_parameters": {},
   "duration": 1667.099655,
   "end_time": "2025-01-19T18:50:21.848807",
   "environment_variables": {},
   "exception": null,
   "input_path": "__notebook__.ipynb",
   "output_path": "__notebook__.ipynb",
   "parameters": {},
   "start_time": "2025-01-19T18:22:34.749152",
   "version": "2.6.0"
  }
 },
 "nbformat": 4,
 "nbformat_minor": 5
}
